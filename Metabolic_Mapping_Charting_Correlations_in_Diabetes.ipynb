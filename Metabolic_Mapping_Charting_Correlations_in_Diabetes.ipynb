{
  "nbformat": 4,
  "nbformat_minor": 0,
  "metadata": {
    "colab": {
      "provenance": []
    },
    "kernelspec": {
      "name": "python3",
      "display_name": "Python 3"
    },
    "language_info": {
      "name": "python"
    }
  },
  "cells": [
    {
      "cell_type": "markdown",
      "source": [
        "#Metabolic Mapping: Charting Correlations in Diabetes\n",
        "\n",
        "By: Rucha Deo
      ],
      "metadata": {
        "id": "1WlTh0JzziUO"
      }
    },
    {
      "cell_type": "markdown",
      "source": [
        "Diabetes is among the most prevalent chronic diseases in the United States, impacting millions of Americans each year and exerting a significant financial burden on the economy. Diabetes is a serious chronic disease in which individuals lose the ability to effectively regulate levels of glucose in the blood, and can lead to reduced quality of life and life expectancy.\n",
        "\n",
        "The Behavioral Risk Factor Surveillance System (BRFSS) is a health-related telephone survey that is collected annually by the CDC. Each year, the survey collects responses from over 400,000 Americans on health-related risk behaviors, chronic health conditions, and the use of preventative services. It has been conducted every year since 1984. This dataset is a randomly selection of 5,000 surveys collected from 2015.\n",
        "\n",
        "Here are the descriptions of the data:\n",
        "\n",
        "- `Diabetes_012`: diagnosis, `0` = no diabetes, `1` = prediabetes, `2` = diabetes\n",
        "- `HighBP`: high blood pressure, `0` = no high, BP `1` = high BP\n",
        "- `HighChol`: high cholesterol, `0` = no high cholesterol, `1` = high cholesterol\n",
        "- `CholCheck`: cholesterol check, `0` = no cholesterol check in 5 years, `1` = yes cholesterol check in 5 years\n",
        "- `BMI`: Body Mass Index\n",
        "- `Smoker`: smoked at least 100 cigarettes in your entire life, `0` = no, `1` = yes\n",
        "- `Stroke`: had a stroke before, `0` = no, `1` = yes\n",
        "- `HeartDiseaseorAttack`: coronary heart disease (CHD) or myocardial infarction (MI), `0` = no, `1` = yes\n",
        "- `PhysActivity`: physical activity in past `30` days - not including job, `0` = no, `1` = yes\n",
        "- `Fruits`: Consume Fruit 1 or more times per day, `0` = no, `1` = yes\n",
        "- `Veggies`: Consume Vegetables 1 or more times per day, `0` = no, `1` = yes\n",
        "- `HvyAlcoholConsump`: Heavy drinkers (adult men having more than 14 drinks per week and adult women having more than `7` drinks per week), `0` = no, `1` = yes\n",
        "- `AnyHealthcare`: Have any kind of health care coverage, including health insurance, prepaid plans such as HMO, etc. `0` = no, `1` = yes\n",
        "- `GenHlth`: self-evaluation of health - scale `1-5`, `1` = excellent, `2` = very good, `3` = good, `4` = fair, `5` = poor\n",
        "- `DiffWalk`: Have serious difficulty walking or climbing stairs, `0` = no, `1` = yes\n",
        "- `Sex`: Gender, `0` = female, `1` = male\n",
        "- `Age`: 13-level age category, `1` = `18-24`, `9` = `60-64`, `13` = `80 or older`\n",
        "- `Education`: Education level, scale `1-6`, `1` = Never attended school or only kindergarten, `2` = Grades 1 through 8 (Elementary), `3` = Grades 9 through 11 (Some high school), `4` = Grade 12 or GED (High school graduate), `5` = College 1 year to 3 years (Some college or technical school), `6` = College 4 years or more (College graduate)\n",
        "- `Income`: Income scale, scale `1-8`, `1` = less than `$10,000`, `5` = less than `$35,000`, `8` = `$75,000` or more\n"
      ],
      "metadata": {
        "id": "kilcxi0FRTJg"
      }
    },
    {
      "cell_type": "code",
      "execution_count": null,
      "metadata": {
        "colab": {
          "base_uri": "https://localhost:8080/",
          "height": 443
        },
        "id": "aLY7EJQcRLy9",
        "outputId": "62f86b29-cf79-420d-a18d-d783ac0acafe"
      },
      "outputs": [
        {
          "output_type": "execute_result",
          "data": {
            "text/plain": [
              "      Diabetes_012  HighBP  HighChol  CholCheck   BMI  Smoker  Stroke  \\\n",
              "0              0.0     0.0       1.0        1.0  25.0     1.0     0.0   \n",
              "1              0.0     0.0       0.0        1.0  28.0     0.0     0.0   \n",
              "2              0.0     0.0       0.0        1.0  25.0     1.0     0.0   \n",
              "3              0.0     0.0       1.0        1.0  27.0     0.0     0.0   \n",
              "4              0.0     0.0       0.0        1.0  27.0     0.0     0.0   \n",
              "...            ...     ...       ...        ...   ...     ...     ...   \n",
              "4995           0.0     0.0       0.0        1.0  21.0     0.0     0.0   \n",
              "4996           0.0     1.0       1.0        1.0  22.0     0.0     0.0   \n",
              "4997           0.0     0.0       1.0        1.0  26.0     0.0     0.0   \n",
              "4998           0.0     1.0       0.0        1.0  41.0     0.0     0.0   \n",
              "4999           0.0     0.0       0.0        1.0  26.0     0.0     0.0   \n",
              "\n",
              "      HeartDiseaseorAttack  PhysActivity  Fruits  Veggies  HvyAlcoholConsump  \\\n",
              "0                      0.0           1.0     0.0      1.0                0.0   \n",
              "1                      0.0           1.0     1.0      1.0                0.0   \n",
              "2                      0.0           1.0     0.0      1.0                0.0   \n",
              "3                      0.0           1.0     1.0      1.0                0.0   \n",
              "4                      0.0           1.0     1.0      0.0                0.0   \n",
              "...                    ...           ...     ...      ...                ...   \n",
              "4995                   0.0           0.0     0.0      1.0                0.0   \n",
              "4996                   0.0           1.0     0.0      1.0                0.0   \n",
              "4997                   0.0           0.0     0.0      1.0                0.0   \n",
              "4998                   0.0           1.0     0.0      1.0                0.0   \n",
              "4999                   0.0           0.0     1.0      1.0                0.0   \n",
              "\n",
              "      AnyHealthcare  GenHlth  DiffWalk  Sex   Age  Education  Income  \n",
              "0               1.0      2.0       0.0  0.0   7.0        5.0     8.0  \n",
              "1               1.0      2.0       0.0  1.0   6.0        6.0     8.0  \n",
              "2               0.0      3.0       0.0  0.0   7.0        4.0     6.0  \n",
              "3               1.0      2.0       0.0  1.0   9.0        5.0     8.0  \n",
              "4               1.0      2.0       0.0  0.0   7.0        4.0     3.0  \n",
              "...             ...      ...       ...  ...   ...        ...     ...  \n",
              "4995            1.0      1.0       0.0  0.0   3.0        6.0     3.0  \n",
              "4996            1.0      3.0       0.0  0.0   9.0        5.0     8.0  \n",
              "4997            1.0      2.0       0.0  1.0   8.0        5.0     8.0  \n",
              "4998            1.0      3.0       0.0  0.0   6.0        5.0     5.0  \n",
              "4999            1.0      2.0       0.0  0.0  11.0        4.0     3.0  \n",
              "\n",
              "[5000 rows x 19 columns]"
            ],
            "text/html": [
              "\n",
              "  <div id=\"df-048908d5-ac55-491e-9241-6c5f9fc69d95\" class=\"colab-df-container\">\n",
              "    <div>\n",
              "<style scoped>\n",
              "    .dataframe tbody tr th:only-of-type {\n",
              "        vertical-align: middle;\n",
              "    }\n",
              "\n",
              "    .dataframe tbody tr th {\n",
              "        vertical-align: top;\n",
              "    }\n",
              "\n",
              "    .dataframe thead th {\n",
              "        text-align: right;\n",
              "    }\n",
              "</style>\n",
              "<table border=\"1\" class=\"dataframe\">\n",
              "  <thead>\n",
              "    <tr style=\"text-align: right;\">\n",
              "      <th></th>\n",
              "      <th>Diabetes_012</th>\n",
              "      <th>HighBP</th>\n",
              "      <th>HighChol</th>\n",
              "      <th>CholCheck</th>\n",
              "      <th>BMI</th>\n",
              "      <th>Smoker</th>\n",
              "      <th>Stroke</th>\n",
              "      <th>HeartDiseaseorAttack</th>\n",
              "      <th>PhysActivity</th>\n",
              "      <th>Fruits</th>\n",
              "      <th>Veggies</th>\n",
              "      <th>HvyAlcoholConsump</th>\n",
              "      <th>AnyHealthcare</th>\n",
              "      <th>GenHlth</th>\n",
              "      <th>DiffWalk</th>\n",
              "      <th>Sex</th>\n",
              "      <th>Age</th>\n",
              "      <th>Education</th>\n",
              "      <th>Income</th>\n",
              "    </tr>\n",
              "  </thead>\n",
              "  <tbody>\n",
              "    <tr>\n",
              "      <th>0</th>\n",
              "      <td>0.0</td>\n",
              "      <td>0.0</td>\n",
              "      <td>1.0</td>\n",
              "      <td>1.0</td>\n",
              "      <td>25.0</td>\n",
              "      <td>1.0</td>\n",
              "      <td>0.0</td>\n",
              "      <td>0.0</td>\n",
              "      <td>1.0</td>\n",
              "      <td>0.0</td>\n",
              "      <td>1.0</td>\n",
              "      <td>0.0</td>\n",
              "      <td>1.0</td>\n",
              "      <td>2.0</td>\n",
              "      <td>0.0</td>\n",
              "      <td>0.0</td>\n",
              "      <td>7.0</td>\n",
              "      <td>5.0</td>\n",
              "      <td>8.0</td>\n",
              "    </tr>\n",
              "    <tr>\n",
              "      <th>1</th>\n",
              "      <td>0.0</td>\n",
              "      <td>0.0</td>\n",
              "      <td>0.0</td>\n",
              "      <td>1.0</td>\n",
              "      <td>28.0</td>\n",
              "      <td>0.0</td>\n",
              "      <td>0.0</td>\n",
              "      <td>0.0</td>\n",
              "      <td>1.0</td>\n",
              "      <td>1.0</td>\n",
              "      <td>1.0</td>\n",
              "      <td>0.0</td>\n",
              "      <td>1.0</td>\n",
              "      <td>2.0</td>\n",
              "      <td>0.0</td>\n",
              "      <td>1.0</td>\n",
              "      <td>6.0</td>\n",
              "      <td>6.0</td>\n",
              "      <td>8.0</td>\n",
              "    </tr>\n",
              "    <tr>\n",
              "      <th>2</th>\n",
              "      <td>0.0</td>\n",
              "      <td>0.0</td>\n",
              "      <td>0.0</td>\n",
              "      <td>1.0</td>\n",
              "      <td>25.0</td>\n",
              "      <td>1.0</td>\n",
              "      <td>0.0</td>\n",
              "      <td>0.0</td>\n",
              "      <td>1.0</td>\n",
              "      <td>0.0</td>\n",
              "      <td>1.0</td>\n",
              "      <td>0.0</td>\n",
              "      <td>0.0</td>\n",
              "      <td>3.0</td>\n",
              "      <td>0.0</td>\n",
              "      <td>0.0</td>\n",
              "      <td>7.0</td>\n",
              "      <td>4.0</td>\n",
              "      <td>6.0</td>\n",
              "    </tr>\n",
              "    <tr>\n",
              "      <th>3</th>\n",
              "      <td>0.0</td>\n",
              "      <td>0.0</td>\n",
              "      <td>1.0</td>\n",
              "      <td>1.0</td>\n",
              "      <td>27.0</td>\n",
              "      <td>0.0</td>\n",
              "      <td>0.0</td>\n",
              "      <td>0.0</td>\n",
              "      <td>1.0</td>\n",
              "      <td>1.0</td>\n",
              "      <td>1.0</td>\n",
              "      <td>0.0</td>\n",
              "      <td>1.0</td>\n",
              "      <td>2.0</td>\n",
              "      <td>0.0</td>\n",
              "      <td>1.0</td>\n",
              "      <td>9.0</td>\n",
              "      <td>5.0</td>\n",
              "      <td>8.0</td>\n",
              "    </tr>\n",
              "    <tr>\n",
              "      <th>4</th>\n",
              "      <td>0.0</td>\n",
              "      <td>0.0</td>\n",
              "      <td>0.0</td>\n",
              "      <td>1.0</td>\n",
              "      <td>27.0</td>\n",
              "      <td>0.0</td>\n",
              "      <td>0.0</td>\n",
              "      <td>0.0</td>\n",
              "      <td>1.0</td>\n",
              "      <td>1.0</td>\n",
              "      <td>0.0</td>\n",
              "      <td>0.0</td>\n",
              "      <td>1.0</td>\n",
              "      <td>2.0</td>\n",
              "      <td>0.0</td>\n",
              "      <td>0.0</td>\n",
              "      <td>7.0</td>\n",
              "      <td>4.0</td>\n",
              "      <td>3.0</td>\n",
              "    </tr>\n",
              "    <tr>\n",
              "      <th>...</th>\n",
              "      <td>...</td>\n",
              "      <td>...</td>\n",
              "      <td>...</td>\n",
              "      <td>...</td>\n",
              "      <td>...</td>\n",
              "      <td>...</td>\n",
              "      <td>...</td>\n",
              "      <td>...</td>\n",
              "      <td>...</td>\n",
              "      <td>...</td>\n",
              "      <td>...</td>\n",
              "      <td>...</td>\n",
              "      <td>...</td>\n",
              "      <td>...</td>\n",
              "      <td>...</td>\n",
              "      <td>...</td>\n",
              "      <td>...</td>\n",
              "      <td>...</td>\n",
              "      <td>...</td>\n",
              "    </tr>\n",
              "    <tr>\n",
              "      <th>4995</th>\n",
              "      <td>0.0</td>\n",
              "      <td>0.0</td>\n",
              "      <td>0.0</td>\n",
              "      <td>1.0</td>\n",
              "      <td>21.0</td>\n",
              "      <td>0.0</td>\n",
              "      <td>0.0</td>\n",
              "      <td>0.0</td>\n",
              "      <td>0.0</td>\n",
              "      <td>0.0</td>\n",
              "      <td>1.0</td>\n",
              "      <td>0.0</td>\n",
              "      <td>1.0</td>\n",
              "      <td>1.0</td>\n",
              "      <td>0.0</td>\n",
              "      <td>0.0</td>\n",
              "      <td>3.0</td>\n",
              "      <td>6.0</td>\n",
              "      <td>3.0</td>\n",
              "    </tr>\n",
              "    <tr>\n",
              "      <th>4996</th>\n",
              "      <td>0.0</td>\n",
              "      <td>1.0</td>\n",
              "      <td>1.0</td>\n",
              "      <td>1.0</td>\n",
              "      <td>22.0</td>\n",
              "      <td>0.0</td>\n",
              "      <td>0.0</td>\n",
              "      <td>0.0</td>\n",
              "      <td>1.0</td>\n",
              "      <td>0.0</td>\n",
              "      <td>1.0</td>\n",
              "      <td>0.0</td>\n",
              "      <td>1.0</td>\n",
              "      <td>3.0</td>\n",
              "      <td>0.0</td>\n",
              "      <td>0.0</td>\n",
              "      <td>9.0</td>\n",
              "      <td>5.0</td>\n",
              "      <td>8.0</td>\n",
              "    </tr>\n",
              "    <tr>\n",
              "      <th>4997</th>\n",
              "      <td>0.0</td>\n",
              "      <td>0.0</td>\n",
              "      <td>1.0</td>\n",
              "      <td>1.0</td>\n",
              "      <td>26.0</td>\n",
              "      <td>0.0</td>\n",
              "      <td>0.0</td>\n",
              "      <td>0.0</td>\n",
              "      <td>0.0</td>\n",
              "      <td>0.0</td>\n",
              "      <td>1.0</td>\n",
              "      <td>0.0</td>\n",
              "      <td>1.0</td>\n",
              "      <td>2.0</td>\n",
              "      <td>0.0</td>\n",
              "      <td>1.0</td>\n",
              "      <td>8.0</td>\n",
              "      <td>5.0</td>\n",
              "      <td>8.0</td>\n",
              "    </tr>\n",
              "    <tr>\n",
              "      <th>4998</th>\n",
              "      <td>0.0</td>\n",
              "      <td>1.0</td>\n",
              "      <td>0.0</td>\n",
              "      <td>1.0</td>\n",
              "      <td>41.0</td>\n",
              "      <td>0.0</td>\n",
              "      <td>0.0</td>\n",
              "      <td>0.0</td>\n",
              "      <td>1.0</td>\n",
              "      <td>0.0</td>\n",
              "      <td>1.0</td>\n",
              "      <td>0.0</td>\n",
              "      <td>1.0</td>\n",
              "      <td>3.0</td>\n",
              "      <td>0.0</td>\n",
              "      <td>0.0</td>\n",
              "      <td>6.0</td>\n",
              "      <td>5.0</td>\n",
              "      <td>5.0</td>\n",
              "    </tr>\n",
              "    <tr>\n",
              "      <th>4999</th>\n",
              "      <td>0.0</td>\n",
              "      <td>0.0</td>\n",
              "      <td>0.0</td>\n",
              "      <td>1.0</td>\n",
              "      <td>26.0</td>\n",
              "      <td>0.0</td>\n",
              "      <td>0.0</td>\n",
              "      <td>0.0</td>\n",
              "      <td>0.0</td>\n",
              "      <td>1.0</td>\n",
              "      <td>1.0</td>\n",
              "      <td>0.0</td>\n",
              "      <td>1.0</td>\n",
              "      <td>2.0</td>\n",
              "      <td>0.0</td>\n",
              "      <td>0.0</td>\n",
              "      <td>11.0</td>\n",
              "      <td>4.0</td>\n",
              "      <td>3.0</td>\n",
              "    </tr>\n",
              "  </tbody>\n",
              "</table>\n",
              "<p>5000 rows × 19 columns</p>\n",
              "</div>\n",
              "    <div class=\"colab-df-buttons\">\n",
              "\n",
              "  <div class=\"colab-df-container\">\n",
              "    <button class=\"colab-df-convert\" onclick=\"convertToInteractive('df-048908d5-ac55-491e-9241-6c5f9fc69d95')\"\n",
              "            title=\"Convert this dataframe to an interactive table.\"\n",
              "            style=\"display:none;\">\n",
              "\n",
              "  <svg xmlns=\"http://www.w3.org/2000/svg\" height=\"24px\" viewBox=\"0 -960 960 960\">\n",
              "    <path d=\"M120-120v-720h720v720H120Zm60-500h600v-160H180v160Zm220 220h160v-160H400v160Zm0 220h160v-160H400v160ZM180-400h160v-160H180v160Zm440 0h160v-160H620v160ZM180-180h160v-160H180v160Zm440 0h160v-160H620v160Z\"/>\n",
              "  </svg>\n",
              "    </button>\n",
              "\n",
              "  <style>\n",
              "    .colab-df-container {\n",
              "      display:flex;\n",
              "      gap: 12px;\n",
              "    }\n",
              "\n",
              "    .colab-df-convert {\n",
              "      background-color: #E8F0FE;\n",
              "      border: none;\n",
              "      border-radius: 50%;\n",
              "      cursor: pointer;\n",
              "      display: none;\n",
              "      fill: #1967D2;\n",
              "      height: 32px;\n",
              "      padding: 0 0 0 0;\n",
              "      width: 32px;\n",
              "    }\n",
              "\n",
              "    .colab-df-convert:hover {\n",
              "      background-color: #E2EBFA;\n",
              "      box-shadow: 0px 1px 2px rgba(60, 64, 67, 0.3), 0px 1px 3px 1px rgba(60, 64, 67, 0.15);\n",
              "      fill: #174EA6;\n",
              "    }\n",
              "\n",
              "    .colab-df-buttons div {\n",
              "      margin-bottom: 4px;\n",
              "    }\n",
              "\n",
              "    [theme=dark] .colab-df-convert {\n",
              "      background-color: #3B4455;\n",
              "      fill: #D2E3FC;\n",
              "    }\n",
              "\n",
              "    [theme=dark] .colab-df-convert:hover {\n",
              "      background-color: #434B5C;\n",
              "      box-shadow: 0px 1px 3px 1px rgba(0, 0, 0, 0.15);\n",
              "      filter: drop-shadow(0px 1px 2px rgba(0, 0, 0, 0.3));\n",
              "      fill: #FFFFFF;\n",
              "    }\n",
              "  </style>\n",
              "\n",
              "    <script>\n",
              "      const buttonEl =\n",
              "        document.querySelector('#df-048908d5-ac55-491e-9241-6c5f9fc69d95 button.colab-df-convert');\n",
              "      buttonEl.style.display =\n",
              "        google.colab.kernel.accessAllowed ? 'block' : 'none';\n",
              "\n",
              "      async function convertToInteractive(key) {\n",
              "        const element = document.querySelector('#df-048908d5-ac55-491e-9241-6c5f9fc69d95');\n",
              "        const dataTable =\n",
              "          await google.colab.kernel.invokeFunction('convertToInteractive',\n",
              "                                                    [key], {});\n",
              "        if (!dataTable) return;\n",
              "\n",
              "        const docLinkHtml = 'Like what you see? Visit the ' +\n",
              "          '<a target=\"_blank\" href=https://colab.research.google.com/notebooks/data_table.ipynb>data table notebook</a>'\n",
              "          + ' to learn more about interactive tables.';\n",
              "        element.innerHTML = '';\n",
              "        dataTable['output_type'] = 'display_data';\n",
              "        await google.colab.output.renderOutput(dataTable, element);\n",
              "        const docLink = document.createElement('div');\n",
              "        docLink.innerHTML = docLinkHtml;\n",
              "        element.appendChild(docLink);\n",
              "      }\n",
              "    </script>\n",
              "  </div>\n",
              "\n",
              "\n",
              "<div id=\"df-edb7481d-3ff2-4cfe-af63-bfcaff878bc3\">\n",
              "  <button class=\"colab-df-quickchart\" onclick=\"quickchart('df-edb7481d-3ff2-4cfe-af63-bfcaff878bc3')\"\n",
              "            title=\"Suggest charts\"\n",
              "            style=\"display:none;\">\n",
              "\n",
              "<svg xmlns=\"http://www.w3.org/2000/svg\" height=\"24px\"viewBox=\"0 0 24 24\"\n",
              "     width=\"24px\">\n",
              "    <g>\n",
              "        <path d=\"M19 3H5c-1.1 0-2 .9-2 2v14c0 1.1.9 2 2 2h14c1.1 0 2-.9 2-2V5c0-1.1-.9-2-2-2zM9 17H7v-7h2v7zm4 0h-2V7h2v10zm4 0h-2v-4h2v4z\"/>\n",
              "    </g>\n",
              "</svg>\n",
              "  </button>\n",
              "\n",
              "<style>\n",
              "  .colab-df-quickchart {\n",
              "      --bg-color: #E8F0FE;\n",
              "      --fill-color: #1967D2;\n",
              "      --hover-bg-color: #E2EBFA;\n",
              "      --hover-fill-color: #174EA6;\n",
              "      --disabled-fill-color: #AAA;\n",
              "      --disabled-bg-color: #DDD;\n",
              "  }\n",
              "\n",
              "  [theme=dark] .colab-df-quickchart {\n",
              "      --bg-color: #3B4455;\n",
              "      --fill-color: #D2E3FC;\n",
              "      --hover-bg-color: #434B5C;\n",
              "      --hover-fill-color: #FFFFFF;\n",
              "      --disabled-bg-color: #3B4455;\n",
              "      --disabled-fill-color: #666;\n",
              "  }\n",
              "\n",
              "  .colab-df-quickchart {\n",
              "    background-color: var(--bg-color);\n",
              "    border: none;\n",
              "    border-radius: 50%;\n",
              "    cursor: pointer;\n",
              "    display: none;\n",
              "    fill: var(--fill-color);\n",
              "    height: 32px;\n",
              "    padding: 0;\n",
              "    width: 32px;\n",
              "  }\n",
              "\n",
              "  .colab-df-quickchart:hover {\n",
              "    background-color: var(--hover-bg-color);\n",
              "    box-shadow: 0 1px 2px rgba(60, 64, 67, 0.3), 0 1px 3px 1px rgba(60, 64, 67, 0.15);\n",
              "    fill: var(--button-hover-fill-color);\n",
              "  }\n",
              "\n",
              "  .colab-df-quickchart-complete:disabled,\n",
              "  .colab-df-quickchart-complete:disabled:hover {\n",
              "    background-color: var(--disabled-bg-color);\n",
              "    fill: var(--disabled-fill-color);\n",
              "    box-shadow: none;\n",
              "  }\n",
              "\n",
              "  .colab-df-spinner {\n",
              "    border: 2px solid var(--fill-color);\n",
              "    border-color: transparent;\n",
              "    border-bottom-color: var(--fill-color);\n",
              "    animation:\n",
              "      spin 1s steps(1) infinite;\n",
              "  }\n",
              "\n",
              "  @keyframes spin {\n",
              "    0% {\n",
              "      border-color: transparent;\n",
              "      border-bottom-color: var(--fill-color);\n",
              "      border-left-color: var(--fill-color);\n",
              "    }\n",
              "    20% {\n",
              "      border-color: transparent;\n",
              "      border-left-color: var(--fill-color);\n",
              "      border-top-color: var(--fill-color);\n",
              "    }\n",
              "    30% {\n",
              "      border-color: transparent;\n",
              "      border-left-color: var(--fill-color);\n",
              "      border-top-color: var(--fill-color);\n",
              "      border-right-color: var(--fill-color);\n",
              "    }\n",
              "    40% {\n",
              "      border-color: transparent;\n",
              "      border-right-color: var(--fill-color);\n",
              "      border-top-color: var(--fill-color);\n",
              "    }\n",
              "    60% {\n",
              "      border-color: transparent;\n",
              "      border-right-color: var(--fill-color);\n",
              "    }\n",
              "    80% {\n",
              "      border-color: transparent;\n",
              "      border-right-color: var(--fill-color);\n",
              "      border-bottom-color: var(--fill-color);\n",
              "    }\n",
              "    90% {\n",
              "      border-color: transparent;\n",
              "      border-bottom-color: var(--fill-color);\n",
              "    }\n",
              "  }\n",
              "</style>\n",
              "\n",
              "  <script>\n",
              "    async function quickchart(key) {\n",
              "      const quickchartButtonEl =\n",
              "        document.querySelector('#' + key + ' button');\n",
              "      quickchartButtonEl.disabled = true;  // To prevent multiple clicks.\n",
              "      quickchartButtonEl.classList.add('colab-df-spinner');\n",
              "      try {\n",
              "        const charts = await google.colab.kernel.invokeFunction(\n",
              "            'suggestCharts', [key], {});\n",
              "      } catch (error) {\n",
              "        console.error('Error during call to suggestCharts:', error);\n",
              "      }\n",
              "      quickchartButtonEl.classList.remove('colab-df-spinner');\n",
              "      quickchartButtonEl.classList.add('colab-df-quickchart-complete');\n",
              "    }\n",
              "    (() => {\n",
              "      let quickchartButtonEl =\n",
              "        document.querySelector('#df-edb7481d-3ff2-4cfe-af63-bfcaff878bc3 button');\n",
              "      quickchartButtonEl.style.display =\n",
              "        google.colab.kernel.accessAllowed ? 'block' : 'none';\n",
              "    })();\n",
              "  </script>\n",
              "</div>\n",
              "    </div>\n",
              "  </div>\n"
            ]
          },
          "metadata": {},
          "execution_count": 1
        }
      ],
      "source": [
        "import pandas as pd\n",
        "\n",
        "data_url = 'https://raw.githubusercontent.com/csbfx/cs22a/main/diabetes5k.csv'\n",
        "df = pd.read_csv(data_url)\n",
        "df"
      ]
    },
    {
      "cell_type": "markdown",
      "source": [
        "Data Visualization"
      ],
      "metadata": {
        "id": "w9nu4bPNLYpl"
      }
    },
    {
      "source": [
        "from matplotlib import pyplot as plt\n",
        "df['Diabetes_012'].plot(kind='line', figsize=(8, 4), title='Diabetes_012')\n",
        "plt.gca().spines[['top', 'right']].set_visible(False)"
      ],
      "cell_type": "code",
      "metadata": {
        "id": "5UntF2m2UQgi",
        "colab": {
          "base_uri": "https://localhost:8080/",
          "height": 391
        },
        "outputId": "e952f95c-c730-4472-9d67-506315ad00d5"
      },
      "execution_count": null,
      "outputs": [
        {
          "output_type": "display_data",
          "data": {
            "text/plain": [
              "<Figure size 800x400 with 1 Axes>"
            ],
            "image/png": "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\n"
          },
          "metadata": {}
        }
      ]
    },
    {
      "cell_type": "code",
      "source": [
        "df.info()"
      ],
      "metadata": {
        "colab": {
          "base_uri": "https://localhost:8080/"
        },
        "id": "B64uIg1lRmTL",
        "outputId": "b3f79a77-61bc-4a7c-b032-b9a15e5593c8"
      },
      "execution_count": null,
      "outputs": [
        {
          "output_type": "stream",
          "name": "stdout",
          "text": [
            "<class 'pandas.core.frame.DataFrame'>\n",
            "RangeIndex: 5000 entries, 0 to 4999\n",
            "Data columns (total 19 columns):\n",
            " #   Column                Non-Null Count  Dtype  \n",
            "---  ------                --------------  -----  \n",
            " 0   Diabetes_012          5000 non-null   float64\n",
            " 1   HighBP                5000 non-null   float64\n",
            " 2   HighChol              5000 non-null   float64\n",
            " 3   CholCheck             5000 non-null   float64\n",
            " 4   BMI                   5000 non-null   float64\n",
            " 5   Smoker                5000 non-null   float64\n",
            " 6   Stroke                5000 non-null   float64\n",
            " 7   HeartDiseaseorAttack  5000 non-null   float64\n",
            " 8   PhysActivity          5000 non-null   float64\n",
            " 9   Fruits                5000 non-null   float64\n",
            " 10  Veggies               5000 non-null   float64\n",
            " 11  HvyAlcoholConsump     5000 non-null   float64\n",
            " 12  AnyHealthcare         5000 non-null   float64\n",
            " 13  GenHlth               5000 non-null   float64\n",
            " 14  DiffWalk              5000 non-null   float64\n",
            " 15  Sex                   5000 non-null   float64\n",
            " 16  Age                   5000 non-null   float64\n",
            " 17  Education             5000 non-null   float64\n",
            " 18  Income                5000 non-null   float64\n",
            "dtypes: float64(19)\n",
            "memory usage: 742.3 KB\n"
          ]
        }
      ]
    },
    {
      "cell_type": "code",
      "source": [
        "df.describe()"
      ],
      "metadata": {
        "colab": {
          "base_uri": "https://localhost:8080/",
          "height": 320
        },
        "id": "vaUhRClTRqbK",
        "outputId": "751b9658-c391-46c2-ab49-de7b91695ff8"
      },
      "execution_count": null,
      "outputs": [
        {
          "output_type": "execute_result",
          "data": {
            "text/plain": [
              "       Diabetes_012       HighBP     HighChol   CholCheck          BMI  \\\n",
              "count   5000.000000  5000.000000  5000.000000  5000.00000  5000.000000   \n",
              "mean       0.311600     0.427000     0.409200     0.95760    28.398000   \n",
              "std        0.711201     0.494692     0.491735     0.20152     6.529726   \n",
              "min        0.000000     0.000000     0.000000     0.00000    12.000000   \n",
              "25%        0.000000     0.000000     0.000000     1.00000    24.000000   \n",
              "50%        0.000000     0.000000     0.000000     1.00000    27.000000   \n",
              "75%        0.000000     1.000000     1.000000     1.00000    31.000000   \n",
              "max        2.000000     1.000000     1.000000     1.00000    98.000000   \n",
              "\n",
              "            Smoker       Stroke  HeartDiseaseorAttack  PhysActivity  \\\n",
              "count  5000.000000  5000.000000           5000.000000   5000.000000   \n",
              "mean      0.452800     0.043200              0.091800      0.759000   \n",
              "std       0.497817     0.203327              0.288772      0.427733   \n",
              "min       0.000000     0.000000              0.000000      0.000000   \n",
              "25%       0.000000     0.000000              0.000000      1.000000   \n",
              "50%       0.000000     0.000000              0.000000      1.000000   \n",
              "75%       1.000000     0.000000              0.000000      1.000000   \n",
              "max       1.000000     1.000000              1.000000      1.000000   \n",
              "\n",
              "            Fruits      Veggies  HvyAlcoholConsump  AnyHealthcare  \\\n",
              "count  5000.000000  5000.000000        5000.000000    5000.000000   \n",
              "mean      0.623200     0.820400           0.060800       0.948000   \n",
              "std       0.484633     0.383892           0.238987       0.222049   \n",
              "min       0.000000     0.000000           0.000000       0.000000   \n",
              "25%       0.000000     1.000000           0.000000       1.000000   \n",
              "50%       1.000000     1.000000           0.000000       1.000000   \n",
              "75%       1.000000     1.000000           0.000000       1.000000   \n",
              "max       1.000000     1.000000           1.000000       1.000000   \n",
              "\n",
              "           GenHlth     DiffWalk          Sex          Age    Education  \\\n",
              "count  5000.000000  5000.000000  5000.000000  5000.000000  5000.000000   \n",
              "mean      2.509400     0.154000     0.442400     8.035800     5.054800   \n",
              "std       1.066086     0.360985     0.496721     3.034726     0.977132   \n",
              "min       1.000000     0.000000     0.000000     1.000000     1.000000   \n",
              "25%       2.000000     0.000000     0.000000     6.000000     4.000000   \n",
              "50%       2.000000     0.000000     0.000000     8.000000     5.000000   \n",
              "75%       3.000000     0.000000     1.000000    10.000000     6.000000   \n",
              "max       5.000000     1.000000     1.000000    13.000000     6.000000   \n",
              "\n",
              "           Income  \n",
              "count  5000.00000  \n",
              "mean      6.08780  \n",
              "std       2.03463  \n",
              "min       1.00000  \n",
              "25%       5.00000  \n",
              "50%       7.00000  \n",
              "75%       8.00000  \n",
              "max       8.00000  "
            ],
            "text/html": [
              "\n",
              "  <div id=\"df-0a8506e3-4f70-4345-9352-7c35dcb41615\" class=\"colab-df-container\">\n",
              "    <div>\n",
              "<style scoped>\n",
              "    .dataframe tbody tr th:only-of-type {\n",
              "        vertical-align: middle;\n",
              "    }\n",
              "\n",
              "    .dataframe tbody tr th {\n",
              "        vertical-align: top;\n",
              "    }\n",
              "\n",
              "    .dataframe thead th {\n",
              "        text-align: right;\n",
              "    }\n",
              "</style>\n",
              "<table border=\"1\" class=\"dataframe\">\n",
              "  <thead>\n",
              "    <tr style=\"text-align: right;\">\n",
              "      <th></th>\n",
              "      <th>Diabetes_012</th>\n",
              "      <th>HighBP</th>\n",
              "      <th>HighChol</th>\n",
              "      <th>CholCheck</th>\n",
              "      <th>BMI</th>\n",
              "      <th>Smoker</th>\n",
              "      <th>Stroke</th>\n",
              "      <th>HeartDiseaseorAttack</th>\n",
              "      <th>PhysActivity</th>\n",
              "      <th>Fruits</th>\n",
              "      <th>Veggies</th>\n",
              "      <th>HvyAlcoholConsump</th>\n",
              "      <th>AnyHealthcare</th>\n",
              "      <th>GenHlth</th>\n",
              "      <th>DiffWalk</th>\n",
              "      <th>Sex</th>\n",
              "      <th>Age</th>\n",
              "      <th>Education</th>\n",
              "      <th>Income</th>\n",
              "    </tr>\n",
              "  </thead>\n",
              "  <tbody>\n",
              "    <tr>\n",
              "      <th>count</th>\n",
              "      <td>5000.000000</td>\n",
              "      <td>5000.000000</td>\n",
              "      <td>5000.000000</td>\n",
              "      <td>5000.00000</td>\n",
              "      <td>5000.000000</td>\n",
              "      <td>5000.000000</td>\n",
              "      <td>5000.000000</td>\n",
              "      <td>5000.000000</td>\n",
              "      <td>5000.000000</td>\n",
              "      <td>5000.000000</td>\n",
              "      <td>5000.000000</td>\n",
              "      <td>5000.000000</td>\n",
              "      <td>5000.000000</td>\n",
              "      <td>5000.000000</td>\n",
              "      <td>5000.000000</td>\n",
              "      <td>5000.000000</td>\n",
              "      <td>5000.000000</td>\n",
              "      <td>5000.000000</td>\n",
              "      <td>5000.00000</td>\n",
              "    </tr>\n",
              "    <tr>\n",
              "      <th>mean</th>\n",
              "      <td>0.311600</td>\n",
              "      <td>0.427000</td>\n",
              "      <td>0.409200</td>\n",
              "      <td>0.95760</td>\n",
              "      <td>28.398000</td>\n",
              "      <td>0.452800</td>\n",
              "      <td>0.043200</td>\n",
              "      <td>0.091800</td>\n",
              "      <td>0.759000</td>\n",
              "      <td>0.623200</td>\n",
              "      <td>0.820400</td>\n",
              "      <td>0.060800</td>\n",
              "      <td>0.948000</td>\n",
              "      <td>2.509400</td>\n",
              "      <td>0.154000</td>\n",
              "      <td>0.442400</td>\n",
              "      <td>8.035800</td>\n",
              "      <td>5.054800</td>\n",
              "      <td>6.08780</td>\n",
              "    </tr>\n",
              "    <tr>\n",
              "      <th>std</th>\n",
              "      <td>0.711201</td>\n",
              "      <td>0.494692</td>\n",
              "      <td>0.491735</td>\n",
              "      <td>0.20152</td>\n",
              "      <td>6.529726</td>\n",
              "      <td>0.497817</td>\n",
              "      <td>0.203327</td>\n",
              "      <td>0.288772</td>\n",
              "      <td>0.427733</td>\n",
              "      <td>0.484633</td>\n",
              "      <td>0.383892</td>\n",
              "      <td>0.238987</td>\n",
              "      <td>0.222049</td>\n",
              "      <td>1.066086</td>\n",
              "      <td>0.360985</td>\n",
              "      <td>0.496721</td>\n",
              "      <td>3.034726</td>\n",
              "      <td>0.977132</td>\n",
              "      <td>2.03463</td>\n",
              "    </tr>\n",
              "    <tr>\n",
              "      <th>min</th>\n",
              "      <td>0.000000</td>\n",
              "      <td>0.000000</td>\n",
              "      <td>0.000000</td>\n",
              "      <td>0.00000</td>\n",
              "      <td>12.000000</td>\n",
              "      <td>0.000000</td>\n",
              "      <td>0.000000</td>\n",
              "      <td>0.000000</td>\n",
              "      <td>0.000000</td>\n",
              "      <td>0.000000</td>\n",
              "      <td>0.000000</td>\n",
              "      <td>0.000000</td>\n",
              "      <td>0.000000</td>\n",
              "      <td>1.000000</td>\n",
              "      <td>0.000000</td>\n",
              "      <td>0.000000</td>\n",
              "      <td>1.000000</td>\n",
              "      <td>1.000000</td>\n",
              "      <td>1.00000</td>\n",
              "    </tr>\n",
              "    <tr>\n",
              "      <th>25%</th>\n",
              "      <td>0.000000</td>\n",
              "      <td>0.000000</td>\n",
              "      <td>0.000000</td>\n",
              "      <td>1.00000</td>\n",
              "      <td>24.000000</td>\n",
              "      <td>0.000000</td>\n",
              "      <td>0.000000</td>\n",
              "      <td>0.000000</td>\n",
              "      <td>1.000000</td>\n",
              "      <td>0.000000</td>\n",
              "      <td>1.000000</td>\n",
              "      <td>0.000000</td>\n",
              "      <td>1.000000</td>\n",
              "      <td>2.000000</td>\n",
              "      <td>0.000000</td>\n",
              "      <td>0.000000</td>\n",
              "      <td>6.000000</td>\n",
              "      <td>4.000000</td>\n",
              "      <td>5.00000</td>\n",
              "    </tr>\n",
              "    <tr>\n",
              "      <th>50%</th>\n",
              "      <td>0.000000</td>\n",
              "      <td>0.000000</td>\n",
              "      <td>0.000000</td>\n",
              "      <td>1.00000</td>\n",
              "      <td>27.000000</td>\n",
              "      <td>0.000000</td>\n",
              "      <td>0.000000</td>\n",
              "      <td>0.000000</td>\n",
              "      <td>1.000000</td>\n",
              "      <td>1.000000</td>\n",
              "      <td>1.000000</td>\n",
              "      <td>0.000000</td>\n",
              "      <td>1.000000</td>\n",
              "      <td>2.000000</td>\n",
              "      <td>0.000000</td>\n",
              "      <td>0.000000</td>\n",
              "      <td>8.000000</td>\n",
              "      <td>5.000000</td>\n",
              "      <td>7.00000</td>\n",
              "    </tr>\n",
              "    <tr>\n",
              "      <th>75%</th>\n",
              "      <td>0.000000</td>\n",
              "      <td>1.000000</td>\n",
              "      <td>1.000000</td>\n",
              "      <td>1.00000</td>\n",
              "      <td>31.000000</td>\n",
              "      <td>1.000000</td>\n",
              "      <td>0.000000</td>\n",
              "      <td>0.000000</td>\n",
              "      <td>1.000000</td>\n",
              "      <td>1.000000</td>\n",
              "      <td>1.000000</td>\n",
              "      <td>0.000000</td>\n",
              "      <td>1.000000</td>\n",
              "      <td>3.000000</td>\n",
              "      <td>0.000000</td>\n",
              "      <td>1.000000</td>\n",
              "      <td>10.000000</td>\n",
              "      <td>6.000000</td>\n",
              "      <td>8.00000</td>\n",
              "    </tr>\n",
              "    <tr>\n",
              "      <th>max</th>\n",
              "      <td>2.000000</td>\n",
              "      <td>1.000000</td>\n",
              "      <td>1.000000</td>\n",
              "      <td>1.00000</td>\n",
              "      <td>98.000000</td>\n",
              "      <td>1.000000</td>\n",
              "      <td>1.000000</td>\n",
              "      <td>1.000000</td>\n",
              "      <td>1.000000</td>\n",
              "      <td>1.000000</td>\n",
              "      <td>1.000000</td>\n",
              "      <td>1.000000</td>\n",
              "      <td>1.000000</td>\n",
              "      <td>5.000000</td>\n",
              "      <td>1.000000</td>\n",
              "      <td>1.000000</td>\n",
              "      <td>13.000000</td>\n",
              "      <td>6.000000</td>\n",
              "      <td>8.00000</td>\n",
              "    </tr>\n",
              "  </tbody>\n",
              "</table>\n",
              "</div>\n",
              "    <div class=\"colab-df-buttons\">\n",
              "\n",
              "  <div class=\"colab-df-container\">\n",
              "    <button class=\"colab-df-convert\" onclick=\"convertToInteractive('df-0a8506e3-4f70-4345-9352-7c35dcb41615')\"\n",
              "            title=\"Convert this dataframe to an interactive table.\"\n",
              "            style=\"display:none;\">\n",
              "\n",
              "  <svg xmlns=\"http://www.w3.org/2000/svg\" height=\"24px\" viewBox=\"0 -960 960 960\">\n",
              "    <path d=\"M120-120v-720h720v720H120Zm60-500h600v-160H180v160Zm220 220h160v-160H400v160Zm0 220h160v-160H400v160ZM180-400h160v-160H180v160Zm440 0h160v-160H620v160ZM180-180h160v-160H180v160Zm440 0h160v-160H620v160Z\"/>\n",
              "  </svg>\n",
              "    </button>\n",
              "\n",
              "  <style>\n",
              "    .colab-df-container {\n",
              "      display:flex;\n",
              "      gap: 12px;\n",
              "    }\n",
              "\n",
              "    .colab-df-convert {\n",
              "      background-color: #E8F0FE;\n",
              "      border: none;\n",
              "      border-radius: 50%;\n",
              "      cursor: pointer;\n",
              "      display: none;\n",
              "      fill: #1967D2;\n",
              "      height: 32px;\n",
              "      padding: 0 0 0 0;\n",
              "      width: 32px;\n",
              "    }\n",
              "\n",
              "    .colab-df-convert:hover {\n",
              "      background-color: #E2EBFA;\n",
              "      box-shadow: 0px 1px 2px rgba(60, 64, 67, 0.3), 0px 1px 3px 1px rgba(60, 64, 67, 0.15);\n",
              "      fill: #174EA6;\n",
              "    }\n",
              "\n",
              "    .colab-df-buttons div {\n",
              "      margin-bottom: 4px;\n",
              "    }\n",
              "\n",
              "    [theme=dark] .colab-df-convert {\n",
              "      background-color: #3B4455;\n",
              "      fill: #D2E3FC;\n",
              "    }\n",
              "\n",
              "    [theme=dark] .colab-df-convert:hover {\n",
              "      background-color: #434B5C;\n",
              "      box-shadow: 0px 1px 3px 1px rgba(0, 0, 0, 0.15);\n",
              "      filter: drop-shadow(0px 1px 2px rgba(0, 0, 0, 0.3));\n",
              "      fill: #FFFFFF;\n",
              "    }\n",
              "  </style>\n",
              "\n",
              "    <script>\n",
              "      const buttonEl =\n",
              "        document.querySelector('#df-0a8506e3-4f70-4345-9352-7c35dcb41615 button.colab-df-convert');\n",
              "      buttonEl.style.display =\n",
              "        google.colab.kernel.accessAllowed ? 'block' : 'none';\n",
              "\n",
              "      async function convertToInteractive(key) {\n",
              "        const element = document.querySelector('#df-0a8506e3-4f70-4345-9352-7c35dcb41615');\n",
              "        const dataTable =\n",
              "          await google.colab.kernel.invokeFunction('convertToInteractive',\n",
              "                                                    [key], {});\n",
              "        if (!dataTable) return;\n",
              "\n",
              "        const docLinkHtml = 'Like what you see? Visit the ' +\n",
              "          '<a target=\"_blank\" href=https://colab.research.google.com/notebooks/data_table.ipynb>data table notebook</a>'\n",
              "          + ' to learn more about interactive tables.';\n",
              "        element.innerHTML = '';\n",
              "        dataTable['output_type'] = 'display_data';\n",
              "        await google.colab.output.renderOutput(dataTable, element);\n",
              "        const docLink = document.createElement('div');\n",
              "        docLink.innerHTML = docLinkHtml;\n",
              "        element.appendChild(docLink);\n",
              "      }\n",
              "    </script>\n",
              "  </div>\n",
              "\n",
              "\n",
              "<div id=\"df-78fc5c86-80da-4240-adee-97538af91418\">\n",
              "  <button class=\"colab-df-quickchart\" onclick=\"quickchart('df-78fc5c86-80da-4240-adee-97538af91418')\"\n",
              "            title=\"Suggest charts\"\n",
              "            style=\"display:none;\">\n",
              "\n",
              "<svg xmlns=\"http://www.w3.org/2000/svg\" height=\"24px\"viewBox=\"0 0 24 24\"\n",
              "     width=\"24px\">\n",
              "    <g>\n",
              "        <path d=\"M19 3H5c-1.1 0-2 .9-2 2v14c0 1.1.9 2 2 2h14c1.1 0 2-.9 2-2V5c0-1.1-.9-2-2-2zM9 17H7v-7h2v7zm4 0h-2V7h2v10zm4 0h-2v-4h2v4z\"/>\n",
              "    </g>\n",
              "</svg>\n",
              "  </button>\n",
              "\n",
              "<style>\n",
              "  .colab-df-quickchart {\n",
              "      --bg-color: #E8F0FE;\n",
              "      --fill-color: #1967D2;\n",
              "      --hover-bg-color: #E2EBFA;\n",
              "      --hover-fill-color: #174EA6;\n",
              "      --disabled-fill-color: #AAA;\n",
              "      --disabled-bg-color: #DDD;\n",
              "  }\n",
              "\n",
              "  [theme=dark] .colab-df-quickchart {\n",
              "      --bg-color: #3B4455;\n",
              "      --fill-color: #D2E3FC;\n",
              "      --hover-bg-color: #434B5C;\n",
              "      --hover-fill-color: #FFFFFF;\n",
              "      --disabled-bg-color: #3B4455;\n",
              "      --disabled-fill-color: #666;\n",
              "  }\n",
              "\n",
              "  .colab-df-quickchart {\n",
              "    background-color: var(--bg-color);\n",
              "    border: none;\n",
              "    border-radius: 50%;\n",
              "    cursor: pointer;\n",
              "    display: none;\n",
              "    fill: var(--fill-color);\n",
              "    height: 32px;\n",
              "    padding: 0;\n",
              "    width: 32px;\n",
              "  }\n",
              "\n",
              "  .colab-df-quickchart:hover {\n",
              "    background-color: var(--hover-bg-color);\n",
              "    box-shadow: 0 1px 2px rgba(60, 64, 67, 0.3), 0 1px 3px 1px rgba(60, 64, 67, 0.15);\n",
              "    fill: var(--button-hover-fill-color);\n",
              "  }\n",
              "\n",
              "  .colab-df-quickchart-complete:disabled,\n",
              "  .colab-df-quickchart-complete:disabled:hover {\n",
              "    background-color: var(--disabled-bg-color);\n",
              "    fill: var(--disabled-fill-color);\n",
              "    box-shadow: none;\n",
              "  }\n",
              "\n",
              "  .colab-df-spinner {\n",
              "    border: 2px solid var(--fill-color);\n",
              "    border-color: transparent;\n",
              "    border-bottom-color: var(--fill-color);\n",
              "    animation:\n",
              "      spin 1s steps(1) infinite;\n",
              "  }\n",
              "\n",
              "  @keyframes spin {\n",
              "    0% {\n",
              "      border-color: transparent;\n",
              "      border-bottom-color: var(--fill-color);\n",
              "      border-left-color: var(--fill-color);\n",
              "    }\n",
              "    20% {\n",
              "      border-color: transparent;\n",
              "      border-left-color: var(--fill-color);\n",
              "      border-top-color: var(--fill-color);\n",
              "    }\n",
              "    30% {\n",
              "      border-color: transparent;\n",
              "      border-left-color: var(--fill-color);\n",
              "      border-top-color: var(--fill-color);\n",
              "      border-right-color: var(--fill-color);\n",
              "    }\n",
              "    40% {\n",
              "      border-color: transparent;\n",
              "      border-right-color: var(--fill-color);\n",
              "      border-top-color: var(--fill-color);\n",
              "    }\n",
              "    60% {\n",
              "      border-color: transparent;\n",
              "      border-right-color: var(--fill-color);\n",
              "    }\n",
              "    80% {\n",
              "      border-color: transparent;\n",
              "      border-right-color: var(--fill-color);\n",
              "      border-bottom-color: var(--fill-color);\n",
              "    }\n",
              "    90% {\n",
              "      border-color: transparent;\n",
              "      border-bottom-color: var(--fill-color);\n",
              "    }\n",
              "  }\n",
              "</style>\n",
              "\n",
              "  <script>\n",
              "    async function quickchart(key) {\n",
              "      const quickchartButtonEl =\n",
              "        document.querySelector('#' + key + ' button');\n",
              "      quickchartButtonEl.disabled = true;  // To prevent multiple clicks.\n",
              "      quickchartButtonEl.classList.add('colab-df-spinner');\n",
              "      try {\n",
              "        const charts = await google.colab.kernel.invokeFunction(\n",
              "            'suggestCharts', [key], {});\n",
              "      } catch (error) {\n",
              "        console.error('Error during call to suggestCharts:', error);\n",
              "      }\n",
              "      quickchartButtonEl.classList.remove('colab-df-spinner');\n",
              "      quickchartButtonEl.classList.add('colab-df-quickchart-complete');\n",
              "    }\n",
              "    (() => {\n",
              "      let quickchartButtonEl =\n",
              "        document.querySelector('#df-78fc5c86-80da-4240-adee-97538af91418 button');\n",
              "      quickchartButtonEl.style.display =\n",
              "        google.colab.kernel.accessAllowed ? 'block' : 'none';\n",
              "    })();\n",
              "  </script>\n",
              "</div>\n",
              "    </div>\n",
              "  </div>\n"
            ]
          },
          "metadata": {},
          "execution_count": 4
        }
      ]
    },
    {
      "cell_type": "code",
      "source": [
        "import seaborn as sns\n",
        "import matplotlib.pyplot as plt\n",
        "\n",
        "\n",
        "# Selecting Diabetes_012 and all other variables\n",
        "variables = ['Diabetes_012', 'HighBP', 'HighChol', 'CholCheck', 'BMI', 'Smoker', 'Stroke',\n",
        "             'HeartDiseaseorAttack', 'PhysActivity', 'Fruits', 'Veggies', 'HvyAlcoholConsump',\n",
        "             'AnyHealthcare', 'GenHlth', 'DiffWalk', 'Sex', 'Age', 'Education', 'Income']\n",
        "\n",
        "# Create pairplot\n",
        "sns.pairplot(df[variables], x_vars=variables[1:], y_vars=['Diabetes_012'], kind='reg', height=3)\n",
        "\n",
        "# Adjust layout\n",
        "\n",
        "plt.show()\n"
      ],
      "metadata": {
        "colab": {
          "base_uri": "https://localhost:8080/",
          "height": 95
        },
        "id": "oBBcFX3noyZi",
        "outputId": "7ceb9357-56be-4005-b28d-080b84e285d9"
      },
      "execution_count": null,
      "outputs": [
        {
          "output_type": "display_data",
          "data": {
            "text/plain": [
              "<Figure size 5400x300 with 18 Axes>"
            ],
            "image/png": "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\n"
          },
          "metadata": {}
        }
      ]
    },
    {
      "cell_type": "code",
      "source": [
        "import matplotlib.pyplot as plt\n",
        "import seaborn as sns\n",
        "import pandas as pd\n",
        "\n",
        "\n",
        "# Box plots for continuous variables: BMI, Age, and Income\n",
        "plt.figure(figsize=(15, 5))\n",
        "\n",
        "plt.subplot(1, 3, 1)\n",
        "sns.boxplot(y=df['BMI'])\n",
        "plt.title('Box Plot of BMI')\n",
        "\n",
        "plt.subplot(1, 3, 2)\n",
        "sns.boxplot(y=df['Age'])\n",
        "plt.title('Box Plot of Age')\n",
        "\n",
        "plt.subplot(1, 3, 3)\n",
        "sns.boxplot(y=df['Income'])\n",
        "plt.title('Box Plot of Income')\n",
        "\n",
        "plt.tight_layout()\n",
        "plt.show()\n",
        "\n",
        "# Bar charts for categorical variables: Smoker, Sex, Education\n",
        "plt.figure(figsize=(15, 5))\n",
        "\n",
        "plt.subplot(1, 3, 1)\n",
        "sns.countplot(x=df['Smoker'])\n",
        "plt.title('Bar Chart of Smoker')\n",
        "\n",
        "plt.subplot(1, 3, 2)\n",
        "sns.countplot(x=df['Sex'])\n",
        "plt.title('Bar Chart of Sex')\n",
        "\n",
        "plt.subplot(1, 3, 3)\n",
        "sns.countplot(x=df['Education'])\n",
        "plt.title('Bar Chart of Education')\n",
        "\n",
        "plt.tight_layout()\n",
        "plt.show()\n",
        "\n"
      ],
      "metadata": {
        "colab": {
          "base_uri": "https://localhost:8080/",
          "height": 920
        },
        "id": "Od-kQm_AlKqx",
        "outputId": "e620db8f-00ec-4c7f-dddd-d383147aaaec"
      },
      "execution_count": null,
      "outputs": [
        {
          "output_type": "display_data",
          "data": {
            "text/plain": [
              "<Figure size 1500x500 with 3 Axes>"
            ],
            "image/png": "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\n"
          },
          "metadata": {}
        },
        {
          "output_type": "display_data",
          "data": {
            "text/plain": [
              "<Figure size 1500x500 with 3 Axes>"
            ],
            "image/png": "iVBORw0KGgoAAAANSUhEUgAABdEAAAHqCAYAAADrpwd3AAAAOXRFWHRTb2Z0d2FyZQBNYXRwbG90bGliIHZlcnNpb24zLjcuMSwgaHR0cHM6Ly9tYXRwbG90bGliLm9yZy/bCgiHAAAACXBIWXMAAA9hAAAPYQGoP6dpAAByMElEQVR4nO3deVxVdf7H8fcFvBc3QFS2EYl0cl9SS8lUXAY0sixrckktUcvARm3UKMe1yVLTrExrJqVJzZZfWqmpuOGGlSTuOWYYTQo2GZBagHJ+f/TgjDc4LgRcltfz8TiPOOf7Oed8v0cun+7nnvs9NsMwDAEAAAAAAAAAgELcXN0BAAAAAAAAAADKK4roAAAAAAAAAABYoIgOAAAAAAAAAIAFiugAAAAAAAAAAFigiA4AAAAAAAAAgAWK6AAAAAAAAAAAWKCIDgAAAAAAAACABYroAAAAAAAAAABYoIgOAAAAAAAAAIAFiuhAJRIfHy+bzaa9e/e6uiu/y8WLFzVx4kQFBwfLzc1N/fr1c3WXrovNZlNsbKyruwEAqALI/QAAlAxy6vWbNm2abDZbqR2/JDz00EO64YYbXN0NVAIU0QELBQn08sXPz0/du3fXJ598Uub9WbVqlfr06aN69erJbrcrKChIf/7zn7Vly5Yy70uBV199VfHx8SV+3CVLlmjOnDm677779Oabb2rcuHGWsfn5+frXv/6ljh07ytfXV7Vr19ZNN92koUOHas+ePSXeNwBA5UXuvzpyPwDgWpBTr6485NTw8PBC/04FS9OmTUu8b6Xl1KlTmjZtmlJSUlzdFVRiHq7uAFDezZgxQ6GhoTIMQxkZGYqPj9cdd9yhjz/+WHfeeWepn98wDA0fPlzx8fG6+eabNX78eAUEBOj06dNatWqVevbsqV27dum2224r9b781quvvqp69erpoYceKtHjbtmyRX/4wx80f/78q8Y+/vjjWrhwoe6++24NHjxYHh4eOnbsmD755BPdeOON6tSpU4n2DQBQ+ZH7rZH7AQDXg5xqrTzkVElq0KCBZs2aVWi7t7d3ifarNJ06dUrTp0/XDTfcoLZt2zq1/eMf/1B+fr5rOoZKhSI6cBV9+vRRhw4dzPXo6Gj5+/vr7bffLpGkn5+fr9zcXHl6ehbZ/sILLyg+Pl5jx47VvHnznL4q9fTTT+utt96Sh0fZvpQvXLigGjVqlNrxz5w5Ix8fn6vGZWRk6NVXX9XIkSP1+uuvO7W9+OKL+v7770uph651/vx51axZ09XdAIBKi9xfGLkfAFAc5NTCyktOLeDt7a0HH3yw1PrjatWqVXN1F1BJMJ0LcJ18fHxUvXr1Qol27ty5uu2221S3bl1Vr15d7du31/vvv19o/4L5spcvX64WLVrI4XBo/fr1RZ7r559/1qxZs9S0aVPNnTu3yLnGhgwZoltvvdVpW05OjsaPH6/69eurZs2auueeewq9qfzwww8VFRWloKAgORwONWrUSDNnztSlS5ec4sLDw9WyZUslJyera9euqlGjhp566indcMMNOnz4sBITE82ve4WHh1/x2p0/f15PPPGEgoOD5XA41KRJE82dO1eGYUiSTp48KZvNpq1bt+rw4cPmcbdt21bk8VJTU2UYhjp37lyoreDrggUKvk64c+dOPf7446pfv758fHz0yCOPKDc3V5mZmRo6dKjq1KmjOnXqaOLEiWa/rrX/V/LMM8/Izc1NL7/8srntk08+UZcuXVSzZk3Vrl1bUVFROnz4sNN+Dz30kGrVqqUTJ07ojjvuUO3atTV48OCrng8AUHLI/RUz90tSZmamxo4da56/cePGev7558070gzDUPfu3VW/fn2dOXPG3C83N1etWrVSo0aNdP78+SuOEQBw7cip5SenXq+dO3fqlltukaenpxo1aqTXXnutUExBH4qapsZms2natGlO27777jtFR0eb1zE0NFSjR49Wbm6uJOns2bP661//qlatWqlWrVry8vJSnz59tH//fvMY27Zt0y233CJJevjhh81xF/ShqDnRr/W9fcHv2+rVq9WyZUs5HA61aNHC8ncOlRt3ogNXkZWVpf/+978yDENnzpzRyy+/rHPnzhX6pHbBggW66667NHjwYOXm5mrlypW6//77tWbNGkVFRTnFbtmyRe+++65iY2NVr149y4dc7Ny5U2fPntXYsWPl7u5+zX0eM2aM6tSpo6lTp+rkyZN68cUXFRsbq3feeceMiY+PV61atTR+/HjVqlVLW7Zs0ZQpU5Sdna05c+Y4He+HH35Qnz59NGDAAD344IPy9/dXeHi4xowZo1q1aunpp5+WJPn7+1v2yTAM3XXXXdq6dauio6PVtm1bbdiwQRMmTNB3332n+fPnq379+nrrrbf097//XefOnTO/UtasWbMijxkSEiJJeu+993T//fdf06f5Y8aMUUBAgKZPn649e/bo9ddfl4+Pj3bv3q2GDRvq2Wef1bp16zRnzhy1bNlSQ4cOveb+W5k8ebKeffZZvfbaaxo5cqQk6a233tKwYcMUGRmp559/XhcuXNCiRYt0++23a9++fU6/ExcvXlRkZKRuv/12zZ07t1TvWgAAkPulypH7L1y4oG7duum7777TI488ooYNG2r37t2Ki4vT6dOn9eKLL8pms2nJkiVq3bq1Hn30UX3wwQeSpKlTp+rw4cPatm0b3/4CgN+BnFp+c2qBS5cu6b///W+h7dWrVzdz4MGDBxUREaH69etr2rRpunjxoqZOnXrFPl/NqVOndOuttyozM1OjRo1S06ZN9d133+n999/XhQsXZLfb9fXXX2v16tW6//77FRoaqoyMDL322mvq1q2bjhw5oqCgIDVr1kwzZszQlClTNGrUKHXp0kWSLKfoud739jt37tQHH3ygxx57TLVr19ZLL72k/v37Ky0tTXXr1i32+FEBGQCKtHTpUkNSocXhcBjx8fGF4i9cuOC0npuba7Rs2dLo0aOH03ZJhpubm3H48OGr9mHBggWGJGPVqlXX1edevXoZ+fn55vZx48YZ7u7uRmZmpmV/DcMwHnnkEaNGjRrGL7/8Ym7r1q2bIclYvHhxofgWLVoY3bp1u6a+rV692pBkPPPMM07b77vvPsNmsxlfffWV0zlbtGhxTccdOnSoIcmoU6eOcc899xhz5841jh49Wiiu4NpERkY6XZuwsDDDZrMZjz76qLnt4sWLRoMGDZzGdj39l2TExMQYhmEYTzzxhOHm5ub0O/PTTz8ZPj4+xsiRI52OlZ6ebnh7ezttHzZsmCHJePLJJ6/pegAAio/c/6vKkvtnzpxp1KxZ0/j3v//ttP3JJ5803N3djbS0NHPba6+9Zkgyli1bZuzZs8dwd3c3xo4de039AQAURk79VXnPqQX9K2p55JFHzLh+/foZnp6exjfffGNuO3LkiOHu7m5cXlpMTU01JBlLly4tdC5JxtSpU831oUOHGm5ubsbnn39eKLbg+v/yyy/GpUuXnNpSU1MNh8NhzJgxw9z2+eefW5532LBhRkhIiLl+ve/t7Xa707b9+/cbkoyXX3650LlQuTGdC3AVCxcuVEJCghISErRs2TJ1795dI0aMMO9UKlC9enXz5x9//FFZWVnq0qWLvvjii0LH7Natm5o3b37Vc2dnZ0uSateufV19HjVqlNNX1bp06aJLly7pm2++KbK/P/30k/773/+qS5cuunDhgr788kun4zkcDj388MPX1YffWrdundzd3fX44487bX/iiSdkGEaxn9C+dOlSvfLKKwoNDdWqVav017/+Vc2aNVPPnj313XffFYqPjo52ujYdO3aUYRiKjo42t7m7u6tDhw76+uuvi91/wzAUGxurBQsWaNmyZRo2bJjZlpCQoMzMTA0cOFD//e9/zcXd3V0dO3bU1q1bC/V79OjR139xAADFQu6vHLn/vffeU5cuXVSnTh2nfNurVy9dunRJ27dvN2NHjRqlyMhIjRkzRkOGDFGjRo307LPPFm/gAAATObV851RJuuGGG8x/o8uXsWPHSvr1TvUNGzaoX79+atiwoblfs2bNFBkZWaxz5ufna/Xq1erbt6/TnPkFCq6/w+GQm5ub2Y8ffvhBtWrVUpMmTYr83bgW13ste/XqpUaNGpnrrVu3lpeXl1O9AFUD07kAV3Hrrbc6/VEfOHCgbr75ZsXGxurOO++U3W6XJK1Zs0bPPPOMUlJSlJOTY8YXNe9aaGjoNZ3by8tL0q9J+XpcntgkqU6dOpJ+/Z+RAocPH9bkyZO1ZcsW838uCmRlZTmt/+EPfzDHWVzffPONgoKCCv0PTMFXyy7/H5Lr4ebmppiYGMXExOiHH37Qrl27tHjxYn3yyScaMGCAduzY4RT/22tT8MTx4ODgQtsvv17X2/9//etfOnfunBYtWqSBAwc6tR0/flyS1KNHjyLHVPDvXsDDw0MNGjQoMhYAUPLI/ZUj9x8/flwHDhxQ/fr1izzO5XOgS9Ibb7yhRo0a6fjx49q9e7dTgQQAUDzk1PKdUyWpZs2a6tWrl2X7999/r59//ll//OMfC7U1adJE69atu+5zfv/998rOzlbLli2vGJefn68FCxbo1VdfVWpqqtOc88WdSuV6r+Vvfx+kX38nLv99QNXAnejAdXJzc1P37t11+vRpsxi6Y8cO3XXXXfL09NSrr76qdevWKSEhQYMGDSryoZPX+qasadOmkn6df+x6WM33VtCXzMxMdevWTfv379eMGTP08ccfKyEhQc8//7wkmQ/but7+ulrdunV11113ad26derWrZt27txZKAFaXZuithf1b3etOnfuLH9/f73yyis6e/asU1vB9X3rrbeK/MT/ww8/dIq//NN3AEDZI/eXX1fK/fn5+frTn/5UZK5NSEhQ//79nY61bds2s3BzvdcfAHBtyKmVW1Efekgq9MDVa/Xss89q/Pjx6tq1q5YtW6YNGzYoISFBLVq0KHSdS8vVfh9QdXAnOlAMFy9elCSdO3dOkvR///d/8vT01IYNG+RwOMy4pUuX/q7z3H777apTp47efvttPfXUU9f1MJQr2bZtm3744Qd98MEH6tq1q7k9NTX1uo5jlSCLEhISok2bNumnn35y+sS34KtuBQ8KKykdOnRQYmKiTp8+XSLHvt7+N27cWLNnz1Z4eLh69+6tzZs3m/sVfBXMz8/vip/4AwDKD3L/rypS7m/UqJHOnTt3Tbn29OnTGjNmjCIiImS32/XXv/5VkZGRJd5HAAA5tUB5zqmXq1+/vqpXr25+6HG5Y8eOOa0X3LWfmZnptP23N7fVr19fXl5eOnTo0BXP/f7776t79+564403nLZnZmaqXr165npFuZao2Li1EbhOeXl52rhxo+x2u/l1H3d3d9lsNqdPV0+ePKnVq1f/rnPVqFFDkyZN0tGjRzVp0qQiP+lctmyZPvvss+s6bsH/PFx+vNzcXL366qvXdZyaNWsWSo5W7rjjDl26dEmvvPKK0/b58+fLZrOpT58+13VuSUpPT9eRI0cKbc/NzdXmzZvl5uamxo0bX/dxi1Kc/rdu3Vrr1q3T0aNH1bdvX/3888+SpMjISHl5eenZZ59VXl5eof2+//77EukzAKBkkPv/pyLl/j//+c9KSkrShg0bCsVnZmaaRRxJGjlypPLz8/XGG2/o9ddfl4eHh6Kjo7nLDABKGDn1f1ydU6+Vu7u7IiMjtXr1aqWlpZnbjx49WijHenl5qV69ek7PHZFU6Nq4ubmpX79++vjjj7V3795C5yy4tu7u7oX+3d57771Czz+rWbOmpMLF+6K48lqiYuNOdOAqPvnkE/MTyTNnzmjFihU6fvy4nnzySXOOtaioKM2bN0+9e/fWoEGDdObMGS1cuFCNGzfWgQMHftf5J0yYoMOHD+uFF17Q1q1bdd999ykgIEDp6elavXq1PvvsM+3evfu6jnnbbbepTp06GjZsmB5//HHZbDa99dZb1/1GsX379lq0aJGeeeYZNW7cWH5+fpbzfPft21fdu3fX008/rZMnT6pNmzbauHGjPvzwQ40dO9bpQR3X6j//+Y9uvfVW9ejRQz179lRAQIDOnDmjt99+W/v379fYsWOdPp3+PYrb/06dOunDDz/UHXfcofvuu0+rV6+Wl5eXFi1apCFDhqhdu3YaMGCA6tevr7S0NK1du1adO3culNABAGWH3G+tIuX+CRMm6KOPPtKdd96phx56SO3bt9f58+d18OBBvf/++zp58qTq1aunpUuXau3atYqPjzefQfLyyy/rwQcf1KJFi/TYY49ddz8BAL8ip1pzdU4tkJWVpWXLlhXZ9uCDD0qSpk+frvXr16tLly567LHHdPHiRb388stq0aJFoX+jESNG6LnnntOIESPUoUMHbd++Xf/+978LHfvZZ5/Vxo0b1a1bN40aNUrNmjXT6dOn9d5772nnzp3y8fHRnXfeqRkzZujhhx/WbbfdpoMHD2r58uW68cYbnY7VqFEj+fj4aPHixapdu7Zq1qypjh07Fjl/fmleS1RyBoAiLV261JDktHh6ehpt27Y1Fi1aZOTn5zvFv/HGG8Yf//hHw+FwGE2bNjWWLl1qTJ061fjty0ySERMTc939ef/9942IiAjD19fX8PDwMAIDA40HHnjA2LZtW6E+f/755077bt261ZBkbN261dy2a9cuo1OnTkb16tWNoKAgY+LEicaGDRsKxXXr1s1o0aJFkX1KT083oqKijNq1axuSjG7dul1xDD/99JMxbtw4IygoyKhWrZrxxz/+0ZgzZ06ha3mlc14uOzvbWLBggREZGWk0aNDAqFatmlG7dm0jLCzM+Mc//uF0XKtrU/Bv9P333zttHzZsmFGzZs1i9b+of+MPP/zQ8PDwMB544AHj0qVLhmH8+u8SGRlpeHt7G56enkajRo2Mhx56yNi7d+8V+wEAKB3k/l9VltxfcP64uDijcePGht1uN+rVq2fcdtttxty5c43c3Fzj22+/Nby9vY2+ffsWOtc999xj1KxZ0/j666+v2i8AgDNy6q/Kc04tiP3tv9Ply+USExON9u3bG3a73bjxxhuNxYsXF/lvdOHCBSM6Otrw9vY2ateubfz5z382zpw5Y0gypk6d6hT7zTffGEOHDjXq169vOBwO48YbbzRiYmKMnJwcwzAM45dffjGeeOIJIzAw0KhevbrRuXNnIykpyejWrVuh6/Xhhx8azZs3Nzw8PAxJxtKlSw3D+PU9dUhISLGupdXvW0hIiDFs2LBrusaoPGyGwXcUAQAAAAAAAAAoCnOiAwAAAAAAAABggSI6AAAAAAAAAAAWKKIDAAAAAAAAAGCBIjoAAAAAAAAAABYoogMAAAAAAAAAYIEiOgAAAAAAAAAAFjxc3YGKID8/X6dOnVLt2rVls9lc3R0AQBVhGIZ++uknBQUFyc2Nz72vB7kbAOAK5O7iI3cDAFzhWnM3RfRrcOrUKQUHB7u6GwCAKurbb79VgwYNXN2NCoXcDQBwJXL39SN3AwBc6Wq5myL6Nahdu7akXy+ml5eXi3sDAKgqsrOzFRwcbOYhXDtyNwDAFcjdxUfuBgC4wrXmboro16Dgq2ReXl4kcwBAmeMrzdeP3A0AcCVy9/UjdwMAXOlquZtJ2gAAAAAAAAAAsEARHQAAAAAAAAAACxTRAQAAAAAAAACwQBEdAAAAAAAAAAALFNEBAAAAAAAAALBAER0AAAAAAAAAAAsU0QEAAAAAAAAAsEARHQAAAAAAAAAACxTRAQAAAAAAAACwQBEdAAAAAAAAAAALFNEBAAAAAAAAALBAER0AAAAAAAAAAAsU0QEAAAAAAAAAsEARHQAAAAAAAAAACxTRAQAAAAAAAACwQBEdAAAAAAAAAAALFNEBAAAAAAAAALDg4eoOVGXtJ/zL1V0ACkmeM9TVXQCAcovcjfKI3A0AAICS8PcH73N1F0rN08ve/137cyc6AAAAAAAAAAAWKKIDAAAAAAAAAGCBIjoAAAAAAAAAABYoogMAAAAAAAAAYIEiOgAAAAAAAAAAFiiiAwAAAAAAAABggSI6AAAAAAAAAAAWKKIDAAAAAAAAAGCBIjoAAAAAAAAAABYoogMAAAAAAAAAYIEiOgAAAAAAAAAAFiiiAwAAAAAAAABggSI6AAAAAACV1KxZs3TLLbeodu3a8vPzU79+/XTs2DGnmF9++UUxMTGqW7euatWqpf79+ysjI8MpJi0tTVFRUapRo4b8/Pw0YcIEXbx40Slm27ZtateunRwOhxo3bqz4+PjSHh4AAGWCIjoAAAAAAJVUYmKiYmJitGfPHiUkJCgvL08RERE6f/68GTNu3Dh9/PHHeu+995SYmKhTp07p3nvvNdsvXbqkqKgo5ebmavfu3XrzzTcVHx+vKVOmmDGpqamKiopS9+7dlZKSorFjx2rEiBHasGFDmY4XAIDS4OHqDgAAAAAAgNKxfv16p/X4+Hj5+fkpOTlZXbt2VVZWlt544w2tWLFCPXr0kCQtXbpUzZo10549e9SpUydt3LhRR44c0aZNm+Tv76+2bdtq5syZmjRpkqZNmya73a7FixcrNDRUL7zwgiSpWbNm2rlzp+bPn6/IyMgyHzcAACWJO9EBAAAAAKgisrKyJEm+vr6SpOTkZOXl5alXr15mTNOmTdWwYUMlJSVJkpKSktSqVSv5+/ubMZGRkcrOztbhw4fNmMuPURBTcIzfysnJUXZ2ttMCAEB5RREdAAAAAIAqID8/X2PHjlXnzp3VsmVLSVJ6errsdrt8fHycYv39/ZWenm7GXF5AL2gvaLtSTHZ2tn7++edCfZk1a5a8vb3NJTg4uETGCABAaaCIDgAAAABAFRATE6NDhw5p5cqVru6K4uLilJWVZS7ffvutq7sEAIAl5kQHAAAAAKCSi42N1Zo1a7R9+3Y1aNDA3B4QEKDc3FxlZmY63Y2ekZGhgIAAM+azzz5zOl5GRobZVvDfgm2Xx3h5eal69eqF+uNwOORwOEpkbAAAlDbuRAcAAAAAoJIyDEOxsbFatWqVtmzZotDQUKf29u3bq1q1atq8ebO57dixY0pLS1NYWJgkKSwsTAcPHtSZM2fMmISEBHl5eal58+ZmzOXHKIgpOAYAABUZd6IDAAAAAFBJxcTEaMWKFfrwww9Vu3Ztcw5zb29vVa9eXd7e3oqOjtb48ePl6+srLy8vjRkzRmFhYerUqZMkKSIiQs2bN9eQIUM0e/Zspaena/LkyYqJiTHvJn/00Uf1yiuvaOLEiRo+fLi2bNmid999V2vXrnXZ2AEAKCnciQ4AAAAAQCW1aNEiZWVlKTw8XIGBgebyzjvvmDHz58/XnXfeqf79+6tr164KCAjQBx98YLa7u7trzZo1cnd3V1hYmB588EENHTpUM2bMMGNCQ0O1du1aJSQkqE2bNnrhhRf0z3/+U5GRkWU6XgAASgN3ogMAAAAAUEkZhnHVGE9PTy1cuFALFy60jAkJCdG6deuueJzw8HDt27fvuvsIAEB5x53oAAAAAAAAAABYoIgOAAAAAAAAAIAFiugAAAAAAAAAAFigiA4AAAAAAAAAgAWXFtFnzZqlW265RbVr15afn5/69eunY8eOOcWEh4fLZrM5LY8++qhTTFpamqKiolSjRg35+flpwoQJunjxolPMtm3b1K5dOzkcDjVu3Fjx8fGlPTwAAAAAAAAAQAXn0iJ6YmKiYmJitGfPHiUkJCgvL08RERE6f/68U9zIkSN1+vRpc5k9e7bZdunSJUVFRSk3N1e7d+/Wm2++qfj4eE2ZMsWMSU1NVVRUlLp3766UlBSNHTtWI0aM0IYNG8psrAAAAAAAAACAisfDlSdfv36903p8fLz8/PyUnJysrl27mttr1KihgICAIo+xceNGHTlyRJs2bZK/v7/atm2rmTNnatKkSZo2bZrsdrsWL16s0NBQvfDCC5KkZs2aaefOnZo/f74iIyNLb4AAAAAAAAAAgAqtXM2JnpWVJUny9fV12r58+XLVq1dPLVu2VFxcnC5cuGC2JSUlqVWrVvL39ze3RUZGKjs7W4cPHzZjevXq5XTMyMhIJSUlldZQAAAAAAAAAACVgEvvRL9cfn6+xo4dq86dO6tly5bm9kGDBikkJERBQUE6cOCAJk2apGPHjumDDz6QJKWnpzsV0CWZ6+np6VeMyc7O1s8//6zq1as7teXk5CgnJ8dcz87OLrmBAgAAAAAAAAAqjHJTRI+JidGhQ4e0c+dOp+2jRo0yf27VqpUCAwPVs2dPnThxQo0aNSqVvsyaNUvTp08vlWMDAAAAAAAAACqOcjGdS2xsrNasWaOtW7eqQYMGV4zt2LGjJOmrr76SJAUEBCgjI8MppmC9YB51qxgvL69Cd6FLUlxcnLKysszl22+/Ld7AAAAAAAAAAAAVmkuL6IZhKDY2VqtWrdKWLVsUGhp61X1SUlIkSYGBgZKksLAwHTx4UGfOnDFjEhIS5OXlpebNm5sxmzdvdjpOQkKCwsLCijyHw+GQl5eX0wIAAH79ttYtt9yi2rVry8/PT/369dOxY8ecYsLDw2Wz2ZyWRx991CkmLS1NUVFRqlGjhvz8/DRhwgRdvHjRKWbbtm1q166dHA6HGjdurPj4+NIeHgAAAAAAhbi0iB4TE6Nly5ZpxYoVql27ttLT05Wenq6ff/5ZknTixAnNnDlTycnJOnnypD766CMNHTpUXbt2VevWrSVJERERat68uYYMGaL9+/drw4YNmjx5smJiYuRwOCRJjz76qL7++mtNnDhRX375pV599VW9++67GjdunMvGDgBARZSYmKiYmBjt2bNHCQkJysvLU0REhM6fP+8UN3LkSJ0+fdpcZs+ebbZdunRJUVFRys3N1e7du/Xmm28qPj5eU6ZMMWNSU1MVFRWl7t27KyUlRWPHjtWIESO0YcOGMhsrAAAAAACSi+dEX7RokaRf71i73NKlS/XQQw/Jbrdr06ZNevHFF3X+/HkFBwerf//+mjx5shnr7u6uNWvWaPTo0QoLC1PNmjU1bNgwzZgxw4wJDQ3V2rVrNW7cOC1YsEANGjTQP//5T0VGRpbJOAEAqCzWr1/vtB4fHy8/Pz8lJyera9eu5vYaNWqY06r91saNG3XkyBFt2rRJ/v7+atu2rWbOnKlJkyZp2rRpstvtWrx4sUJDQ/XCCy9Ikpo1a6adO3dq/vz55G8AAAAAQJlyaRHdMIwrtgcHBysxMfGqxwkJCdG6deuuGBMeHq59+/ZdV/8AAMCVZWVlSZJ8fX2dti9fvlzLli1TQECA+vbtq7/97W+qUaOGJCkpKUmtWrWSv7+/GR8ZGanRo0fr8OHDuvnmm5WUlKRevXo5HTMyMlJjx44tsh85OTnKyckx17Ozs0tieAAAAAAAuLaIDgAAKq78/HyNHTtWnTt3VsuWLc3tgwYNUkhIiIKCgnTgwAFNmjRJx44d0wcffCBJSk9PdyqgSzLX09PTrxiTnZ2tn3/+udCDwWfNmqXp06eX+BgBAAAAAKCIDgAAiiUmJkaHDh3Szp07nbaPGjXK/LlVq1YKDAxUz549deLECTVq1KhU+hIXF6fx48eb69nZ2QoODi6VcwEAAAAAqhaXPlgUAABUTLGxsVqzZo22bt2qBg0aXDG2Y8eOkqSvvvpKkhQQEKCMjAynmIL1gnnUrWK8vLwK3YUuSQ6HQ15eXk4LAAAAAAAlgSI6AAC4ZoZhKDY2VqtWrdKWLVsUGhp61X1SUlIkSYGBgZKksLAwHTx4UGfOnDFjEhIS5OXlpebNm5sxmzdvdjpOQkKCwsLCSmgkAAAAAABcG4roAADgmsXExGjZsmVasWKFateurfT0dKWnp+vnn3+WJJ04cUIzZ85UcnKyTp48qY8++khDhw5V165d1bp1a0lSRESEmjdvriFDhmj//v3asGGDJk+erJiYGDkcDknSo48+qq+//loTJ07Ul19+qVdffVXvvvuuxo0b57KxAwAAAACqJoroAADgmi1atEhZWVkKDw9XYGCgubzzzjuSJLvdrk2bNikiIkJNmzbVE088of79++vjjz82j+Hu7q41a9bI3d1dYWFhevDBBzV06FDNmDHDjAkNDdXatWuVkJCgNm3a6IUXXtA///lPRUZGlvmYAQAAAABVGw8WBQAA18wwjCu2BwcHKzEx8arHCQkJ0bp1664YEx4ern379l1X/wAAAAAAKGnciQ4AAAAAAAAAgAWK6AAAAAAAAAAAWKCIDgAAAAAAAACABYroAAAAAAAAAABYoIgOAAAAAAAAAIAFiugAAAAAAAAAAFigiA4AAAAAAAAAgAWK6AAAAAAAAAAAWKCIDgAAAAAAAACABYroAAAAAAAAAABYoIgOAAAAAAAAAIAFiugAAAAAAAAAAFigiA4AAAAAAAAAgAWK6AAAAAAAVFLbt29X3759FRQUJJvNptWrVzu122y2Ipc5c+aYMTfccEOh9ueee87pOAcOHFCXLl3k6emp4OBgzZ49uyyGBwBAmaCIDgAAAABAJXX+/Hm1adNGCxcuLLL99OnTTsuSJUtks9nUv39/p7gZM2Y4xY0ZM8Zsy87OVkREhEJCQpScnKw5c+Zo2rRpev3110t1bAAAlBUPV3cAAAAAAACUjj59+qhPnz6W7QEBAU7rH374obp3764bb7zRaXvt2rULxRZYvny5cnNztWTJEtntdrVo0UIpKSmaN2+eRo0a9fsHAQCAi3EnOgAAAAAAUEZGhtauXavo6OhCbc8995zq1q2rm2++WXPmzNHFixfNtqSkJHXt2lV2u93cFhkZqWPHjunHH38s8lw5OTnKzs52WgAAKK+4Ex0AAAAAAOjNN99U7dq1de+99zptf/zxx9WuXTv5+vpq9+7diouL0+nTpzVv3jxJUnp6ukJDQ5328ff3N9vq1KlT6FyzZs3S9OnTS2kkAACULIroAAAAAABAS5Ys0eDBg+Xp6em0ffz48ebPrVu3lt1u1yOPPKJZs2bJ4XAU61xxcXFOx83OzlZwcHDxOg4AQCmjiA4AAAAAQBW3Y8cOHTt2TO+8885VYzt27KiLFy/q5MmTatKkiQICApSRkeEUU7BuNY+6w+EodgEeAICyRhEdQIWUNqOVq7sAFNJwykFXdwEAAKBY3njjDbVv315t2rS5amxKSorc3Nzk5+cnSQoLC9PTTz+tvLw8VatWTZKUkJCgJk2aFDmVCwAAFQ0PFgUAAAAAoJI6d+6cUlJSlJKSIklKTU1VSkqK0tLSzJjs7Gy99957GjFiRKH9k5KS9OKLL2r//v36+uuvtXz5co0bN04PPvigWSAfNGiQ7Ha7oqOjdfjwYb3zzjtasGCB03QtAABUZNyJDgAAAABAJbV37151797dXC8obA8bNkzx8fGSpJUrV8owDA0cOLDQ/g6HQytXrtS0adOUk5Oj0NBQjRs3zqlA7u3trY0bNyomJkbt27dXvXr1NGXKFI0aNap0BwcAQBmhiA4AAAAAQCUVHh4uwzCuGDNq1CjLgne7du20Z8+eq56ndevW2rFjR7H6CABAecd0LgAAAAAAAAAAWKCIDgAAAAAAAACABYroAAAAAAAAAABYoIgOAAAAAAAAAIAFiugAAAAAAAAAAFigiA4AAAAAAAAAgAWK6AAAAAAAAAAAWKCIDgAAAAAAAACABYroAAAAAAAAAABY8HB1BwAAAABUfmkzWrm6C0AhDaccdHUXAABABcCd6AAAAAAAAAAAWKCIDgAAAAAAAACABYroAAAAAAAAAABYoIgOAAAAAAAAAIAFiugAAAAAAAAAAFigiA4AAAAAAAAAgAWK6AAAAAAAAAAAWKCIDgAAAAAAAACABYroAAAAAAAAAABYoIgOAAAAAAAAAIAFiugAAAAAAAAAAFigiA4AAAAAAAAAgAWK6AAAAAAAAAAAWKCIDgAAAAAAAACABYroAAAAAAAAAABYoIgOAAAAAAAAAIAFiugAAAAAAAAAAFigiA4AAAAAAAAAgAWK6AAAAAAAAAAAWHBpEX3WrFm65ZZbVLt2bfn5+alfv346duyYU8wvv/yimJgY1a1bV7Vq1VL//v2VkZHhFJOWlqaoqCjVqFFDfn5+mjBhgi5evOgUs23bNrVr104Oh0ONGzdWfHx8aQ8PAAAAAAAAAFDBubSInpiYqJiYGO3Zs0cJCQnKy8tTRESEzp8/b8aMGzdOH3/8sd577z0lJibq1KlTuvfee832S5cuKSoqSrm5udq9e7fefPNNxcfHa8qUKWZMamqqoqKi1L17d6WkpGjs2LEaMWKENmzYUKbjBQAAAAAAAABULB6uPPn69eud1uPj4+Xn56fk5GR17dpVWVlZeuONN7RixQr16NFDkrR06VI1a9ZMe/bsUadOnbRx40YdOXJEmzZtkr+/v9q2bauZM2dq0qRJmjZtmux2uxYvXqzQ0FC98MILkqRmzZpp586dmj9/viIjI8t83AAAAAAAAACAiqFczYmelZUlSfL19ZUkJScnKy8vT7169TJjmjZtqoYNGyopKUmSlJSUpFatWsnf39+MiYyMVHZ2tg4fPmzGXH6MgpiCY/xWTk6OsrOznRYAAAAAAAAAQNVTboro+fn5Gjt2rDp37qyWLVtKktLT02W32+Xj4+MU6+/vr/T0dDPm8gJ6QXtB25VisrOz9fPPPxfqy6xZs+Tt7W0uwcHBJTJGAAAAAAAAAEDFUm6K6DExMTp06JBWrlzp6q4oLi5OWVlZ5vLtt9+6uksAAJQLPBQcAAAAAFDVlIsiemxsrNasWaOtW7eqQYMG5vaAgADl5uYqMzPTKT4jI0MBAQFmzG/fmBesXy3Gy8tL1atXL9Qfh8MhLy8vpwUAAPBQcAAAKprt27erb9++CgoKks1m0+rVq53aH3roIdlsNqeld+/eTjFnz57V4MGD5eXlJR8fH0VHR+vcuXNOMQcOHFCXLl3k6emp4OBgzZ49u7SHBgBAmXFpEd0wDMXGxmrVqlXasmWLQkNDndrbt2+vatWqafPmzea2Y8eOKS0tTWFhYZKksLAwHTx4UGfOnDFjEhIS5OXlpebNm5sxlx+jIKbgGAAA4NqsX79eDz30kFq0aKE2bdooPj5eaWlpSk5OliTzoeDz5s1Tjx491L59ey1dulS7d+/Wnj17JMl8KPiyZcvUtm1b9enTRzNnztTChQuVm5srSU4PBW/WrJliY2N13333af78+S4bOwAAFdH58+fVpk0bLVy40DKmd+/eOn36tLm8/fbbTu2DBw/W4cOHlZCQoDVr1mj79u0aNWqU2Z6dna2IiAiFhIQoOTlZc+bM0bRp0/T666+X2rgAAChLHq48eUxMjFasWKEPP/xQtWvXNucw9/b2VvXq1eXt7a3o6GiNHz9evr6+8vLy0pgxYxQWFqZOnTpJkiIiItS8eXMNGTJEs2fPVnp6uiZPnqyYmBg5HA5J0qOPPqpXXnlFEydO1PDhw7Vlyxa9++67Wrt2rcvGDgBAZXC9DwXv1KmT5UPBR48ercOHD+vmm2+2fCj42LFji+xHTk6OcnJyzHUeCg4AwK/69OmjPn36XDHG4XCY3+T+raNHj2r9+vX6/PPP1aFDB0nSyy+/rDvuuENz585VUFCQli9frtzcXC1ZskR2u10tWrRQSkqK5s2b51RsBwCgonLpneiLFi1SVlaWwsPDFRgYaC7vvPOOGTN//nzdeeed6t+/v7p27aqAgAB98MEHZru7u7vWrFkjd3d3hYWF6cEHH9TQoUM1Y8YMMyY0NFRr165VQkKC2rRpoxdeeEH//Oc/FRkZWabjBQCgMuGh4AAAVA7btm2Tn5+fmjRpotGjR+uHH34w25KSkuTj42MW0CWpV69ecnNz06effmrGdO3aVXa73YyJjIzUsWPH9OOPPxZ5zpycHGVnZzstAACUVy69E90wjKvGeHp6auHChVf86llISIjWrVt3xeOEh4dr3759191HAABQtIKHgu/cudPVXVFcXJzGjx9vrmdnZ1NIBwDgGvTu3Vv33nuvQkNDdeLECT311FPq06ePkpKS5O7urvT0dPn5+Tnt4+HhIV9fX6cPv387PevlH5DXqVOn0HlnzZql6dOnl9KoAAAoWS4togMAgIqp4KHg27dvt3wo+OV3o//2oeCfffaZ0/FK4qHgBdO4AQCAazdgwADz51atWql169Zq1KiRtm3bpp49e5baefkAHABQkbh0OhcAAFCx8FBwAAAqtxtvvFH16tXTV199JenXD7Yvz9mSdPHiRZ09e/aqH34XtBXF4XDIy8vLaQEAoLyiiA4AAK5ZTEyMli1bphUrVpgPBU9PTzfnKb/8oeBbt25VcnKyHn74YcuHgu/fv18bNmwo8qHgX3/9tSZOnKgvv/xSr776qt59912NGzfOZWMHAKAq+M9//qMffvhBgYGBkn79YDszM1PJyclmzJYtW5Sfn6+OHTuaMdu3b1deXp4Zk5CQoCZNmhQ5lQsAABUNRXQAAHDNeCg4AAAVy7lz55SSkqKUlBRJUmpqqlJSUpSWlqZz585pwoQJ2rNnj06ePKnNmzfr7rvvVuPGjc2c26xZM/Xu3VsjR47UZ599pl27dik2NlYDBgxQUFCQJGnQoEGy2+2Kjo7W4cOH9c4772jBggVO07UAAFCRMSc6AAC4ZjwUHACAimXv3r3q3r27uV5Q2B42bJgWLVqkAwcO6M0331RmZqaCgoIUERGhmTNnOj1rZPny5YqNjVXPnj3l5uam/v3766WXXjLbvb29tXHjRsXExKh9+/aqV6+epkyZolGjRpXdQAEAKEUU0QEAAAAAqKTCw8Ov+CH4hg0brnoMX19frVix4ooxrVu31o4dO667fwAAVARM5wIAAAAAAAAAgAWK6AAAAAAAAAAAWKCIDgAAAAAAAACABYroAAAAAAAAAABYoIgOAAAAAAAAAIAFiugAAAAAAAAAAFigiA4AAAAAAAAAgAUPV3cAAAAAAAAAAMrKK0987OoulKrYF/q6uguVDneiAwAAAAAAAABggSI6AAAAAAAAAAAWKKIDAAAAAAAAAGCBIjoAAAAAAAAAABYoogMAAAAAAAAAYIEiOgAAAAAAAAAAFiiiAwAAAAAAAABggSI6AAAAAAAAAAAWKKIDAAAAAAAAAGCBIjoAAAAAAAAAABYoogMAAAAAAAAAYIEiOgAAAAAAAAAAFiiiAwAAAAAAAABggSI6AAAAAAAAAAAWKKIDAAAAAAAAAGCBIjoAAAAAAAAAABYoogMAAAAAAAAAYIEiOgAAAAAAAAAAFiiiAwAAAAAAAABggSI6AAAAAAAAAAAWKKIDAAAAAAAAAGCBIjoAAAAAAAAAABYoogMAAAAAAAAAYIEiOgAAAAAAAAAAFiiiAwAAAAAAAABggSI6AAAAAAAAAAAWKKIDAAAAAAAAAGCBIjoAAAAAAJXU9u3b1bdvXwUFBclms2n16tVmW15eniZNmqRWrVqpZs2aCgoK0tChQ3Xq1CmnY9xwww2y2WxOy3PPPecUc+DAAXXp0kWenp4KDg7W7Nmzy2J4AACUCYroAAAAAABUUufPn1ebNm20cOHCQm0XLlzQF198ob/97W/64osv9MEHH+jYsWO66667CsXOmDFDp0+fNpcxY8aYbdnZ2YqIiFBISIiSk5M1Z84cTZs2Ta+//nqpjg0AgLLi4eoOAAAAAACA0tGnTx/16dOnyDZvb28lJCQ4bXvllVd06623Ki0tTQ0bNjS3165dWwEBAUUeZ/ny5crNzdWSJUtkt9vVokULpaSkaN68eRo1alTJDQYAABfhTnQAAAAAACBJysrKks1mk4+Pj9P25557TnXr1tXNN9+sOXPm6OLFi2ZbUlKSunbtKrvdbm6LjIzUsWPH9OOPPxZ5npycHGVnZzstAACUV9yJDgAAAAAA9Msvv2jSpEkaOHCgvLy8zO2PP/642rVrJ19fX+3evVtxcXE6ffq05s2bJ0lKT09XaGio07H8/f3Ntjp16hQ616xZszR9+vRSHA0AACWHIjoAAAAAAFVcXl6e/vznP8swDC1atMipbfz48ebPrVu3lt1u1yOPPKJZs2bJ4XAU63xxcXFOx83OzlZwcHDxOg8AQCmjiA4AAAAAQBVWUED/5ptvtGXLFqe70IvSsWNHXbx4USdPnlSTJk0UEBCgjIwMp5iCdat51B0OR7EL8AAAlDXmRAcAAAAAoIoqKKAfP35cmzZtUt26da+6T0pKitzc3OTn5ydJCgsL0/bt25WXl2fGJCQkqEmTJkVO5QIAQEXDnegAAAAAAFRS586d01dffWWup6amKiUlRb6+vgoMDNR9992nL774QmvWrNGlS5eUnp4uSfL19ZXdbldSUpI+/fRTde/eXbVr11ZSUpLGjRunBx980CyQDxo0SNOnT1d0dLQmTZqkQ4cOacGCBZo/f75LxgwAQEmjiA4AAAAAQCW1d+9ede/e3VwvmId82LBhmjZtmj766CNJUtu2bZ3227p1q8LDw+VwOLRy5UpNmzZNOTk5Cg0N1bhx45zmM/f29tbGjRsVExOj9u3bq169epoyZYpGjRpV+gMEAKAMUEQHAAAAAKCSCg8Pl2EYlu1XapOkdu3aac+ePVc9T+vWrbVjx47r7h8AABUBRXQAAAAAAACgkkrs2s3VXShV3bYnuroLqAJ4sCgAAAAAAAAAABYoogMAAAAAAAAAYKFYRfQePXooMzOz0Pbs7Gz16NHj9/YJAACUMHI3AAAVC7kbAIDyo1hF9G3btik3N7fQ9l9++YUHiQAAUA6RuwEAqFjI3QAAlB/X9WDRAwcOmD8fOXJE6enp5vqlS5e0fv16/eEPfyi53gEAgN+F3A0AQMVC7gYAoPy5riJ627ZtZbPZZLPZivz6WPXq1fXyyy+XWOcAAMDvQ+4GAKBiIXcDAFD+XNd0LqmpqTpx4oQMw9Bnn32m1NRUc/nuu++UnZ2t4cOHX/Pxtm/frr59+yooKEg2m02rV692an/ooYfM/3koWHr37u0Uc/bsWQ0ePFheXl7y8fFRdHS0zp075xRz4MABdenSRZ6engoODtbs2bOvZ9gAAFRYJZ27AQBA6SJ3AwBQ/lzXneghISGSpPz8/BI5+fnz59WmTRsNHz5c9957b5ExvXv31tKlS811h8Ph1D548GCdPn1aCQkJysvL08MPP6xRo0ZpxYoVkn596EpERIR69eqlxYsX6+DBgxo+fLh8fHw0atSoEhkHAADlVUnnbgAAULrI3QAAlD/XVUS/3PHjx7V161adOXOmUHKfMmXKNR2jT58+6tOnzxVjHA6HAgICimw7evSo1q9fr88//1wdOnSQJL388su64447NHfuXAUFBWn58uXKzc3VkiVLZLfb1aJFC6WkpGjevHkU0QEAVUpJ5G4AAFB2yN0AAJQPxSqi/+Mf/9Do0aNVr149BQQEyGazmW02m61Ek/m2bdvk5+enOnXqqEePHnrmmWdUt25dSVJSUpJ8fHzMArok9erVS25ubvr00091zz33KCkpSV27dpXdbjdjIiMj9fzzz+vHH39UnTp1SqyvAACUV2WZuwEAwO9H7gYAoPy4rjnRCzzzzDP6+9//rvT0dKWkpGjfvn3m8sUXX5RY53r37q1//etf2rx5s55//nklJiaqT58+unTpkiQpPT1dfn5+Tvt4eHjI19fXfIJ5enq6/P39nWIK1i9/yvnlcnJylJ2d7bQAAFCRlVTu5nkmAACUjbJ63w0AAK6uWHei//jjj7r//vtLui+FDBgwwPy5VatWat26tRo1aqRt27apZ8+epXbeWbNmafr06aV2fAAAylpJ5W6eZwIAQNkoq/fdAADg6op1J/r999+vjRs3lnRfrurGG29UvXr19NVXX0mSAgICdObMGaeYixcv6uzZs+Y86gEBAcrIyHCKKVi3mms9Li5OWVlZ5vLtt9+W9FAAAChTJZW7+/Tpo2eeeUb33HOPZUzB80wKlsunTit4nsk///lPdezYUbfffrtefvllrVy5UqdOnZIkp+eZtGjRQgMGDNDjjz+uefPm/e7+AwBQUbjqfTcAACisWHeiN27cWH/729+0Z88etWrVStWqVXNqf/zxx0ukc7/1n//8Rz/88IMCAwMlSWFhYcrMzFRycrLat28vSdqyZYvy8/PVsWNHM+bpp59WXl6e2c+EhAQ1adLEcj50h8NR6K45AAAqsrLM3TzPBACA389V77sBAEBhxSqiv/7666pVq5YSExOVmJjo1Gaz2a45mZ87d868q1ySUlNTlZKSIl9fX/n6+mr69Onq37+/AgICdOLECU2cOFGNGzdWZGSkJKlZs2bq3bu3Ro4cqcWLFysvL0+xsbEaMGCAgoKCJEmDBg3S9OnTFR0drUmTJunQoUNasGCB5s+fX5yhAwBQIZVU7r6a3r17695771VoaKhOnDihp556Sn369FFSUpLc3d2v+XkmoaGhTjGXP8+kqCJ6Tk6OcnJyzHWeZwIAqOjKKncDAICrK1YRPTU1tUROvnfvXnXv3t1cHz9+vCRp2LBhWrRokQ4cOKA333xTmZmZCgoKUkREhGbOnOl0l/jy5csVGxurnj17ys3NTf3799dLL71ktnt7e2vjxo2KiYlR+/btVa9ePU2ZMoU5VQEAVUpJ5e6r4XkmAACUjLLK3QAA4OqKVUQvKeHh4TIMw7J9w4YNVz2Gr6+v+SAyK61bt9aOHTuuu38AAOD3ufx5Jj179izV55kUfBgv/XonenBwcEkOBQAAAABQRRWriD58+PArti9ZsqRYnQEAAKXDVbmb55kAAFA8vO8GAKD8KFYR/ccff3Raz8vL06FDh5SZmakePXqUSMcAAEDJKanczfNMAAAoG7zvBgCg/ChWEX3VqlWFtuXn52v06NFq1KjR7+4UAAAoWSWVu3meCQAAZYP33QAAlB8lNie6m5ubxo8fr/DwcE2cOLGkDgsAAEpJcXI3zzMBAMB1eN8NAIBruJXkwU6cOKGLFy+W5CEBAEApIncDAFCxkLsBACh7xboTveCr2wUMw9Dp06e1du1aDRs2rEQ6BgAASg65GwCAioXcDQBA+VGsIvq+ffuc1t3c3FS/fn298MILV32COAAAKHvkbgAAKhZyNwAA5Uexiuhbt24t6X4AAIBSRO4GAKBiIXcDAFB+/K4Hi37//fc6duyYJKlJkyaqX79+iXQKAACUDnI3AAAVC7kbAADXK9aDRc+fP6/hw4crMDBQXbt2VdeuXRUUFKTo6GhduHChpPsIAAB+J3I3AAAVC7kbAIDyo1hF9PHjxysxMVEff/yxMjMzlZmZqQ8//FCJiYl64oknSrqPAADgdyJ3AwBQsZC7AQAoP4o1ncv//d//6f3331d4eLi57Y477lD16tX15z//WYsWLSqp/gEAgBJA7gYAoGIhdwMAUH4U6070CxcuyN/fv9B2Pz8/vlYGAEA5RO4GAKBiIXcDAFB+FKuIHhYWpqlTp+qXX34xt/3888+aPn26wsLCSqxzAACgZJC7AQCoWMjdAACUH8WazuXFF19U79691aBBA7Vp00aStH//fjkcDm3cuLFEOwgAAH4/cjcAABULuRsAgPKjWEX0Vq1a6fjx41q+fLm+/PJLSdLAgQM1ePBgVa9evUQ7CAAAfj9yNwAAFQu5GwCA8qNYRfRZs2bJ399fI0eOdNq+ZMkSff/995o0aVKJdA4AAJQMcjcAABULuRsAgPKjWHOiv/baa2ratGmh7S1atNDixYt/d6cAAEDJIncDAFCxlFTu3r59u/r27augoCDZbDatXr3aqd0wDE2ZMkWBgYGqXr26evXqpePHjzvFnD17VoMHD5aXl5d8fHwUHR2tc+fOOcUcOHBAXbp0kaenp4KDgzV79uxrHywAAOVcsYro6enpCgwMLLS9fv36On369O/uFAAAKFnkbgAAKpaSyt3nz59XmzZttHDhwiLbZ8+erZdeekmLFy/Wp59+qpo1ayoyMtLpgaaDBw/W4cOHlZCQoDVr1mj79u0aNWqU2Z6dna2IiAiFhIQoOTlZc+bM0bRp0/T6669fx4gBACi/ijWdS3BwsHbt2qXQ0FCn7bt27VJQUFCJdAwAAJQccjcAABVLSeXuPn36qE+fPkW2GYahF198UZMnT9bdd98tSfrXv/4lf39/rV69WgMGDNDRo0e1fv16ff755+rQoYMk6eWXX9Ydd9yhuXPnKigoSMuXL1dubq6WLFkiu92uFi1aKCUlRfPmzXMqtgMAUFEVq4g+cuRIjR07Vnl5eerRo4ckafPmzZo4caKeeOKJEu0gAAD4/cjdAABULGWRu1NTU5Wenq5evXqZ27y9vdWxY0clJSVpwIABSkpKko+Pj1lAl6RevXrJzc1Nn376qe655x4lJSWpa9eustvtZkxkZKSef/55/fjjj6pTp06hc+fk5CgnJ8dcz87OLpExAQBQGopVRJ8wYYJ++OEHPfbYY8rNzZUkeXp6atKkSYqLiyvRDgIAgN+P3A0AQMVSFrk7PT1dkuTv7++03d/f32xLT0+Xn5+fU7uHh4d8fX2dYn57x3zBMdPT04ssos+aNUvTp08vkXEAAFDailVEt9lsev755/W3v/1NR48eVfXq1fXHP/5RDoejpPsHAABKALkbAICKpbLn7ri4OI0fP95cz87OVnBwsAt7BACAtWIV0QvUqlVLt9xyS0n1BQAAlDJyNwAAFUtp5u6AgABJUkZGhtNDTDMyMtS2bVsz5syZM077Xbx4UWfPnjX3DwgIUEZGhlNMwXpBzG85HI5K84EAAKDyc3N1BwAAAAAAQNkLDQ1VQECANm/ebG7Lzs7Wp59+qrCwMElSWFiYMjMzlZycbMZs2bJF+fn56tixoxmzfft25eXlmTEJCQlq0qRJkVO5AABQ0VBEBwAAAACgkjp37pxSUlKUkpIi6deHiaakpCgtLU02m01jx47VM888o48++kgHDx7U0KFDFRQUpH79+kmSmjVrpt69e2vkyJH67LPPtGvXLsXGxmrAgAEKCgqSJA0aNEh2u13R0dE6fPiw3nnnHS1YsMBpuhYAACqy3zWdCwAAAAAAKL/27t2r7t27m+sFhe1hw4YpPj5eEydO1Pnz5zVq1ChlZmbq9ttv1/r16+Xp6Wnus3z5csXGxqpnz55yc3NT//799dJLL5nt3t7e2rhxo2JiYtS+fXvVq1dPU6ZM0ahRo8puoAAAlCKK6AAAAAAAVFLh4eEyDMOy3WazacaMGZoxY4ZljK+vr1asWHHF87Ru3Vo7duwodj8BACjPmM4FAAAAAAAAAAALFNEBAAAAAAAAALBAER0AAAAAAAAAAAsU0QEAAAAAAAAAsEARHQAAAAAAAAAACxTRAQAAAAAAAACwQBEdAAAAAAAAAAALFNEBAAAAAAAAALBAER0AAAAAAAAAAAsU0QEAAAAAAAAAsEARHQAAAAAAAAAACxTRAQAAAAAAAACwQBEdAAAAAAAAAAALFNEBAAAAAAAAALBAER0AAAAAAAAAAAsU0QEAAAAAAAAAsEARHQAAAAAAAAAACxTRAQAAAAAAAACwQBEdAAAAAAAAAAALFNEBAAAAAAAAALBAER0AAAAAAAAAAAsU0QEAAAAAAAAAsEARHQAAAAAAAAAACxTRAQAAAAAAAACwQBEdAAAAAAAAAAALFNEBAAAAAAAAALBAER0AAAAAAAAAAAsU0QEAAAAAAAAAsEARHQAAAAAAAAAACxTRAQAAAAAAAACwQBEdAAAAAAAAAAALLi2ib9++XX379lVQUJBsNptWr17t1G4YhqZMmaLAwEBVr15dvXr10vHjx51izp49q8GDB8vLy0s+Pj6Kjo7WuXPnnGIOHDigLl26yNPTU8HBwZo9e3ZpDw0AAAAAAAAAUAm4tIh+/vx5tWnTRgsXLiyyffbs2XrppZe0ePFiffrpp6pZs6YiIyP1yy+/mDGDBw/W4cOHlZCQoDVr1mj79u0aNWqU2Z6dna2IiAiFhIQoOTlZc+bM0bRp0/T666+X+vgAAAAAAAAAABWbhytP3qdPH/Xp06fINsMw9OKLL2ry5Mm6++67JUn/+te/5O/vr9WrV2vAgAE6evSo1q9fr88//1wdOnSQJL388su64447NHfuXAUFBWn58uXKzc3VkiVLZLfb1aJFC6WkpGjevHlOxXYAAAAAAAAAAH6r3M6JnpqaqvT0dPXq1cvc5u3trY4dOyopKUmSlJSUJB8fH7OALkm9evWSm5ubPv30UzOma9eustvtZkxkZKSOHTumH3/8sYxGAwBA5cBUbAAAVD433HCDbDZboSUmJkaSFB4eXqjt0UcfdTpGWlqaoqKiVKNGDfn5+WnChAm6ePGiK4YDAECJK7dF9PT0dEmSv7+/03Z/f3+zLT09XX5+fk7tHh4e8vX1dYop6hiXn+O3cnJylJ2d7bQAAACmYgMAoDL6/PPPdfr0aXNJSEiQJN1///1mzMiRI51iLv+A+9KlS4qKilJubq52796tN998U/Hx8ZoyZUqZjwUAgNLg0ulcyqtZs2Zp+vTpru4GAADlDlOxAQBQ+dSvX99p/bnnnlOjRo3UrVs3c1uNGjUUEBBQ5P4bN27UkSNHtGnTJvn7+6tt27aaOXOmJk2apGnTpjl9MxwAgIqo3N6JXpCcMzIynLZnZGSYbQEBATpz5oxT+8WLF3X27FmnmKKOcfk5fisuLk5ZWVnm8u233/7+AQEAUMkxFRsAABVfbm6uli1bpuHDh8tms5nbly9frnr16qlly5aKi4vThQsXzLakpCS1atXK6VvgkZGRys7O1uHDh8u0/wAAlIZyW0QPDQ1VQECANm/ebG7Lzs7Wp59+qrCwMElSWFiYMjMzlZycbMZs2bJF+fn56tixoxmzfft25eXlmTEJCQlq0qSJ6tSpU+S5HQ6HvLy8nBYAAHBlTMUGAEDFt3r1amVmZuqhhx4ytw0aNEjLli3T1q1bFRcXp7feeksPPvig2U7uBgBUdi6dzuXcuXP66quvzPXU1FSlpKTI19dXDRs21NixY/XMM8/oj3/8o0JDQ/W3v/1NQUFB6tevnySpWbNm6t27t0aOHKnFixcrLy9PsbGxGjBggIKCgiT9muynT5+u6OhoTZo0SYcOHdKCBQs0f/58VwwZAACUAqZiAwCgZLzxxhvq06eP+Z5aktN0aq1atVJgYKB69uypEydOqFGjRsU6D7kbAFCRuPRO9L179+rmm2/WzTffLEkaP368br75ZvPhIxMnTtSYMWM0atQo3XLLLTp37pzWr18vT09P8xjLly9X06ZN1bNnT91xxx26/fbbnR485u3trY0bNyo1NVXt27fXE088oSlTpjCnKgAAJYyp2AAAqNi++eYbbdq0SSNGjLhiXME3vwtuiiN3AwAqO5feiR4eHi7DMCzbbTabZsyYoRkzZljG+Pr6asWKFVc8T+vWrbVjx45i9xMAAFzd5VOxtW3bVtL/pmIbPXq0JOep2Nq3by+p6KnYnn76aeXl5alatWqSrm0qNofDUcojBACgclu6dKn8/PwUFRV1xbiUlBRJUmBgoKRfc/ff//53nTlzxpy2LSEhQV5eXmrevHmRxyB3AwAqknI7JzoAACh/zp07p5SUFPPNc8FUbGlpabLZbOZUbB999JEOHjyooUOHWk7F9tlnn2nXrl1FTsVmt9sVHR2tw4cP65133tGCBQs0fvx4F40aAIDKLz8/X0uXLtWwYcPk4fG/++1OnDihmTNnKjk5WSdPntRHH32koUOHqmvXrmrdurUkKSIiQs2bN9eQIUO0f/9+bdiwQZMnT1ZMTAyFcgBApeDSO9EBAEDFsnfvXnXv3t1cLyhsDxs2TPHx8Zo4caLOnz+vUaNGKTMzU7fffnuRU7HFxsaqZ8+ecnNzU//+/fXSSy+Z7QVTscXExKh9+/aqV68eU7EBAFDKNm3apLS0NA0fPtxpu91u16ZNm/Tiiy/q/PnzCg4OVv/+/TV58mQzxt3dXWvWrNHo0aMVFhammjVratiwYVf8VjkAABUJRXQAAHDNmIoNAIDKKSIiosgcHxwcrMTExKvuHxISonXr1pVG1wAAcDmmcwEAAAAAAAAAwAJFdAAAAAAAAAAALFBEBwAAAAAAAADAAkV0AAAAAAAAAAAsUEQHAAAAAAAAAMACRXQAAAAAAAAAACxQRAcAAAAAAAAAwAJFdAAAAAAAAAAALFBEBwAAAAAAAADAAkV0AAAAAAAAAAAsUEQHAAAAAAAAAMACRXQAAAAAAAAAACxQRAcAAAAAAAAAwAJFdAAAAAAAAAAALFBEBwAAAAAAAADAAkV0AAAAAAAAAAAsUEQHAAAAAAAAAMACRXQAAAAAAAAAACxQRAcAAAAAAAAAwAJFdAAAAAAAAAAALFBEBwAAAAAAAADAAkV0AAAAAAAAAAAsUEQHAAAAAAAAAMACRXQAAAAAAAAAACxQRAcAAAAAAAAAwAJFdAAAAAAAAAAALFBEBwAAAAAAAADAAkV0AAAAAAAAAAAsUEQHAAAAAAAAAMACRXQAAAAAAAAAACxQRAcAAAAAAAAAwAJFdAAAAAAAAAAALFBEBwAAAAAAAADAAkV0AAAAAAAAAAAsUEQHAAAAAAAAAMACRXQAAAAAAKqoadOmyWazOS1NmzY123/55RfFxMSobt26qlWrlvr376+MjAynY6SlpSkqKko1atSQn5+fJkyYoIsXL5b1UAAAKDUeru4AAAAAAABwnRYtWmjTpk3muofH/0oF48aN09q1a/Xee+/J29tbsbGxuvfee7Vr1y5J0qVLlxQVFaWAgADt3r1bp0+f1tChQ1WtWjU9++yzZT4WAABKA0V0AAAAAACqMA8PDwUEBBTanpWVpTfeeEMrVqxQjx49JElLly5Vs2bNtGfPHnXq1EkbN27UkSNHtGnTJvn7+6tt27aaOXOmJk2apGnTpslut5f1cAAAKHFM5wIAAAAAQBV2/PhxBQUF6cYbb9TgwYOVlpYmSUpOTlZeXp569eplxjZt2lQNGzZUUlKSJCkpKUmtWrWSv7+/GRMZGans7GwdPny4bAcCAEAp4U50AAAAAACqqI4dOyo+Pl5NmjTR6dOnNX36dHXp0kWHDh1Senq67Ha7fHx8nPbx9/dXenq6JCk9Pd2pgF7QXtBmJScnRzk5OeZ6dnZ2CY0IAICSRxEdAAAAAIAqqk+fPubPrVu3VseOHRUSEqJ3331X1atXL7Xzzpo1S9OnTy+14wMAUJKYzgUAAAAAAEiSfHx8dNNNN+mrr75SQECAcnNzlZmZ6RSTkZFhzqEeEBCgjIyMQu0FbVbi4uKUlZVlLt9++23JDgQAgBJEER0AAAAAAEiSzp07pxMnTigwMFDt27dXtWrVtHnzZrP92LFjSktLU1hYmCQpLCxMBw8e1JkzZ8yYhIQEeXl5qXnz5pbncTgc8vLycloAACivmM4FAAAAAIAq6q9//av69u2rkJAQnTp1SlOnTpW7u7sGDhwob29vRUdHa/z48fL19ZWXl5fGjBmjsLAwderUSZIUERGh5s2ba8iQIZo9e7bS09M1efJkxcTEyOFwuHh0AACUDIroAAAAAABUUf/5z380cOBA/fDDD6pfv75uv/127dmzR/Xr15ckzZ8/X25uburfv79ycnIUGRmpV1991dzf3d1da9as0ejRoxUWFqaaNWtq2LBhmjFjhquGBABAiaOIDgAAAABAFbVy5cortnt6emrhwoVauHChZUxISIjWrVtX0l0DAKDcYE50AAAAAAAAAAAsUEQHAAAAAAAAAMACRXQAAAAAAAAAACxQRAcAAAAAAAAAwAJFdAAAAAAAAAAALFBEBwAAAAAAAADAAkV0AAAAAAAAAAAsUEQHAAAAAAAAAMACRXQAAAAAAAAAACxQRAcAAAAAAAAAwAJFdAAAAAAAAAAALJTrIvq0adNks9mclqZNm5rtv/zyi2JiYlS3bl3VqlVL/fv3V0ZGhtMx0tLSFBUVpRo1asjPz08TJkzQxYsXy3ooAAAAAAAAAIAKqFwX0SWpRYsWOn36tLns3LnTbBs3bpw+/vhjvffee0pMTNSpU6d07733mu2XLl1SVFSUcnNztXv3br355puKj4/XlClTXDEUAAAqPT4ABwAAAABUNh6u7sDVeHh4KCAgoND2rKwsvfHGG1qxYoV69OghSVq6dKmaNWumPXv2qFOnTtq4caOOHDmiTZs2yd/fX23bttXMmTM1adIkTZs2TXa7vayHAwBApdeiRQtt2rTJXPfw+N//bowbN05r167Ve++9J29vb8XGxuree+/Vrl27JP3vA/CAgADt3r1bp0+f1tChQ1WtWjU9++yzZT4WAAAAAADK/Z3ox48fV1BQkG688UYNHjxYaWlpkqTk5GTl5eWpV69eZmzTpk3VsGFDJSUlSZKSkpLUqlUr+fv7mzGRkZHKzs7W4cOHLc+Zk5Oj7OxspwUAAFybgg/AC5Z69epJ+t8H4PPmzVOPHj3Uvn17LV26VLt379aePXskyfwAfNmyZWrbtq369OmjmTNnauHChcrNzXXlsAAAAAAAVVS5LqJ37NhR8fHxWr9+vRYtWqTU1FR16dJFP/30k9LT02W32+Xj4+O0j7+/v9LT0yVJ6enpTgX0gvaCNiuzZs2St7e3uQQHB5fswAAAqMRc8QE4AAAAAAClpVxP59KnTx/z59atW6tjx44KCQnRu+++q+rVq5faeePi4jR+/HhzPTs7m0I6AADXoOAD8CZNmuj06dOaPn26unTpokOHDpXqB+A5OTnKyckx1/kWGQAAAACgpJTrIvpv+fj46KabbtJXX32lP/3pT8rNzVVmZqbTm/GMjAxzDvWAgAB99tlnTscoeHhZUfOsF3A4HHI4HCU/AAAAKjlXfQA+a9YsTZ8+vdSODwAAAACousr1dC6/de7cOZ04cUKBgYFq3769qlWrps2bN5vtx44dU1pamsLCwiRJYWFhOnjwoM6cOWPGJCQkyMvLS82bNy/z/gMAUNVc/gF4QECA+QH45X77AXjBB96Xtxe0WYmLi1NWVpa5fPvttyU7EAAAAABAlVWui+h//etflZiYqJMnT2r37t2655575O7uroEDB8rb21vR0dEaP368tm7dquTkZD388MMKCwtTp06dJEkRERFq3ry5hgwZov3792vDhg2aPHmyYmJiuNMcAIAyUFYfgDscDnl5eTktAAAAAACUhHI9nct//vMfDRw4UD/88IPq16+v22+/XXv27FH9+vUlSfPnz5ebm5v69++vnJwcRUZG6tVXXzX3d3d315o1azR69GiFhYWpZs2aGjZsmGbMmOGqIQEAUKn99a9/Vd++fRUSEqJTp05p6tSpRX4A7uvrKy8vL40ZM8byA/DZs2crPT2dD8ABAAAAAC5VrovoK1euvGK7p6enFi5cqIULF1rGhISEaN26dSXdNQAAUAQ+AAcAAAAAVDbluogOAAAqFj4ABwAAAABUNuV6TnQAAAAAAAAAAFyJIjoAAAAAAAAAABYoogMAAAAAAAAAYIEiOgAAAAAAAAAAFiiiAwAAAAAAAABggSI6AAAAAAAAAAAWKKIDAAAAAAAAAGCBIjoAAAAAAAAAABYoogMAAAAAAAAAYIEiOgAAAAAAAAAAFiiiAwAAAAAAAABggSI6AAAAAAAAAAAWKKIDAAAAAFBFzZo1S7fccotq164tPz8/9evXT8eOHXOKCQ8Pl81mc1oeffRRp5i0tDRFRUWpRo0a8vPz04QJE3Tx4sWyHAoAAKXGw9UdAAAAAAAArpGYmKiYmBjdcsstunjxop566ilFREToyJEjqlmzphk3cuRIzZgxw1yvUaOG+fOlS5cUFRWlgIAA7d69W6dPn9bQoUNVrVo1Pfvss2U6HgAASgNFdAAAAAAAqqj169c7rcfHx8vPz0/Jycnq2rWrub1GjRoKCAgo8hgbN27UkSNHtGnTJvn7+6tt27aaOXOmJk2apGnTpslut5fqGAAAKG1M5wIAAAAAACRJWVlZkiRfX1+n7cuXL1e9evXUsmVLxcXF6cKFC2ZbUlKSWrVqJX9/f3NbZGSksrOzdfjw4bLpOAAApYg70QEAAAAAgPLz8zV27Fh17txZLVu2NLcPGjRIISEhCgoK0oEDBzRp0iQdO3ZMH3zwgSQpPT3dqYAuyVxPT08v8lw5OTnKyckx17Ozs0t6OAAAlBiK6AAAAAAAQDExMTp06JB27tzptH3UqFHmz61atVJgYKB69uypEydOqFGjRsU616xZszR9+vTf1V8AAMoK07kAAAAAAFDFxcbGas2aNdq6dasaNGhwxdiOHTtKkr766itJUkBAgDIyMpxiCtat5lGPi4tTVlaWuXz77be/dwgAAJQaiugAAAAAAFRRhmEoNjZWq1at0pYtWxQaGnrVfVJSUiRJgYGBkqSwsDAdPHhQZ86cMWMSEhLk5eWl5s2bF3kMh8MhLy8vpwUAgPKK6VwAAAAAAKiiYmJitGLFCn344YeqXbu2OYe5t7e3qlevrhMnTmjFihW64447VLduXR04cEDjxo1T165d1bp1a0lSRESEmjdvriFDhmj27NlKT0/X5MmTFRMTI4fD4crhAQBQIrgTHQAAAACAKmrRokXKyspSeHi4AgMDzeWdd96RJNntdm3atEkRERFq2rSpnnjiCfXv318ff/yxeQx3d3etWbNG7u7uCgsL04MPPqihQ4dqxowZrhoWAAAlijvRAQAAAACoogzDuGJ7cHCwEhMTr3qckJAQrVu3rqS6BQBAucKd6AAAAAAAAAAAWKCIDgAAAAAAAACABYroAAAAAAAAAABYoIgOAAAAAAAAAIAFiugAAAAAAAAAAFigiA4AAAAAAAAAgAUPV3cAAAAAAAAAKAmdX+7s6i6Uml1jdrm6C0CVxZ3oAAAAAAAAAABYoIgOAAAAAAAAAIAFiugAAAAAAAAAAFigiA4AAAAAAAAAgAWK6AAAAAAAAAAAWKCIDgAAAAAAAACABYroAAAAAAAAAABYoIgOAAAAAAAAAIAFiugAAAAAAAAAAFigiA4AAAAAAAAAgAWK6AAAAAAAAAAAWKCIDgAAAAAAAACABYroAAAAAAAAAABYoIgOAAAAAAAAAIAFiugAAAAAAAAAAFigiA4AAAAAAAAAgAWK6AAAAAAAAAAAWKCIDgAAAAAAAACABYroAAAAAAAAAABY8HB1BwAAAAAAAHD90ma0cnUXSk3DKQdd3QUAMHEnOgAAAAAAAAAAFiiiAwAAAAAAAABggSI6AAAAAAAAAAAWKKIDAAAAAAAAAGCBIjoAAAAAAAAAABYoogMAAAAAAAAAYIEiOgAAAAAAAAAAFiiiAwAAAAAAAABgoUoV0RcuXKgbbrhBnp6e6tixoz777DNXdwkAAFwBuRsAgIqF3A0AqIyqTBH9nXfe0fjx4zV16lR98cUXatOmjSIjI3XmzBlXdw0AABSB3A0AQMVC7gYAVFZVpog+b948jRw5Ug8//LCaN2+uxYsXq0aNGlqyZImruwYAAIpA7gYAoGIhdwMAKqsqUUTPzc1VcnKyevXqZW5zc3NTr169lJSU5MKeAQCAopC7AQCoWMjdAIDKzMPVHSgL//3vf3Xp0iX5+/s7bff399eXX35ZKD4nJ0c5OTnmelZWliQpOzu7RPt1KefnEj0eUBJK+ve8tPz0yyVXdwEopKRfPwXHMwyjRI9bEZC7gWtH7gaKj9xdcko7d3ed/HYJ9rb82f7MwGLtV5n/thb39Xnx54sl3JPyo7jX5PzFyntNpOJdl59zLpRCT8qP4v6u/JKXV8I9KT+srsm15u4qUUS/XrNmzdL06dMLbQ8ODnZBb4Cy5f3yo67uAlBxzfIulcP+9NNP8vYunWNXFuRuVGXkbuB3IHe7DLnbGX/Li1BKr8+KzHsS16RI/L0tZOJCV/eg/Hnm3Sv/nlwtd1eJInq9evXk7u6ujIwMp+0ZGRkKCAgoFB8XF6fx48eb6/n5+Tp79qzq1q0rm81W6v3F9cnOzlZwcLC+/fZbeXl5ubo7QIXC66d8MwxDP/30k4KCglzdlTJH7q7c+NsDFB+vn/KN3F05cjevs8K4JkXjuhTGNSmMa1JYebom15q7q0QR3W63q3379tq8ebP69esn6dcEvXnzZsXGxhaKdzgccjgcTtt8fHzKoKf4Pby8vFz+wgMqKl4/5VdVvYuN3F018LcHKD5eP+UXubvy5G5eZ4VxTYrGdSmMa1IY16Sw8nJNriV3V4kiuiSNHz9ew4YNU4cOHXTrrbfqxRdf1Pnz5/Xwww+7umsAAKAI5G4AACoWcjcAoLKqMkX0Bx54QN9//72mTJmi9PR0tW3bVuvXry/00BMAAFA+kLsBAKhYyN0AgMqqyhTRJSk2NrbIr5GhYnM4HJo6dWqhrwICuDpePyjvyN2VE397gOLj9YPyrjLkbl5nhXFNisZ1KYxrUhjXpLCKeE1shmEYru4EAAAAAAAAAADlkZurOwAAAAAAAAAAQHlFER0AAAAAAAAAAAsU0QEAAAAAAAAAsEARHRXCwoULdcMNN8jT01MdO3bUZ599dsX49957T02bNpWnp6datWqldevWlVFPgfJl+/bt6tu3r4KCgmSz2bR69eqr7rNt2za1a9dODodDjRs3Vnx8fKn3E0DlQ+4GiofcDZQ+XmfOZs2apVtuuUW1a9eWn5+f+vXrp2PHjl11v8qeuxctWqTWrVvLy8tLXl5eCgsL0yeffHLFfSr7Nfmt5557TjabTWPHjr1iXGW+LtOmTZPNZnNamjZtesV9KvP1KPDdd9/pwQcfVN26dVW9enW1atVKe/fuveI+5f3vLEV0lHvvvPOOxo8fr6lTp+qLL75QmzZtFBkZqTNnzhQZv3v3bg0cOFDR0dHat2+f+vXrp379+unQoUNl3HPA9c6fP682bdpo4cKF1xSfmpqqqKgode/eXSkpKRo7dqxGjBihDRs2lHJPAVQm5G6g+MjdQOnjdeYsMTFRMTEx2rNnjxISEpSXl6eIiAidP3/ecp+qkLsbNGig5557TsnJydq7d6969Oihu+++W4cPHy4yvipck8t9/vnneu2119S6desrxlWF69KiRQudPn3aXHbu3GkZWxWux48//qjOnTurWrVq+uSTT3TkyBG98MILqlOnjuU+FeHvrM0wDMPVnQCupGPHjrrlllv0yiuvSJLy8/MVHBysMWPG6MknnywU/8ADD+j8+fNas2aNua1Tp05q27atFi9eXGb9Bsobm82mVatWqV+/fpYxkyZN0tq1a50S+IABA5SZman169eXQS8BVAbkbqBkkLuB0sfrrLDvv/9efn5+SkxMVNeuXYuMqaq529fXV3PmzFF0dHShtqp0Tc6dO6d27drp1Vdf1TPPPKO2bdvqxRdfLDK2sl+XadOmafXq1UpJSbmm+Mp+PSTpySef1K5du7Rjx45r3qci/J3lTnSUa7m5uUpOTlavXr3MbW5uburVq5eSkpKK3CcpKckpXpIiIyMt4wH8D68fAL8XuRsoW7x+gNJX1V5nWVlZkn4tGFupatfk0qVLWrlypc6fP6+wsLAiY6rSNYmJiVFUVFSh8RalKlyX48ePKygoSDfeeKMGDx6stLQ0y9iqcD0++ugjdejQQffff7/8/Px088036x//+McV96kI14UiOsq1//73v7p06ZL8/f2dtvv7+ys9Pb3IfdLT068rHsD/WL1+srOz9fPPP7uoVwAqEnI3ULbI3UDpq0qvs/z8fI0dO1adO3dWy5YtLeOqSu4+ePCgatWqJYfDoUcffVSrVq1S8+bNi4ytKtdk5cqV+uKLLzRr1qxriq/s16Vjx46Kj4/X+vXrtWjRIqWmpqpLly766aefioyv7NdDkr7++mstWrRIf/zjH7VhwwaNHj1ajz/+uN58803LfSrC31kPV3cAAAAAAAAArhcTE6NDhw5dcU7nqqRJkyZKSUlRVlaW3n//fQ0bNkyJiYmWhfTK7ttvv9Vf/vIXJSQkyNPT09XdKRf69Olj/ty6dWt17NhRISEhevfdd4uc9qcqyM/PV4cOHfTss89Kkm6++WYdOnRIixcv1rBhw1zcu+LjTnSUa/Xq1ZO7u7syMjKctmdkZCggIKDIfQICAq4rHsD/WL1+vLy8VL16dRf1CkBFQu4Gyha5Gyh9VeV1FhsbqzVr1mjr1q1q0KDBFWOrSu622+1q3Lix2rdvr1mzZqlNmzZasGBBkbFV4ZokJyfrzJkzateunTw8POTh4aHExES99NJL8vDw0KVLlwrtUxWuy+V8fHx000036auvviqyvSpcj8DAwEIfNDVr1uyK09xUhL+zFNFRrtntdrVv316bN282t+Xn52vz5s2W85CFhYU5xUtSQkKCZTyA/+H1A+D3IncDZYvXD1D6KvvrzDAMxcbGatWqVdqyZYtCQ0Ovuk9lvyZW8vPzlZOTU2RbVbgmPXv21MGDB5WSkmIuHTp00ODBg5WSkiJ3d/dC+1SF63K5c+fO6cSJEwoMDCyyvSpcj86dO+vYsWNO2/79738rJCTEcp8KcV0MoJxbuXKl4XA4jPj4eOPIkSPGqFGjDB8fHyM9Pd0wDMMYMmSI8eSTT5rxu3btMjw8PIy5c+caR48eNaZOnWpUq1bNOHjwoKuGALjMTz/9ZOzbt8/Yt2+fIcmYN2+esW/fPuObb74xDMMwnnzySWPIkCFm/Ndff23UqFHDmDBhgnH06FFj4cKFhru7u7F+/XpXDQFABUTuBoqP3A2UPl5nzkaPHm14e3sb27ZtM06fPm0uFy5cMGOqYu5+8sknjcTERCM1NdU4cOCA8eSTTxo2m83YuHGjYRhV85oUpVu3bsZf/vIXc72qXZcnnnjC2LZtm5Gammrs2rXL6NWrl1GvXj3jzJkzhmFUvethGIbx2WefGR4eHsbf//534/jx48by5cuNGjVqGMuWLTNjKuLfWYroqBBefvllo2HDhobdbjduvfVWY8+ePWZbt27djGHDhjnFv/vuu8ZNN91k2O12o0WLFsbatWvLuMdA+bB161ZDUqGl4DUzbNgwo1u3boX2adu2rWG3240bb7zRWLp0aZn3G0DFR+4GiofcDZQ+XmfOiroWkpzGWBVz9/Dhw42QkBDDbrcb9evXN3r27GkW0A2jal6Tovy2iF7VrssDDzxgBAYGGna73fjDH/5gPPDAA8ZXX31ltle161Hg448/Nlq2bGk4HA6jadOmxuuvv+7UXhH/ztoMwzDK7r53AAAAAAAAAAAqDuZEBwAAAAAAAADAAkV0AAAAAAAAAAAsUEQHAAAAAAAAAMACRXQAAAAAAAAAACxQRAcAAAAAAAAAwAJFdAAAAAAAAAAALFBEBwAAAAAAAADAAkV0AAAAAAAAAAAsUEQH4DI2m02rV692dTcAAAAAAChT5eX98EMPPaR+/fq5uhtAuUcRHYC+//57jR49Wg0bNpTD4VBAQIAiIyO1a9cuV3cNAACUEPI9AACl46GHHpLNZiu09O7d29VdM508eVI2m00pKSlO2xcsWKD4+HiX9AmoSDxc3QEArte/f3/l5ubqzTff1I033qiMjAxt3rxZP/zwg6u7dl1yc3Nlt9td3Q0AAMqlypLvAQAoj3r37q2lS5c6bXM4HC7qzbXz9vZ2dReACoE70YEqLjMzUzt27NDzzz+v7t27KyQkRLfeeqvi4uJ01113Sfr1a2avvfaa7rzzTtWoUUPNmjVTUlKSvvrqK4WHh6tmzZq67bbbdOLECadjL1q0SI0aNZLdbleTJk301ltvXbEvU6dOVWBgoA4cOCBJ2rlzp7p06aLq1asrODhYjz/+uM6fP2/G33DDDZo5c6aGDh0qLy8vjRo1qoSvDgAAlcO15PvMzEyNGDFC9evXl5eXl3r06KH9+/dL+vUu9oCAAD377LPmMXfv3i273a7Nmze7ZEwAAJQnBd/yunypU6eOJOn48ePq2rWrPD091bx5cyUkJDjtu23bNtlsNmVmZprbUlJSZLPZdPLkSXPbrl27FB4erho1aqhOnTqKjIzUjz/+KElav369br/9dvn4+Khu3bq68847nd6jh4aGSpJuvvlm2Ww2hYeHSyo8nUtOTo4ef/xx+fn5ydPTU7fffrs+//zzQn3dvHmzOnTooBo1aui2227TsWPHSuIyAuUWRXSgiqtVq5Zq1aql1atXKycnxzKuoFidkpKipk2batCgQXrkkUcUFxenvXv3yjAMxcbGmvGrVq3SX/7yFz3xxBM6dOiQHnnkET388MPaunVroWMbhqExY8boX//6l3bs2KHWrVvrxIkT6t27t/r3768DBw7onXfe0c6dO53OIUlz585VmzZttG/fPv3tb38ruQsDAEAlci35/v7779eZM2f0ySefKDk5We3atVPPnj119uxZ1a9fX0uWLNG0adO0d+9e/fTTTxoyZIhiY2PVs2fPMh4NAAAVR35+vu69917Z7XZ9+umnWrx4sSZNmnTdx0lJSVHPnj3VvHlzJSUlaefOnerbt68uXbokSTp//rzGjx+vvXv3avPmzXJzc9M999yj/Px8SdJnn30mSdq0aZNOnz6tDz74oMjzTJw4Uf/3f/+nN998U1988YUaN26syMhInT171inu6aef1gsvvKC9e/fKw8NDw4cPv+4xARWKAaDKe//99406deoYnp6exm233WbExcUZ+/fvN9slGZMnTzbXk5KSDEnGG2+8YW57++23DU9PT3P9tttuM0aOHOl0nvvvv9+44447nI773nvvGYMGDTKaNWtm/Oc//zHboqOjjVGjRjntv2PHDsPNzc34+eefDcMwjJCQEKNfv36/c/QAAFQNV8r3O3bsMLy8vIxffvnFaZ9GjRoZr732mrn+2GOPGTfddJMxaNAgo1WrVoXiAQCoioYNG2a4u7sbNWvWdFr+/ve/Gxs2bDA8PDyM7777zoz/5JNPDEnGqlWrDMMwjK1btxqSjB9//NGM2bdvnyHJSE1NNQzDMAYOHGh07tz5mvv0/fffG5KMgwcPGoZhGKmpqYYkY9++fYX6fvfddxuGYRjnzp0zqlWrZixfvtxsz83NNYKCgozZs2c79XXTpk1mzNq1aw1J5nt1oDLiTnQA6t+/v06dOqWPPvpIvXv31rZt29SuXTunh4u0bt3a/Nnf31+S1KpVK6dtv/zyi7KzsyVJR48eVefOnZ3O07lzZx09etRp27hx4/Tpp59q+/bt+sMf/mBu379/v+Lj480752rVqqXIyEjl5+crNTXVjOvQocPvvwAAAFQBV8r3+/fv17lz51S3bl2n3Juamur0VfC5c+fq4sWLeu+997R8+fIKMdcrAABloXv37kpJSXFaHn30UR09elTBwcEKCgoyY8PCwq77+AV3ols5fvy4Bg4cqBtvvFFeXl664YYbJElpaWnXfI4TJ04oLy/P6b18tWrVdOuttxZ6L395jSAwMFCSdObMmWs+F1DR8GBRAJIkT09P/elPf9Kf/vQn/e1vf9OIESM0depUPfTQQ5J+TZwFbDab5baCr4pdqz/96U96++23tWHDBg0ePNjcfu7cOT3yyCN6/PHHC+3TsGFD8+eaNWte1/kAAKjKrPL9Y489psDAQG3btq3QPj4+PubPJ06c0KlTp5Sfn6+TJ086faAOAEBVVrNmTTVu3LhY+7q5/XqPq2EY5ra8vDynmOrVq1/xGH379lVISIj+8Y9/KCgoSPn5+WrZsqVyc3OL1aerKYl6AFCRcCc6gCI1b97c6SGe16tZs2batWuX07Zdu3apefPmTtvuuusurVixQiNGjNDKlSvN7e3atdORI0fUuHHjQovdbi92vwAAwP8U5Pt27dopPT1dHh4ehfJuvXr1JEm5ubl68MEH9cADD2jmzJkaMWIEd5wBAHAVzZo107fffqvTp0+b2/bs2eMUU79+fUlyiklJSXGKad26teXDvH/44QcdO3ZMkydPVs+ePdWsWTPzgaMFCt5HF8yhXpRGjRrJbrc7vZfPy8vT559/Xui9PFDVcCc6UMX98MMPuv/++zV8+HC1bt1atWvX1t69ezV79mzdfffdxT7uhAkT9Oc//1k333yzevXqpY8//lgffPCBNm3aVCj2nnvu0VtvvaUhQ4bIw8ND9913nyZNmqROnTopNjZWI0aMUM2aNXXkyBElJCTolVde+T1DBgCgyrlavu/Vq5fCwsLUr18/zZ49WzfddJNOnTqltWvX6p577lGHDh309NNPKysrSy+99JJq1aqldevWafjw4VqzZo2rhwcAgMvl5OQoPT3daZuHh4d69eqlm266ScOGDdOcOXOUnZ2tp59+2imucePGCg4O1rRp0/T3v/9d//73v/XCCy84xcTFxalVq1Z67LHH9Oijj8put2vr1q26//775evrq7p16+r1119XYGCg0tLS9OSTTzrt7+fnp+rVq2v9+vVq0KCBPD095e3t7RRTs2ZNjR49WhMmTJCvr68aNmyo2bNn68KFC4qOji7BqwVUPBTRgSquVq1a6tixo+bPn2/OfxYcHKyRI0fqqaeeKvZx+/XrpwULFmju3Ln6y1/+otDQUC1dulTh4eFFxt93333Kz8/XkCFD5ObmpnvvvVeJiYl6+umn1aVLFxmGoUaNGumBBx4odp8AAKiqrpbvbTab1q1bp6effloPP/ywvv/+ewUEBKhr167y9/fXtm3b9OKLL2rr1q3y8vKSJL311ltq06aNFi1apNGjR7t4hAAAuNb69evNucELNGnSRF9++aVWrVql6Oho3Xrrrbrhhhv00ksvqXfv3mZctWrV9Pbbb2v06NFq3bq1brnlFj3zzDO6//77zZibbrpJGzdu1FNPPaVbb71V1atXV8eOHTVw4EC5ublp5cqVevzxx9WyZUs1adJEL730ktP7bw8PD7300kuaMWOGpkyZoi5duhQ5jdtzzz1nvjf/6aef1KFDB23YsEF16tQp8WsGVCQ24/IJlwAAAAAAAAAAgIk50QEAAAAAAAAAsEARHQAAAAAAAAAACxTRAQAAAAAAAACwQBEdAAAAAAAAAAALFNEBAAAAAAAAALBAER0AAAAAAAAAAAsU0QEAAAAAAAAAsEARHQAAAAAAAAAACxTRAQAAAAAAAACwQBEdAAAAAAAAAAALFNEBAAAAAAAAALBAER0AAAAAAAAAAAv/D/04+d14RgS/AAAAAElFTkSuQmCC\n"
          },
          "metadata": {}
        }
      ]
    },
    {
      "cell_type": "markdown",
      "source": [
        "# Interpretation of the Box Plots:\n",
        "\n",
        " BMI: The BMI values range significantly, with a concentration between roughly 20 and 40, which are typical values for BMI. There are a number of outliers on the higher end, indicating individuals with very high BMI values. The median is around 27, which is in the upper range of 'overweight' according to the WHO BMI classifications.\n",
        "\n",
        " Age: The Age distribution is fairly symmetrical and doesn't show many outliers, indicating a relatively even spread of participants across the age range. The median age is around 6-7 on your encoded scale, which needs to be translated back to actual age to provide a meaningful interpretation.\n",
        "\n",
        " Income: The Income variable also shows a number of outliers on the higher end. The distribution is left-skewed, meaning most participants have lower income levels with a few higher-income individuals. The median income category is around 6-7 on your encoded scale"
      ],
      "metadata": {
        "id": "VXn81Ttb3bd6"
      }
    },
    {
      "cell_type": "markdown",
      "source": [
        "# Interpretation of the Bar Charts:\n",
        "\n",
        "Smoker: There's a nearly even split between non-smokers and smokers, with slightly fewer smokers in the dataset.\n",
        "\n",
        "Sex: The distribution between the sexes is also nearly even, with a slight majority of one sex over the other.\n",
        "\n",
        "Education: Most participants have an education level of around 4-6 on your encoded scale, with fewer individuals in the lower and higher education categories."
      ],
      "metadata": {
        "id": "hh_12mKv5Gen"
      }
    },
    {
      "cell_type": "markdown",
      "source": [
        "#Hypothesis 1\n",
        "\n",
        "Is there a significant difference in BMI among different diabetes categories (Diabetes_012).\n",
        "\n",
        "\n",
        "Null Hypothesis (H₀): There is no significant difference in the mean BMI among the different diabetes categories.\n",
        "\n",
        "Alternative Hypothesis (H₁): There is a significant difference in the mean BMI among at least one pair of the different diabetes categories. This means that at least one group's mean BMI is different from the others."
      ],
      "metadata": {
        "id": "zgKeEkY_5m8B"
      }
    },
    {
      "cell_type": "markdown",
      "source": [
        "#Why ANOVA and not t-test or z-test?\n",
        "\n",
        "T-test: This is used when comparing the means of two groups. If Diabetes_012 had only two categories, a t-test would be appropriate. However, since we have more than two categories to compare, using multiple t-tests can increase the likelihood of committing a Type I error (false positive). This is due to the problem of multiple comparisons where, as you conduct more tests, the chance of finding at least one significant result due to chance increases.\n",
        "\n",
        "Z-test: This is typically used when comparing sample and population means, or when comparing the means of two groups, provided the sample sizes are large and the population variances are known.\n",
        "\n",
        "For comparing means across more than two groups, the correct approach is ANOVA, as it simultaneously compares the means of all groups to assess whether there is a statistically significant difference among them. ANOVA is designed to handle the issue of multiple comparisons appropriately by testing the null hypothesis that all group means are equal.\n",
        "\n",
        "So, in our case, ANOVA is the correct test to apply for the initial comparison. The one-way ANOVA will test whether there is a statistically significant difference in the mean BMI (the dependent variable) across the different categories of diabetes status (the independent variable). If the test finds significant differences, it tells you that at least one group's mean BMI is different, but we would need further testing to identify exactly which groups differ."
      ],
      "metadata": {
        "id": "WD19ZoQw6P9e"
      }
    },
    {
      "cell_type": "code",
      "source": [
        "#ANOVA Test\n",
        "#STEP1\n",
        "# Calculate the mean BMI for each diabetes category\n",
        "diabetes_0_mean = df[df['Diabetes_012'] == 0]['BMI'].mean()\n",
        "diabetes_1_mean = df[df['Diabetes_012'] == 1]['BMI'].mean()\n",
        "diabetes_2_mean = df[df['Diabetes_012'] == 2]['BMI'].mean()\n",
        "\n",
        "# Calculate the grand mean of BMI across all categories\n",
        "# Calculation is valid regardless of whether the group sizes are equal or not\n",
        "grand_mean = df['BMI'].mean()\n",
        "\n",
        "# Print out the means, rounded to two decimal places\n",
        "print(f\"Diabetes Category 0 mean BMI: {round(diabetes_0_mean, 2)}\")\n",
        "print(f\"Diabetes Category 1 mean BMI: {round(diabetes_1_mean, 2)}\")\n",
        "print(f\"Diabetes Category 2 mean BMI: {round(diabetes_2_mean, 2)}\")\n",
        "print(f\"Grand mean BMI: {round(grand_mean, 2)}\")\n",
        "\n"
      ],
      "metadata": {
        "colab": {
          "base_uri": "https://localhost:8080/"
        },
        "id": "TlRxj4g26AxD",
        "outputId": "a06d04a2-67e0-481f-bc45-eb299187649f"
      },
      "execution_count": null,
      "outputs": [
        {
          "output_type": "stream",
          "name": "stdout",
          "text": [
            "Diabetes Category 0 mean BMI: 27.74\n",
            "Diabetes Category 1 mean BMI: 31.15\n",
            "Diabetes Category 2 mean BMI: 31.8\n",
            "Grand mean BMI: 28.4\n"
          ]
        }
      ]
    },
    {
      "cell_type": "code",
      "source": [
        "#Step2\n",
        "\n",
        "# Check if sample sizes are the same across the diabetes categories\n",
        "same = len(df[df['Diabetes_012'] == 0]) == len(df[df['Diabetes_012'] == 1]) == len(df[df['Diabetes_012'] == 2])\n",
        "\n",
        "if same:\n",
        "    print('Sample sizes are the same')\n",
        "else:\n",
        "    print('Sample sizes are different')\n",
        "\n",
        "# Number of observations in each diabetes category\n",
        "n_1 = len(df[df['Diabetes_012'] == 0])\n",
        "n_2 = len(df[df['Diabetes_012'] == 1])\n",
        "n_3 = len(df[df['Diabetes_012'] == 2])\n",
        "\n",
        "# Calculate the squared deviations of each group mean from the grand mean\n",
        "sq_dev_1 = (diabetes_0_mean - grand_mean) ** 2\n",
        "sq_dev_2 = (diabetes_1_mean - grand_mean) ** 2\n",
        "sq_dev_3 = (diabetes_2_mean - grand_mean) ** 2\n",
        "\n",
        "# Calculate SS_between for different sample sizes\n",
        "ss_between = (n_1 * sq_dev_1 +\n",
        "              n_2 * sq_dev_2 +\n",
        "              n_3 * sq_dev_3)\n",
        "\n",
        "print(f\"SS_between: {ss_between}\")\n",
        "\n"
      ],
      "metadata": {
        "colab": {
          "base_uri": "https://localhost:8080/"
        },
        "id": "NOfMDR3sCS_g",
        "outputId": "83e9f63b-0eb0-4902-df6b-50a56720b36d"
      },
      "execution_count": null,
      "outputs": [
        {
          "output_type": "stream",
          "name": "stdout",
          "text": [
            "Sample sizes are different\n",
            "SS_between: 11032.3099264144\n"
          ]
        }
      ]
    },
    {
      "cell_type": "code",
      "source": [
        "#Step3\n",
        "\n",
        "def squared_dev(group_data, group_mean):\n",
        "    return (group_data - group_mean) ** 2\n"
      ],
      "metadata": {
        "id": "Rrtg6gT5HPrI"
      },
      "execution_count": null,
      "outputs": []
    },
    {
      "cell_type": "code",
      "source": [
        "# Calculate squared deviations for each group\n",
        "diabetes_0_sq_dev = squared_dev(df[df['Diabetes_012'] == 0]['BMI'], diabetes_0_mean)\n",
        "diabetes_1_sq_dev = squared_dev(df[df['Diabetes_012'] == 1]['BMI'], diabetes_1_mean)\n",
        "diabetes_2_sq_dev = squared_dev(df[df['Diabetes_012'] == 2]['BMI'], diabetes_2_mean)\n",
        "\n",
        "# Sum the squared deviations for all groups to get SS_within\n",
        "ss_within = sum(diabetes_0_sq_dev) + sum(diabetes_1_sq_dev) + sum(diabetes_2_sq_dev)\n",
        "print(f\"SS_within: {ss_within}\")\n"
      ],
      "metadata": {
        "colab": {
          "base_uri": "https://localhost:8080/"
        },
        "id": "p7LoBAUMIfYV",
        "outputId": "5c915028-4846-4666-e135-b44cc9bd77cb"
      },
      "execution_count": null,
      "outputs": [
        {
          "output_type": "stream",
          "name": "stdout",
          "text": [
            "SS_within: 202111.670073584\n"
          ]
        }
      ]
    },
    {
      "cell_type": "code",
      "source": [
        "# Number of groups\n",
        "k = 3  # Since there are three diabetes categories\n",
        "\n",
        "# Degrees of freedom between groups\n",
        "df_between = k - 1\n",
        "\n",
        "# Total number of observations in the dataset\n",
        "N = len(df)\n",
        "\n",
        "# Degrees of freedom within groups\n",
        "df_within = N - k\n",
        "\n",
        "print(f\"df_between: {df_between}\")\n",
        "print(f\"df_within: {df_within}\")\n"
      ],
      "metadata": {
        "colab": {
          "base_uri": "https://localhost:8080/"
        },
        "id": "fVYDtkxkJAVJ",
        "outputId": "2380fbe8-8871-4d63-e5e2-6f87e80e04eb"
      },
      "execution_count": null,
      "outputs": [
        {
          "output_type": "stream",
          "name": "stdout",
          "text": [
            "df_between: 2\n",
            "df_within: 4997\n"
          ]
        }
      ]
    },
    {
      "cell_type": "code",
      "source": [
        "# Calculate mean square between groups\n",
        "ms_between = ss_between / df_between\n",
        "\n",
        "# Calculate mean square within groups\n",
        "ms_within = ss_within / df_within\n",
        "\n",
        "print(f\"MS_between: {ms_between}\")\n",
        "print(f\"MS_within: {ms_within}\")\n"
      ],
      "metadata": {
        "colab": {
          "base_uri": "https://localhost:8080/"
        },
        "id": "NdvN2TPZJZdZ",
        "outputId": "2c80b554-2e53-4a40-9527-b20483f5c917"
      },
      "execution_count": null,
      "outputs": [
        {
          "output_type": "stream",
          "name": "stdout",
          "text": [
            "MS_between: 5516.1549632072\n",
            "MS_within: 40.44660197590235\n"
          ]
        }
      ]
    },
    {
      "cell_type": "code",
      "source": [
        "\n",
        "F = ms_between / ms_within\n",
        "print(f\"F-statistic: {F}\")\n"
      ],
      "metadata": {
        "colab": {
          "base_uri": "https://localhost:8080/"
        },
        "id": "8ZHpdrb1Jx4F",
        "outputId": "e04d24b0-9c79-4f45-89a2-0818f1959aef"
      },
      "execution_count": null,
      "outputs": [
        {
          "output_type": "stream",
          "name": "stdout",
          "text": [
            "F-statistic: 136.3811715627846\n"
          ]
        }
      ]
    },
    {
      "cell_type": "code",
      "source": [
        "from scipy.stats import f_oneway\n",
        "\n",
        "# Perform one-way ANOVA\n",
        "# Replace 'df' with your actual DataFrame\n",
        "f_statistic, p_value = f_oneway(df[df['Diabetes_012'] == 0]['BMI'],\n",
        "                                df[df['Diabetes_012'] == 1]['BMI'],\n",
        "                                df[df['Diabetes_012'] == 2]['BMI'])\n",
        "\n",
        "print(f\"F-statistic: {f_statistic}\")\n",
        "print(f\"P-value: {p_value}\")\n"
      ],
      "metadata": {
        "colab": {
          "base_uri": "https://localhost:8080/"
        },
        "id": "xqf6gKzFMTk0",
        "outputId": "33d736e7-47fe-481f-d9d2-e734a8e70eee"
      },
      "execution_count": null,
      "outputs": [
        {
          "output_type": "stream",
          "name": "stdout",
          "text": [
            "F-statistic: 136.38117156278346\n",
            "P-value: 2.1400393357650748e-58\n"
          ]
        }
      ]
    },
    {
      "cell_type": "markdown",
      "source": [
        "#Result interpretation\n",
        "\n",
        "F-Statistic (136.38): This is a very high value, indicating a strong difference in means between groups.\n",
        "\n",
        "P-Value (~2.14e-58): This p-value is practically zero, indicating that the results are highly statistically significant.\n",
        "\n",
        "Interpretation:\n",
        "\n",
        "Rejection of Null Hypothesis: Given the p-value is well below any standard threshold for significance (such as 0.05 or 0.01), we can reject the null hypothesis. There is strong statistical evidence to suggest that  at least one group's mean BMI is different from the others.\n",
        "\n",
        "\n",
        "Practical Significance: The results suggest that diabetes status is associated with differences in BMI. It is likely that individuals with prediabetes and diabetes have higher mean BMIs compared to those with no diabetes, although further analysis would be needed to identify which specific groups differ from each other.\n",
        "\n",
        "Health Implications: BMI is a known risk factor for diabetes, and these results align with existing knowledge that higher BMI can be associated with greater risk for diabetes and its precursor, prediabetes.\n",
        "\n",
        "\n",
        "In conclusion, the ANOVA test results provide very strong evidence that BMI varies significantly with diabetes status. However, causality cannot be inferred from this analysis; the results simply show an association between BMI and diabetes status."
      ],
      "metadata": {
        "id": "LoH4iQrvY2bM"
      }
    },
    {
      "cell_type": "markdown",
      "source": [
        "#Hypothesis 2\n",
        "\n",
        "Hypothesis 2:\n",
        "Topic: The relationship between age and diabetes status.\n",
        "\n",
        "Null Hypothesis (H₀): There is no significant difference in the average age category across the different diabetes categories (no diabetes, prediabetes, diabetes).\n",
        "\n",
        "Alternative Hypothesis (H₁): There is a significant difference in the average age category across the different diabetes categories.\n",
        "\n",
        "This hypothesis will test whether the age category, as a proxy for age, varies significantly among individuals with no diabetes, prediabetes, and diabetes. To test this hypothesis, a one-way ANOVA is used."
      ],
      "metadata": {
        "id": "zn1X3-3HQAEI"
      }
    },
    {
      "cell_type": "code",
      "source": [
        "from scipy.stats import f_oneway\n",
        "\n",
        "# Assuming 'df' is your DataFrame\n",
        "# Perform one-way ANOVA to compare Age across different Diabetes_012 categories\n",
        "age_category_0 = df[df['Diabetes_012'] == 0]['Age']\n",
        "age_category_1 = df[df['Diabetes_012'] == 1]['Age']\n",
        "age_category_2 = df[df['Diabetes_012'] == 2]['Age']\n",
        "\n",
        "f_statistic, p_value = f_oneway(age_category_0, age_category_1, age_category_2)\n",
        "\n",
        "print(f\"F-statistic: {f_statistic}\")\n",
        "print(f\"P-value: {p_value}\")"
      ],
      "metadata": {
        "colab": {
          "base_uri": "https://localhost:8080/"
        },
        "id": "sQuoZl1jQ42n",
        "outputId": "64f73cd9-2ada-4f15-d9f1-ae04193d3cd7"
      },
      "execution_count": null,
      "outputs": [
        {
          "output_type": "stream",
          "name": "stdout",
          "text": [
            "F-statistic: 106.86008745542455\n",
            "P-value: 3.599794616169728e-46\n"
          ]
        }
      ]
    },
    {
      "cell_type": "markdown",
      "source": [
        "#Result Interpretation"
      ],
      "metadata": {
        "id": "UnmRFaCJb4uc"
      }
    },
    {
      "cell_type": "markdown",
      "source": [
        "The results of the one-way ANOVA reveal a highly significant F-statistic and an extremely small p-value.\n",
        "\n",
        "F-Statistic (106.86): This value is considerably high, which suggests a strong differentiation between the means of the age categories across the different diabetes categories. A higher F-statistic usually indicates that at least one of the group means is significantly different from the others.\n",
        "\n",
        "P-Value (~3.60e-46): This is a very small p-value, much lower than common significance levels like 0.05 or 0.01. A p-value this small provides strong evidence against the null hypothesis.This means that the observed differences in the mean age categories across the diabetes categories are very unlikely to have occurred by random chance.\n",
        "\n",
        "\n",
        "Rejection of Null Hypothesis: Given the p-value is well below any standard threshold for significance (such as 0.05 or 0.01), you can reject the null hypothesis. There is strong statistical evidence to suggest that the mean age category differs significantly among the three diabetes categories (no diabetes, prediabetes, diabetes).\n",
        "\n",
        "Practical Implications: The results imply a potential association between age and diabetes status. It suggests that age might be an important factor when considering the likelihood of having no diabetes, prediabetes, or diabetes. However, it's important to remember that this is an association and does not imply causation.\n",
        "\n",
        "Remember, these results only show that there is a statistically significant difference in age categories between the diabetes groups, not why this difference exists or the nature of the relationship. Additional analysis and contextual information are necessary to fully understand and interpret these findings."
      ],
      "metadata": {
        "id": "Mjp3spOGRY_X"
      }
    },
    {
      "cell_type": "markdown",
      "source": [
        "# BOX Plot of Age by Diabetes Category"
      ],
      "metadata": {
        "id": "gLVuXnBraY5q"
      }
    },
    {
      "cell_type": "code",
      "source": [
        "import seaborn as sns\n",
        "import matplotlib.pyplot as plt\n",
        "\n",
        "# Assuming 'df' is your DataFrame and it contains 'Diabetes_012' as a categorical variable\n",
        "# and 'Age' as the age category variable\n",
        "plt.figure(figsize=(10, 6))  # Set the figure size as needed\n",
        "sns.boxplot(x='Diabetes_012', y='Age', data=df)\n",
        "\n",
        "plt.title('Box Plot of Age by Diabetes Category')\n",
        "plt.xlabel('Diabetes Category')\n",
        "plt.ylabel('Age Category')\n",
        "plt.xticks(ticks=[0, 1, 2], labels=['No Diabetes', 'Prediabetes', 'Diabetes'])  # Set the labels as appropriate\n",
        "\n",
        "plt.show()\n"
      ],
      "metadata": {
        "colab": {
          "base_uri": "https://localhost:8080/",
          "height": 564
        },
        "id": "D8x19KYeTMN2",
        "outputId": "aec3faa1-d66b-4f17-b96b-bbb7c91ed52f"
      },
      "execution_count": null,
      "outputs": [
        {
          "output_type": "display_data",
          "data": {
            "text/plain": [
              "<Figure size 1000x600 with 1 Axes>"
            ],
            "image/png": "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\n"
          },
          "metadata": {}
        }
      ]
    },
    {
      "cell_type": "markdown",
      "source": [
        "#Pearson Coorelation Analysis"
      ],
      "metadata": {
        "id": "W1qq4qiJT52N"
      }
    },
    {
      "cell_type": "code",
      "source": [
        "import pandas as pd\n",
        "from scipy.stats import pearsonr\n",
        "\n",
        "# Assuming df is your DataFrame with the relevant data\n",
        "\n",
        "# Correlation between BMI and Diabetes Status\n",
        "correlation_bmi_diabetes, p_value_bmi_diabetes = pearsonr(df['BMI'], df['Diabetes_012'])\n",
        "\n",
        "# Correlation between Age and Diabetes Status\n",
        "correlation_age_diabetes, p_value_age_diabetes = pearsonr(df['Age'], df['Diabetes_012'])\n",
        "\n",
        "# Print the results\n",
        "print(f\"Pearson Correlation (BMI and Diabetes Status): {correlation_bmi_diabetes}, P-value: {p_value_bmi_diabetes}\")\n",
        "print(f\"Pearson Correlation (Age and Diabetes Status): {correlation_age_diabetes}, P-value: {p_value_age_diabetes}\")\n"
      ],
      "metadata": {
        "colab": {
          "base_uri": "https://localhost:8080/"
        },
        "id": "_S1iP8vVXA-k",
        "outputId": "13d95aa3-ff6b-47bb-8aa3-35f7394d9dd2"
      },
      "execution_count": null,
      "outputs": [
        {
          "output_type": "stream",
          "name": "stdout",
          "text": [
            "Pearson Correlation (BMI and Diabetes Status): 0.22558242317152358, P-value: 1.034202222132683e-58\n",
            "Pearson Correlation (Age and Diabetes Status): 0.20114518983933857, P-value: 8.381342638624398e-47\n"
          ]
        }
      ]
    },
    {
      "cell_type": "markdown",
      "source": [
        "#Result Interpretation\n",
        "#Pearson Correlation between BMI and Diabetes Status\n",
        "Correlation Coefficient: 0.22558242317152358\n",
        "P-value: 1.034202222132683e-58\n",
        "Interpretation:\n",
        "\n",
        "The correlation coefficient of approximately 0.226 suggests a weak positive linear relationship between BMI and diabetes status. This means that as BMI increases, there's a slight tendency for the diabetes status to also increase. However, the relationship is not strong.\n",
        "The P-value is extremely low, indicating that this correlation is statistically significant. This means it's highly unlikely that this observed correlation is due to chance."
      ],
      "metadata": {
        "id": "c1YQPau-bKsG"
      }
    },
    {
      "cell_type": "markdown",
      "source": [
        "#Pearson Correlation between Age and Diabetes Status\n",
        "Correlation Coefficient: 0.20114518983933857\n",
        "P-value: 8.381342638624398e-47\n",
        "Interpretation:\n",
        "\n",
        "The correlation coefficient of approximately 0.201 indicates a weak positive linear relationship between age and diabetes status. This suggests that as age increases, there is a slight tendency for the diabetes status to increase as well.\n",
        "Similar to the previous result, the P-value is very low, strongly suggesting that the observed correlation is statistically significant and not due to random chance."
      ],
      "metadata": {
        "id": "duQp4OGhd8OC"
      }
    },
    {
      "cell_type": "markdown",
      "source": [
        "#Question 1\n",
        "\n",
        "###Null Hypothesis: Diabetes rates are unaffected by income\n",
        "$H_o$: $\\mu_{\\text{Diabetes rates based on income}}$ = $\\mu_{\\text{Diabetes rates}}$\n",
        "\n",
        "###Alternative Hypothesis: Diabetes rates are affected by income\n",
        "$H_a$: $\\mu_{\\text{Diabetes rates based on income}}$ > $\\mu_{\\text{Diabetes rates}}$ \\\n",
        "$H_a$: $\\mu_{\\text{Diabetes rates based on income}}$ < $\\mu_{\\text{Diabetes rates}}$ \\\n",
        "$H_a$: $\\mu_{\\text{Diabetes rates based on income}}$ != $\\mu_{\\text{Diabetes rates}}$"
      ],
      "metadata": {
        "id": "vVKebHoW0IzO"
      }
    },
    {
      "cell_type": "markdown",
      "source": [
        "###Why ANOVA and not t-test or z-test?\n",
        "\n",
        "T-test: This is used when comparing the means of two groups. If `fruits_and_veggies` had only two categories, a t-test would be appropriate. However, since you have more than two categories to compare (0 = none, 1 = either fruits or veggies, 2 = both fruits and veggies), using multiple t-tests can increase the likelihood of committing a Type I error (false positive). This is due to the problem of multiple comparisons where, as you conduct more tests, the chance of finding at least one significant result due to chance increases.\n",
        "\n",
        "Z-test: This is typically used when comparing sample and population means, or when comparing the means of two groups, provided the sample sizes are large and the population variances are known. Z-tests are less common in practice when population parameters are unknown, which is usually the case in such analyses.\n",
        "\n",
        "For comparing means across more than two groups, the correct approach is ANOVA, as it simultaneously compares the means of all groups to assess whether there is a statistically significant difference among them. ANOVA is designed to handle the issue of multiple comparisons appropriately by testing the null hypothesis that all group means are equal. If the ANOVA indicates that there is a significant difference, you would then follow up with a post-hoc test (like Tukey's HSD) to determine exactly which groups' means are significantly different from each other.\n",
        "\n",
        "In this case, ANOVA is the correct test to apply for the comparison. We don't have any specific pairs of groups to compare, so a one-way ANOVA test would work best in this case."
      ],
      "metadata": {
        "id": "5l0aXPAM0R2u"
      }
    },
    {
      "cell_type": "code",
      "source": [
        "#Creating a new variable that combines both the `Fruits` and `Veggies` variables into one varible\n",
        "def combine_fruits_and_veggies(row):\n",
        "    if row['Fruits'] == 0 and row['Veggies'] == 0:\n",
        "        return 0\n",
        "    elif row['Fruits'] + row['Veggies'] == 1:\n",
        "        return 1\n",
        "    else:\n",
        "        return 2\n",
        "\n",
        "df['fruits_and_veggies'] = df.apply(combine_fruits_and_veggies, axis=1)\n",
        "df"
      ],
      "metadata": {
        "colab": {
          "base_uri": "https://localhost:8080/",
          "height": 443
        },
        "id": "Aqq48lzi0WYm",
        "outputId": "0c2630b5-7d54-4456-8817-9dc9e4fd303b"
      },
      "execution_count": null,
      "outputs": [
        {
          "output_type": "execute_result",
          "data": {
            "text/plain": [
              "      Diabetes_012  HighBP  HighChol  CholCheck   BMI  Smoker  Stroke  \\\n",
              "0              0.0     0.0       1.0        1.0  25.0     1.0     0.0   \n",
              "1              0.0     0.0       0.0        1.0  28.0     0.0     0.0   \n",
              "2              0.0     0.0       0.0        1.0  25.0     1.0     0.0   \n",
              "3              0.0     0.0       1.0        1.0  27.0     0.0     0.0   \n",
              "4              0.0     0.0       0.0        1.0  27.0     0.0     0.0   \n",
              "...            ...     ...       ...        ...   ...     ...     ...   \n",
              "4995           0.0     0.0       0.0        1.0  21.0     0.0     0.0   \n",
              "4996           0.0     1.0       1.0        1.0  22.0     0.0     0.0   \n",
              "4997           0.0     0.0       1.0        1.0  26.0     0.0     0.0   \n",
              "4998           0.0     1.0       0.0        1.0  41.0     0.0     0.0   \n",
              "4999           0.0     0.0       0.0        1.0  26.0     0.0     0.0   \n",
              "\n",
              "      HeartDiseaseorAttack  PhysActivity  Fruits  Veggies  HvyAlcoholConsump  \\\n",
              "0                      0.0           1.0     0.0      1.0                0.0   \n",
              "1                      0.0           1.0     1.0      1.0                0.0   \n",
              "2                      0.0           1.0     0.0      1.0                0.0   \n",
              "3                      0.0           1.0     1.0      1.0                0.0   \n",
              "4                      0.0           1.0     1.0      0.0                0.0   \n",
              "...                    ...           ...     ...      ...                ...   \n",
              "4995                   0.0           0.0     0.0      1.0                0.0   \n",
              "4996                   0.0           1.0     0.0      1.0                0.0   \n",
              "4997                   0.0           0.0     0.0      1.0                0.0   \n",
              "4998                   0.0           1.0     0.0      1.0                0.0   \n",
              "4999                   0.0           0.0     1.0      1.0                0.0   \n",
              "\n",
              "      AnyHealthcare  GenHlth  DiffWalk  Sex   Age  Education  Income  \\\n",
              "0               1.0      2.0       0.0  0.0   7.0        5.0     8.0   \n",
              "1               1.0      2.0       0.0  1.0   6.0        6.0     8.0   \n",
              "2               0.0      3.0       0.0  0.0   7.0        4.0     6.0   \n",
              "3               1.0      2.0       0.0  1.0   9.0        5.0     8.0   \n",
              "4               1.0      2.0       0.0  0.0   7.0        4.0     3.0   \n",
              "...             ...      ...       ...  ...   ...        ...     ...   \n",
              "4995            1.0      1.0       0.0  0.0   3.0        6.0     3.0   \n",
              "4996            1.0      3.0       0.0  0.0   9.0        5.0     8.0   \n",
              "4997            1.0      2.0       0.0  1.0   8.0        5.0     8.0   \n",
              "4998            1.0      3.0       0.0  0.0   6.0        5.0     5.0   \n",
              "4999            1.0      2.0       0.0  0.0  11.0        4.0     3.0   \n",
              "\n",
              "      fruits_and_veggies  \n",
              "0                      1  \n",
              "1                      2  \n",
              "2                      1  \n",
              "3                      2  \n",
              "4                      1  \n",
              "...                  ...  \n",
              "4995                   1  \n",
              "4996                   1  \n",
              "4997                   1  \n",
              "4998                   1  \n",
              "4999                   2  \n",
              "\n",
              "[5000 rows x 20 columns]"
            ],
            "text/html": [
              "\n",
              "  <div id=\"df-7afd48e2-01a1-47fa-95e5-b2c5762d2ea2\" class=\"colab-df-container\">\n",
              "    <div>\n",
              "<style scoped>\n",
              "    .dataframe tbody tr th:only-of-type {\n",
              "        vertical-align: middle;\n",
              "    }\n",
              "\n",
              "    .dataframe tbody tr th {\n",
              "        vertical-align: top;\n",
              "    }\n",
              "\n",
              "    .dataframe thead th {\n",
              "        text-align: right;\n",
              "    }\n",
              "</style>\n",
              "<table border=\"1\" class=\"dataframe\">\n",
              "  <thead>\n",
              "    <tr style=\"text-align: right;\">\n",
              "      <th></th>\n",
              "      <th>Diabetes_012</th>\n",
              "      <th>HighBP</th>\n",
              "      <th>HighChol</th>\n",
              "      <th>CholCheck</th>\n",
              "      <th>BMI</th>\n",
              "      <th>Smoker</th>\n",
              "      <th>Stroke</th>\n",
              "      <th>HeartDiseaseorAttack</th>\n",
              "      <th>PhysActivity</th>\n",
              "      <th>Fruits</th>\n",
              "      <th>Veggies</th>\n",
              "      <th>HvyAlcoholConsump</th>\n",
              "      <th>AnyHealthcare</th>\n",
              "      <th>GenHlth</th>\n",
              "      <th>DiffWalk</th>\n",
              "      <th>Sex</th>\n",
              "      <th>Age</th>\n",
              "      <th>Education</th>\n",
              "      <th>Income</th>\n",
              "      <th>fruits_and_veggies</th>\n",
              "    </tr>\n",
              "  </thead>\n",
              "  <tbody>\n",
              "    <tr>\n",
              "      <th>0</th>\n",
              "      <td>0.0</td>\n",
              "      <td>0.0</td>\n",
              "      <td>1.0</td>\n",
              "      <td>1.0</td>\n",
              "      <td>25.0</td>\n",
              "      <td>1.0</td>\n",
              "      <td>0.0</td>\n",
              "      <td>0.0</td>\n",
              "      <td>1.0</td>\n",
              "      <td>0.0</td>\n",
              "      <td>1.0</td>\n",
              "      <td>0.0</td>\n",
              "      <td>1.0</td>\n",
              "      <td>2.0</td>\n",
              "      <td>0.0</td>\n",
              "      <td>0.0</td>\n",
              "      <td>7.0</td>\n",
              "      <td>5.0</td>\n",
              "      <td>8.0</td>\n",
              "      <td>1</td>\n",
              "    </tr>\n",
              "    <tr>\n",
              "      <th>1</th>\n",
              "      <td>0.0</td>\n",
              "      <td>0.0</td>\n",
              "      <td>0.0</td>\n",
              "      <td>1.0</td>\n",
              "      <td>28.0</td>\n",
              "      <td>0.0</td>\n",
              "      <td>0.0</td>\n",
              "      <td>0.0</td>\n",
              "      <td>1.0</td>\n",
              "      <td>1.0</td>\n",
              "      <td>1.0</td>\n",
              "      <td>0.0</td>\n",
              "      <td>1.0</td>\n",
              "      <td>2.0</td>\n",
              "      <td>0.0</td>\n",
              "      <td>1.0</td>\n",
              "      <td>6.0</td>\n",
              "      <td>6.0</td>\n",
              "      <td>8.0</td>\n",
              "      <td>2</td>\n",
              "    </tr>\n",
              "    <tr>\n",
              "      <th>2</th>\n",
              "      <td>0.0</td>\n",
              "      <td>0.0</td>\n",
              "      <td>0.0</td>\n",
              "      <td>1.0</td>\n",
              "      <td>25.0</td>\n",
              "      <td>1.0</td>\n",
              "      <td>0.0</td>\n",
              "      <td>0.0</td>\n",
              "      <td>1.0</td>\n",
              "      <td>0.0</td>\n",
              "      <td>1.0</td>\n",
              "      <td>0.0</td>\n",
              "      <td>0.0</td>\n",
              "      <td>3.0</td>\n",
              "      <td>0.0</td>\n",
              "      <td>0.0</td>\n",
              "      <td>7.0</td>\n",
              "      <td>4.0</td>\n",
              "      <td>6.0</td>\n",
              "      <td>1</td>\n",
              "    </tr>\n",
              "    <tr>\n",
              "      <th>3</th>\n",
              "      <td>0.0</td>\n",
              "      <td>0.0</td>\n",
              "      <td>1.0</td>\n",
              "      <td>1.0</td>\n",
              "      <td>27.0</td>\n",
              "      <td>0.0</td>\n",
              "      <td>0.0</td>\n",
              "      <td>0.0</td>\n",
              "      <td>1.0</td>\n",
              "      <td>1.0</td>\n",
              "      <td>1.0</td>\n",
              "      <td>0.0</td>\n",
              "      <td>1.0</td>\n",
              "      <td>2.0</td>\n",
              "      <td>0.0</td>\n",
              "      <td>1.0</td>\n",
              "      <td>9.0</td>\n",
              "      <td>5.0</td>\n",
              "      <td>8.0</td>\n",
              "      <td>2</td>\n",
              "    </tr>\n",
              "    <tr>\n",
              "      <th>4</th>\n",
              "      <td>0.0</td>\n",
              "      <td>0.0</td>\n",
              "      <td>0.0</td>\n",
              "      <td>1.0</td>\n",
              "      <td>27.0</td>\n",
              "      <td>0.0</td>\n",
              "      <td>0.0</td>\n",
              "      <td>0.0</td>\n",
              "      <td>1.0</td>\n",
              "      <td>1.0</td>\n",
              "      <td>0.0</td>\n",
              "      <td>0.0</td>\n",
              "      <td>1.0</td>\n",
              "      <td>2.0</td>\n",
              "      <td>0.0</td>\n",
              "      <td>0.0</td>\n",
              "      <td>7.0</td>\n",
              "      <td>4.0</td>\n",
              "      <td>3.0</td>\n",
              "      <td>1</td>\n",
              "    </tr>\n",
              "    <tr>\n",
              "      <th>...</th>\n",
              "      <td>...</td>\n",
              "      <td>...</td>\n",
              "      <td>...</td>\n",
              "      <td>...</td>\n",
              "      <td>...</td>\n",
              "      <td>...</td>\n",
              "      <td>...</td>\n",
              "      <td>...</td>\n",
              "      <td>...</td>\n",
              "      <td>...</td>\n",
              "      <td>...</td>\n",
              "      <td>...</td>\n",
              "      <td>...</td>\n",
              "      <td>...</td>\n",
              "      <td>...</td>\n",
              "      <td>...</td>\n",
              "      <td>...</td>\n",
              "      <td>...</td>\n",
              "      <td>...</td>\n",
              "      <td>...</td>\n",
              "    </tr>\n",
              "    <tr>\n",
              "      <th>4995</th>\n",
              "      <td>0.0</td>\n",
              "      <td>0.0</td>\n",
              "      <td>0.0</td>\n",
              "      <td>1.0</td>\n",
              "      <td>21.0</td>\n",
              "      <td>0.0</td>\n",
              "      <td>0.0</td>\n",
              "      <td>0.0</td>\n",
              "      <td>0.0</td>\n",
              "      <td>0.0</td>\n",
              "      <td>1.0</td>\n",
              "      <td>0.0</td>\n",
              "      <td>1.0</td>\n",
              "      <td>1.0</td>\n",
              "      <td>0.0</td>\n",
              "      <td>0.0</td>\n",
              "      <td>3.0</td>\n",
              "      <td>6.0</td>\n",
              "      <td>3.0</td>\n",
              "      <td>1</td>\n",
              "    </tr>\n",
              "    <tr>\n",
              "      <th>4996</th>\n",
              "      <td>0.0</td>\n",
              "      <td>1.0</td>\n",
              "      <td>1.0</td>\n",
              "      <td>1.0</td>\n",
              "      <td>22.0</td>\n",
              "      <td>0.0</td>\n",
              "      <td>0.0</td>\n",
              "      <td>0.0</td>\n",
              "      <td>1.0</td>\n",
              "      <td>0.0</td>\n",
              "      <td>1.0</td>\n",
              "      <td>0.0</td>\n",
              "      <td>1.0</td>\n",
              "      <td>3.0</td>\n",
              "      <td>0.0</td>\n",
              "      <td>0.0</td>\n",
              "      <td>9.0</td>\n",
              "      <td>5.0</td>\n",
              "      <td>8.0</td>\n",
              "      <td>1</td>\n",
              "    </tr>\n",
              "    <tr>\n",
              "      <th>4997</th>\n",
              "      <td>0.0</td>\n",
              "      <td>0.0</td>\n",
              "      <td>1.0</td>\n",
              "      <td>1.0</td>\n",
              "      <td>26.0</td>\n",
              "      <td>0.0</td>\n",
              "      <td>0.0</td>\n",
              "      <td>0.0</td>\n",
              "      <td>0.0</td>\n",
              "      <td>0.0</td>\n",
              "      <td>1.0</td>\n",
              "      <td>0.0</td>\n",
              "      <td>1.0</td>\n",
              "      <td>2.0</td>\n",
              "      <td>0.0</td>\n",
              "      <td>1.0</td>\n",
              "      <td>8.0</td>\n",
              "      <td>5.0</td>\n",
              "      <td>8.0</td>\n",
              "      <td>1</td>\n",
              "    </tr>\n",
              "    <tr>\n",
              "      <th>4998</th>\n",
              "      <td>0.0</td>\n",
              "      <td>1.0</td>\n",
              "      <td>0.0</td>\n",
              "      <td>1.0</td>\n",
              "      <td>41.0</td>\n",
              "      <td>0.0</td>\n",
              "      <td>0.0</td>\n",
              "      <td>0.0</td>\n",
              "      <td>1.0</td>\n",
              "      <td>0.0</td>\n",
              "      <td>1.0</td>\n",
              "      <td>0.0</td>\n",
              "      <td>1.0</td>\n",
              "      <td>3.0</td>\n",
              "      <td>0.0</td>\n",
              "      <td>0.0</td>\n",
              "      <td>6.0</td>\n",
              "      <td>5.0</td>\n",
              "      <td>5.0</td>\n",
              "      <td>1</td>\n",
              "    </tr>\n",
              "    <tr>\n",
              "      <th>4999</th>\n",
              "      <td>0.0</td>\n",
              "      <td>0.0</td>\n",
              "      <td>0.0</td>\n",
              "      <td>1.0</td>\n",
              "      <td>26.0</td>\n",
              "      <td>0.0</td>\n",
              "      <td>0.0</td>\n",
              "      <td>0.0</td>\n",
              "      <td>0.0</td>\n",
              "      <td>1.0</td>\n",
              "      <td>1.0</td>\n",
              "      <td>0.0</td>\n",
              "      <td>1.0</td>\n",
              "      <td>2.0</td>\n",
              "      <td>0.0</td>\n",
              "      <td>0.0</td>\n",
              "      <td>11.0</td>\n",
              "      <td>4.0</td>\n",
              "      <td>3.0</td>\n",
              "      <td>2</td>\n",
              "    </tr>\n",
              "  </tbody>\n",
              "</table>\n",
              "<p>5000 rows × 20 columns</p>\n",
              "</div>\n",
              "    <div class=\"colab-df-buttons\">\n",
              "\n",
              "  <div class=\"colab-df-container\">\n",
              "    <button class=\"colab-df-convert\" onclick=\"convertToInteractive('df-7afd48e2-01a1-47fa-95e5-b2c5762d2ea2')\"\n",
              "            title=\"Convert this dataframe to an interactive table.\"\n",
              "            style=\"display:none;\">\n",
              "\n",
              "  <svg xmlns=\"http://www.w3.org/2000/svg\" height=\"24px\" viewBox=\"0 -960 960 960\">\n",
              "    <path d=\"M120-120v-720h720v720H120Zm60-500h600v-160H180v160Zm220 220h160v-160H400v160Zm0 220h160v-160H400v160ZM180-400h160v-160H180v160Zm440 0h160v-160H620v160ZM180-180h160v-160H180v160Zm440 0h160v-160H620v160Z\"/>\n",
              "  </svg>\n",
              "    </button>\n",
              "\n",
              "  <style>\n",
              "    .colab-df-container {\n",
              "      display:flex;\n",
              "      gap: 12px;\n",
              "    }\n",
              "\n",
              "    .colab-df-convert {\n",
              "      background-color: #E8F0FE;\n",
              "      border: none;\n",
              "      border-radius: 50%;\n",
              "      cursor: pointer;\n",
              "      display: none;\n",
              "      fill: #1967D2;\n",
              "      height: 32px;\n",
              "      padding: 0 0 0 0;\n",
              "      width: 32px;\n",
              "    }\n",
              "\n",
              "    .colab-df-convert:hover {\n",
              "      background-color: #E2EBFA;\n",
              "      box-shadow: 0px 1px 2px rgba(60, 64, 67, 0.3), 0px 1px 3px 1px rgba(60, 64, 67, 0.15);\n",
              "      fill: #174EA6;\n",
              "    }\n",
              "\n",
              "    .colab-df-buttons div {\n",
              "      margin-bottom: 4px;\n",
              "    }\n",
              "\n",
              "    [theme=dark] .colab-df-convert {\n",
              "      background-color: #3B4455;\n",
              "      fill: #D2E3FC;\n",
              "    }\n",
              "\n",
              "    [theme=dark] .colab-df-convert:hover {\n",
              "      background-color: #434B5C;\n",
              "      box-shadow: 0px 1px 3px 1px rgba(0, 0, 0, 0.15);\n",
              "      filter: drop-shadow(0px 1px 2px rgba(0, 0, 0, 0.3));\n",
              "      fill: #FFFFFF;\n",
              "    }\n",
              "  </style>\n",
              "\n",
              "    <script>\n",
              "      const buttonEl =\n",
              "        document.querySelector('#df-7afd48e2-01a1-47fa-95e5-b2c5762d2ea2 button.colab-df-convert');\n",
              "      buttonEl.style.display =\n",
              "        google.colab.kernel.accessAllowed ? 'block' : 'none';\n",
              "\n",
              "      async function convertToInteractive(key) {\n",
              "        const element = document.querySelector('#df-7afd48e2-01a1-47fa-95e5-b2c5762d2ea2');\n",
              "        const dataTable =\n",
              "          await google.colab.kernel.invokeFunction('convertToInteractive',\n",
              "                                                    [key], {});\n",
              "        if (!dataTable) return;\n",
              "\n",
              "        const docLinkHtml = 'Like what you see? Visit the ' +\n",
              "          '<a target=\"_blank\" href=https://colab.research.google.com/notebooks/data_table.ipynb>data table notebook</a>'\n",
              "          + ' to learn more about interactive tables.';\n",
              "        element.innerHTML = '';\n",
              "        dataTable['output_type'] = 'display_data';\n",
              "        await google.colab.output.renderOutput(dataTable, element);\n",
              "        const docLink = document.createElement('div');\n",
              "        docLink.innerHTML = docLinkHtml;\n",
              "        element.appendChild(docLink);\n",
              "      }\n",
              "    </script>\n",
              "  </div>\n",
              "\n",
              "\n",
              "<div id=\"df-dcfca40d-9b6a-4b00-8aed-065f32199745\">\n",
              "  <button class=\"colab-df-quickchart\" onclick=\"quickchart('df-dcfca40d-9b6a-4b00-8aed-065f32199745')\"\n",
              "            title=\"Suggest charts\"\n",
              "            style=\"display:none;\">\n",
              "\n",
              "<svg xmlns=\"http://www.w3.org/2000/svg\" height=\"24px\"viewBox=\"0 0 24 24\"\n",
              "     width=\"24px\">\n",
              "    <g>\n",
              "        <path d=\"M19 3H5c-1.1 0-2 .9-2 2v14c0 1.1.9 2 2 2h14c1.1 0 2-.9 2-2V5c0-1.1-.9-2-2-2zM9 17H7v-7h2v7zm4 0h-2V7h2v10zm4 0h-2v-4h2v4z\"/>\n",
              "    </g>\n",
              "</svg>\n",
              "  </button>\n",
              "\n",
              "<style>\n",
              "  .colab-df-quickchart {\n",
              "      --bg-color: #E8F0FE;\n",
              "      --fill-color: #1967D2;\n",
              "      --hover-bg-color: #E2EBFA;\n",
              "      --hover-fill-color: #174EA6;\n",
              "      --disabled-fill-color: #AAA;\n",
              "      --disabled-bg-color: #DDD;\n",
              "  }\n",
              "\n",
              "  [theme=dark] .colab-df-quickchart {\n",
              "      --bg-color: #3B4455;\n",
              "      --fill-color: #D2E3FC;\n",
              "      --hover-bg-color: #434B5C;\n",
              "      --hover-fill-color: #FFFFFF;\n",
              "      --disabled-bg-color: #3B4455;\n",
              "      --disabled-fill-color: #666;\n",
              "  }\n",
              "\n",
              "  .colab-df-quickchart {\n",
              "    background-color: var(--bg-color);\n",
              "    border: none;\n",
              "    border-radius: 50%;\n",
              "    cursor: pointer;\n",
              "    display: none;\n",
              "    fill: var(--fill-color);\n",
              "    height: 32px;\n",
              "    padding: 0;\n",
              "    width: 32px;\n",
              "  }\n",
              "\n",
              "  .colab-df-quickchart:hover {\n",
              "    background-color: var(--hover-bg-color);\n",
              "    box-shadow: 0 1px 2px rgba(60, 64, 67, 0.3), 0 1px 3px 1px rgba(60, 64, 67, 0.15);\n",
              "    fill: var(--button-hover-fill-color);\n",
              "  }\n",
              "\n",
              "  .colab-df-quickchart-complete:disabled,\n",
              "  .colab-df-quickchart-complete:disabled:hover {\n",
              "    background-color: var(--disabled-bg-color);\n",
              "    fill: var(--disabled-fill-color);\n",
              "    box-shadow: none;\n",
              "  }\n",
              "\n",
              "  .colab-df-spinner {\n",
              "    border: 2px solid var(--fill-color);\n",
              "    border-color: transparent;\n",
              "    border-bottom-color: var(--fill-color);\n",
              "    animation:\n",
              "      spin 1s steps(1) infinite;\n",
              "  }\n",
              "\n",
              "  @keyframes spin {\n",
              "    0% {\n",
              "      border-color: transparent;\n",
              "      border-bottom-color: var(--fill-color);\n",
              "      border-left-color: var(--fill-color);\n",
              "    }\n",
              "    20% {\n",
              "      border-color: transparent;\n",
              "      border-left-color: var(--fill-color);\n",
              "      border-top-color: var(--fill-color);\n",
              "    }\n",
              "    30% {\n",
              "      border-color: transparent;\n",
              "      border-left-color: var(--fill-color);\n",
              "      border-top-color: var(--fill-color);\n",
              "      border-right-color: var(--fill-color);\n",
              "    }\n",
              "    40% {\n",
              "      border-color: transparent;\n",
              "      border-right-color: var(--fill-color);\n",
              "      border-top-color: var(--fill-color);\n",
              "    }\n",
              "    60% {\n",
              "      border-color: transparent;\n",
              "      border-right-color: var(--fill-color);\n",
              "    }\n",
              "    80% {\n",
              "      border-color: transparent;\n",
              "      border-right-color: var(--fill-color);\n",
              "      border-bottom-color: var(--fill-color);\n",
              "    }\n",
              "    90% {\n",
              "      border-color: transparent;\n",
              "      border-bottom-color: var(--fill-color);\n",
              "    }\n",
              "  }\n",
              "</style>\n",
              "\n",
              "  <script>\n",
              "    async function quickchart(key) {\n",
              "      const quickchartButtonEl =\n",
              "        document.querySelector('#' + key + ' button');\n",
              "      quickchartButtonEl.disabled = true;  // To prevent multiple clicks.\n",
              "      quickchartButtonEl.classList.add('colab-df-spinner');\n",
              "      try {\n",
              "        const charts = await google.colab.kernel.invokeFunction(\n",
              "            'suggestCharts', [key], {});\n",
              "      } catch (error) {\n",
              "        console.error('Error during call to suggestCharts:', error);\n",
              "      }\n",
              "      quickchartButtonEl.classList.remove('colab-df-spinner');\n",
              "      quickchartButtonEl.classList.add('colab-df-quickchart-complete');\n",
              "    }\n",
              "    (() => {\n",
              "      let quickchartButtonEl =\n",
              "        document.querySelector('#df-dcfca40d-9b6a-4b00-8aed-065f32199745 button');\n",
              "      quickchartButtonEl.style.display =\n",
              "        google.colab.kernel.accessAllowed ? 'block' : 'none';\n",
              "    })();\n",
              "  </script>\n",
              "</div>\n",
              "    </div>\n",
              "  </div>\n"
            ]
          },
          "metadata": {},
          "execution_count": 18
        }
      ]
    },
    {
      "cell_type": "markdown",
      "source": [
        "###ANOVA Test"
      ],
      "metadata": {
        "id": "-rXaBLH70csT"
      }
    },
    {
      "cell_type": "code",
      "source": [
        "#Step 1\n",
        "\n",
        "#Calculate healthy food consumption for each diabetes category\n",
        "diabetes_0_mean_i = df[df['Diabetes_012'] == 0]['Income'].mean()\n",
        "diabetes_1_mean_i = df[df['Diabetes_012'] == 1]['Income'].mean()\n",
        "diabetes_2_mean_i = df[df['Diabetes_012'] == 2]['Income'].mean()\n",
        "\n",
        "#Calculate the grand mean income accross all daibetes categories\n",
        "grand_mean_i = df['Income'].mean()\n",
        "\n",
        "#Print out rounded means to two decimal accuracy\n",
        "print(f\"Diabetes Category 0 mean income: {diabetes_0_mean_i:.2f}\")\n",
        "print(f\"Diabetes Category 1 mean income: {diabetes_1_mean_i:.2f}\")\n",
        "print(f\"Diabetes Category 2 mean income: {diabetes_2_mean_i:.2f}\")\n",
        "print(f\"Grand Mean income: {grand_mean_i:.2f}\")"
      ],
      "metadata": {
        "colab": {
          "base_uri": "https://localhost:8080/"
        },
        "id": "XBlO0Cch0esE",
        "outputId": "3428e26c-1d18-464c-f76c-8527b767b4ff"
      },
      "execution_count": null,
      "outputs": [
        {
          "output_type": "stream",
          "name": "stdout",
          "text": [
            "Diabetes Category 0 mean income: 6.25\n",
            "Diabetes Category 1 mean income: 4.92\n",
            "Diabetes Category 2 mean income: 5.34\n",
            "Grand Mean income: 6.09\n"
          ]
        }
      ]
    },
    {
      "cell_type": "code",
      "source": [
        "#Step 2\n",
        "\n",
        "#Determine if the sample sizes of the different diabetes categories are the same\n",
        "same = len(df[df['Diabetes_012'] == 0]) == len(df[df['Diabetes_012'] == 1]) == len(df[df['Diabetes_012'] == 2])\n",
        "\n",
        "if same:\n",
        "    print('The sample sizes are the same')\n",
        "else:\n",
        "    print('The sample sizes are different')\n",
        "\n",
        "#Determine the number of obvservations for each diabetes catergory\n",
        "n_1 = len(df[df['Diabetes_012'] == 0])\n",
        "n_2 = len(df[df['Diabetes_012'] == 1])\n",
        "n_3 = len(df[df['Diabetes_012'] == 2])\n",
        "\n",
        "#Calculate the squared deviations for each mean of fruit and veggie consumption for each diabetes catergoy compared to the grand mean\n",
        "sq_dev_1_i = (diabetes_0_mean_i - grand_mean_i) ** 2\n",
        "sq_dev_2_i = (diabetes_1_mean_i - grand_mean_i) ** 2\n",
        "sq_dev_3_i = (diabetes_2_mean_i - grand_mean_i) ** 2\n",
        "\n",
        "#Calculate and print the SS_between_i for different sample size for each category\n",
        "ss_between_i = (n_1 * sq_dev_1_i + n_2 * sq_dev_2_i + n_3 * sq_dev_3_i)\n",
        "print(f\"SS_between_i: {ss_between_i:.2f}\")"
      ],
      "metadata": {
        "colab": {
          "base_uri": "https://localhost:8080/"
        },
        "id": "AoHDgTq40g3k",
        "outputId": "09a2f6b6-409a-4d4d-c503-82de30b73963"
      },
      "execution_count": null,
      "outputs": [
        {
          "output_type": "stream",
          "name": "stdout",
          "text": [
            "The sample sizes are different\n",
            "SS_between_i: 652.30\n"
          ]
        }
      ]
    },
    {
      "cell_type": "code",
      "source": [
        "#Step 3\n",
        "\n",
        "#Define a function to calculate the squared deviations for each diabetes group\n",
        "def squared_dev(group_data, group_mean):\n",
        "    return (group_data - group_mean) ** 2\n",
        "\n",
        "#Call the function above to calculate the squared deviations\n",
        "diabetes_0_sq_dev_i = squared_dev(df[df['Diabetes_012'] == 0]['Income'], diabetes_0_mean_i)\n",
        "diabetes_1_sq_dev_i = squared_dev(df[df['Diabetes_012'] == 1]['Income'], diabetes_1_mean_i)\n",
        "diabetes_2_sq_dev_i = squared_dev(df[df['Diabetes_012'] == 2]['Income'], diabetes_2_mean_i)\n",
        "\n",
        "#Calculate and print the SS_witing_i by summing the squared deviations for each group\n",
        "ss_within_i = sum(diabetes_0_sq_dev_i) + sum(diabetes_1_sq_dev_i) + sum(diabetes_2_sq_dev_i)\n",
        "print(f\"SS_within_i: {ss_within_i:.2f}\")"
      ],
      "metadata": {
        "colab": {
          "base_uri": "https://localhost:8080/"
        },
        "id": "eAk-Bx300iQB",
        "outputId": "106276a2-94ab-4f9f-b543-741b0642fd26"
      },
      "execution_count": null,
      "outputs": [
        {
          "output_type": "stream",
          "name": "stdout",
          "text": [
            "SS_within_i: 20042.16\n"
          ]
        }
      ]
    },
    {
      "cell_type": "code",
      "source": [
        "#Step 4\n",
        "\n",
        "#There are 3 diabetes groups (0 = no diabetes, 1 = prediabetes, 2 = diabetes)\n",
        "K = 3\n",
        "\n",
        "#degrees of freedom between the groups\n",
        "df_between_i = K - 1\n",
        "\n",
        "#Total observations in dataset\n",
        "n = len(df)\n",
        "\n",
        "#degrees of freedom within the groups\n",
        "df_within_i = n - K\n",
        "\n",
        "print(f\"degrees of freedom between groups: {df_between_i}\")\n",
        "print(f\"degrees of freedom within groups: {df_within_i}\")"
      ],
      "metadata": {
        "colab": {
          "base_uri": "https://localhost:8080/"
        },
        "id": "PneTVw1V0jTn",
        "outputId": "ea36749b-da46-4b18-ed2f-b6ff4533e093"
      },
      "execution_count": null,
      "outputs": [
        {
          "output_type": "stream",
          "name": "stdout",
          "text": [
            "degrees of freedom between groups: 2\n",
            "degrees of freedom within groups: 4997\n"
          ]
        }
      ]
    },
    {
      "cell_type": "code",
      "source": [
        "#Find the mean square between groups\n",
        "ms_between_i = ss_between_i / df_between_i\n",
        "\n",
        "#Find the mean square within groups\n",
        "ms_within_i = ss_within_i / df_within_i\n",
        "\n",
        "print(f\"Mean squares between: {ms_between_i:.2f}\")\n",
        "print(f\"Mean squares within: {ms_within_i:.2f}\")"
      ],
      "metadata": {
        "colab": {
          "base_uri": "https://localhost:8080/"
        },
        "id": "H3tV_U0D0nNY",
        "outputId": "55172163-00a6-49ea-83fa-3650cbdb4dec"
      },
      "execution_count": null,
      "outputs": [
        {
          "output_type": "stream",
          "name": "stdout",
          "text": [
            "Mean squares between: 326.15\n",
            "Mean squares within: 4.01\n"
          ]
        }
      ]
    },
    {
      "cell_type": "code",
      "source": [
        "#Calculate the f-statistic\n",
        "f = ms_between_i / ms_within_i\n",
        "\n",
        "print(f\"F-statistic: {f:.2f}\")"
      ],
      "metadata": {
        "colab": {
          "base_uri": "https://localhost:8080/"
        },
        "id": "0eVw_jQf0okP",
        "outputId": "eadf17cd-1de7-484e-c081-60e4c449ee0f"
      },
      "execution_count": null,
      "outputs": [
        {
          "output_type": "stream",
          "name": "stdout",
          "text": [
            "F-statistic: 81.32\n"
          ]
        }
      ]
    },
    {
      "cell_type": "code",
      "source": [
        "from scipy.stats import f_oneway\n",
        "\n",
        "#Calculate one-way ANOVA test\n",
        "f_statistic_i, p_value_i = f_oneway(df[df['Diabetes_012'] == 0]['Income'],\n",
        "                                df[df['Diabetes_012'] == 1]['Income'],\n",
        "                                df[df['Diabetes_012'] == 2]['Income'])\n",
        "\n",
        "print(f\"F-statistic: {f_statistic_i:.2f}\")\n",
        "print(f\"P-value: {p_value_i:.10f}\")"
      ],
      "metadata": {
        "colab": {
          "base_uri": "https://localhost:8080/"
        },
        "id": "lHdZkOTf0py5",
        "outputId": "cadeee21-5660-4965-bd35-dafe4ac3969b"
      },
      "execution_count": null,
      "outputs": [
        {
          "output_type": "stream",
          "name": "stdout",
          "text": [
            "F-statistic: 81.32\n",
            "P-value: 0.0000000000\n"
          ]
        }
      ]
    },
    {
      "cell_type": "markdown",
      "source": [
        "###Result Interpretation\n",
        "\n",
        "With a p-value of ~0, we can say with confidence that there is statistically significant evidence to reject the null hypothesis. These results suggest that diabetes is associated with a person's income. Practical analysis supports these conclusions because when using the data gathered on age vs diabetes, we found that older people tend to get diabetes more than younger people. We can connect this to income because older people may be retired or not working as much, so thei average income should tend to be lower for people with diabetes. The ANOVA test provides strong evidence through the f-statistic that there is variation between the groups of diabetes status when correlated to income, so the p-value's results can be applied to all diabetes statuses."
      ],
      "metadata": {
        "id": "7CZ2hYkQ0sBf"
      }
    },
    {
      "cell_type": "markdown",
      "source": [
        "#Question 2\n",
        "\n",
        "###Null Hypothesis: There is no significant difference in diabetes rates for people who eat healthy food.\n",
        "$H_o$: $\\mu_{\\text{Diabetes rates while eating healthy food}}$ = $\\mu_{\\text{Diabetes rates}}$\n",
        "\n",
        "###Alternative Hypothesis: People who eat healthy food have significantly lower rates of diabetes compared to people who don't eat healthy foods.\n",
        "$H_a$: $\\mu_{\\text{Diabetes rates while eating healthy food}}$ > $\\mu_{\\text{Diabetes rates}}$ \\\n",
        "$H_a$: $\\mu_{\\text{Diabetes rates while eating healthy food}}$ < $\\mu_{\\text{Diabetes rates}}$ \\\n",
        "$H_a$: $\\mu_{\\text{Diabetes rates while eating healthy food}}$ != $\\mu_{\\text{Diabetes rates}}$"
      ],
      "metadata": {
        "id": "wMqSUUUz0vTA"
      }
    },
    {
      "cell_type": "markdown",
      "source": [
        "###Why ANOVA and not t-test or z-test?\n",
        "\n",
        "T-test: This is used when comparing the means of two groups. If `Income` had only two categories, a t-test would be appropriate. However, since you have more than two categories to compare (0 = none, 1 = either fruits or veggies, 2 = both fruits and veggies), using multiple t-tests can increase the likelihood of committing a Type I error (false positive). This is due to the problem of multiple comparisons where, as you conduct more tests, the chance of finding at least one significant result due to chance increases.\n",
        "\n",
        "Z-test: This is typically used when comparing sample and population means, or when comparing the means of two groups, provided the sample sizes are large and the population variances are known. Z-tests are less common in practice when population parameters are unknown, which is usually the case in such analyses.\n",
        "\n",
        "For comparing means across more than two groups, the correct approach is ANOVA, as it simultaneously compares the means of all groups to assess whether there is a statistically significant difference among them. ANOVA is designed to handle the issue of multiple comparisons appropriately by testing the null hypothesis that all group means are equal. If the ANOVA indicates that there is a significant difference, you would then follow up with a post-hoc test (like Tukey's HSD) to determine exactly which groups' means are significantly different from each other.\n",
        "\n",
        "In this case, ANOVA is the correct test to apply for the comparison. We don't have any specific pairs of groups to compare, so a one-way ANOVA test would work best in this case."
      ],
      "metadata": {
        "id": "e9NpjW5U0xVk"
      }
    },
    {
      "cell_type": "markdown",
      "source": [
        "###ANOVA Test"
      ],
      "metadata": {
        "id": "wOlqRQy700yF"
      }
    },
    {
      "cell_type": "code",
      "source": [
        "#Step 1\n",
        "\n",
        "#Calculate healthy food consumption for each diabetes category\n",
        "diabetes_0_mean_fv = df[df['Diabetes_012'] == 0]['fruits_and_veggies'].mean()\n",
        "diabetes_1_mean_fv = df[df['Diabetes_012'] == 1]['fruits_and_veggies'].mean()\n",
        "diabetes_2_mean_fv = df[df['Diabetes_012'] == 2]['fruits_and_veggies'].mean()\n",
        "\n",
        "#Calculate the grand mean of fruit and veggie consumption accross all daibetes categories\n",
        "grand_mean_fv = df['fruits_and_veggies'].mean()\n",
        "\n",
        "#Print out rounded means to two decimal accuracy\n",
        "print(f\"Diabetes Category 0 mean Fruit and Veggie Consumption: {diabetes_0_mean_fv:.2f}\")\n",
        "print(f\"Diabetes Category 1 mean Fruit and Veggie Consumption: {diabetes_1_mean_fv:.2f}\")\n",
        "print(f\"Diabetes Category 2 mean Fruit and Veggie Consumption: {diabetes_2_mean_fv:.2f}\")\n",
        "print(f\"Grand Mean Fruit and Veggie Consumption: {grand_mean_fv:.2f}\")"
      ],
      "metadata": {
        "colab": {
          "base_uri": "https://localhost:8080/"
        },
        "id": "3SgaHJAl07_v",
        "outputId": "e725dc0c-491b-45c5-9eed-5af1ebd0cf9e"
      },
      "execution_count": null,
      "outputs": [
        {
          "output_type": "stream",
          "name": "stdout",
          "text": [
            "Diabetes Category 0 mean Fruit and Veggie Consumption: 1.45\n",
            "Diabetes Category 1 mean Fruit and Veggie Consumption: 1.26\n",
            "Diabetes Category 2 mean Fruit and Veggie Consumption: 1.41\n",
            "Grand Mean Fruit and Veggie Consumption: 1.44\n"
          ]
        }
      ]
    },
    {
      "cell_type": "code",
      "source": [
        "#Step 2\n",
        "\n",
        "#Determine if the sample sizes of the different diabetes categories are the same\n",
        "same = len(df[df['Diabetes_012'] == 0]) == len(df[df['Diabetes_012'] == 1]) == len(df[df['Diabetes_012'] == 2])\n",
        "\n",
        "if same:\n",
        "    print('The sample sizes are the same')\n",
        "else:\n",
        "    print('The sample sizes are different')\n",
        "\n",
        "#Determine the number of obvservations for each diabetes catergory\n",
        "n_1 = len(df[df['Diabetes_012'] == 0])\n",
        "n_2 = len(df[df['Diabetes_012'] == 1])\n",
        "n_3 = len(df[df['Diabetes_012'] == 2])\n",
        "\n",
        "#Calculate the squared deviations for each mean of fruit and veggie consumption for each diabetes catergoy compared to the grand mean\n",
        "sq_dev_1_fv = (diabetes_0_mean_fv - grand_mean_fv) ** 2\n",
        "sq_dev_2_fv = (diabetes_1_mean_fv - grand_mean_fv) ** 2\n",
        "sq_dev_3_fv = (diabetes_2_mean_fv - grand_mean_fv) ** 2\n",
        "\n",
        "#Calculate and print the SS_between_fv for different sample size for each category\n",
        "ss_between_fv = (n_1 * sq_dev_1_fv + n_2 * sq_dev_2_fv + n_3 * sq_dev_3_fv)\n",
        "print(f\"SS_between_fv: {ss_between_fv:.2f}\")"
      ],
      "metadata": {
        "colab": {
          "base_uri": "https://localhost:8080/"
        },
        "id": "UIY7x1aR09Uj",
        "outputId": "875ce8c2-945c-4501-a043-f5ba48dc488c"
      },
      "execution_count": null,
      "outputs": [
        {
          "output_type": "stream",
          "name": "stdout",
          "text": [
            "The sample sizes are different\n",
            "SS_between_fv: 4.57\n"
          ]
        }
      ]
    },
    {
      "cell_type": "code",
      "source": [
        "#Step 3\n",
        "\n",
        "#Define a function to calculate the squared deviations for each diabetes group\n",
        "def squared_dev(group_data, group_mean):\n",
        "    return (group_data - group_mean) ** 2\n",
        "\n",
        "#Call the function above to calculate the squared deviations\n",
        "diabetes_0_sq_dev_fv = squared_dev(df[df['Diabetes_012'] == 0]['fruits_and_veggies'], diabetes_0_mean_fv)\n",
        "diabetes_1_sq_dev_fv = squared_dev(df[df['Diabetes_012'] == 1]['fruits_and_veggies'], diabetes_1_mean_fv)\n",
        "diabetes_2_sq_dev_fv = squared_dev(df[df['Diabetes_012'] == 2]['fruits_and_veggies'], diabetes_2_mean_fv)\n",
        "\n",
        "#Calculate and print the SS_witing_fv by summing the squared deviations for each group\n",
        "ss_within_fv = sum(diabetes_0_sq_dev_fv) + sum(diabetes_1_sq_dev_fv) + sum(diabetes_2_sq_dev_fv)\n",
        "print(f\"SS_within_fv: {ss_within_fv:.2f}\")"
      ],
      "metadata": {
        "colab": {
          "base_uri": "https://localhost:8080/"
        },
        "id": "8xXSojVH0-nF",
        "outputId": "e7b253d7-ffbb-4f5b-a51f-3d195ed51c51"
      },
      "execution_count": null,
      "outputs": [
        {
          "output_type": "stream",
          "name": "stdout",
          "text": [
            "SS_within_fv: 2369.53\n"
          ]
        }
      ]
    },
    {
      "cell_type": "code",
      "source": [
        "#Step 4\n",
        "\n",
        "#There are 3 diabetes groups (0 = no diabetes, 1 = prediabetes, 2 = diabetes)\n",
        "K = 3\n",
        "\n",
        "#degrees of freedom between the groups\n",
        "df_between_fv = K - 1\n",
        "\n",
        "#Total observations in dataset\n",
        "n = len(df)\n",
        "\n",
        "#degrees of freedom within the groups\n",
        "df_within_fv = n - K\n",
        "\n",
        "print(f\"degrees of freedom between groups: {df_between_fv}\")\n",
        "print(f\"degrees of freedom within groups: {df_within_fv}\")"
      ],
      "metadata": {
        "colab": {
          "base_uri": "https://localhost:8080/"
        },
        "id": "mCVMXlqf0_8G",
        "outputId": "849a29ba-9541-4f3c-c764-28d230cd8000"
      },
      "execution_count": null,
      "outputs": [
        {
          "output_type": "stream",
          "name": "stdout",
          "text": [
            "degrees of freedom between groups: 2\n",
            "degrees of freedom within groups: 4997\n"
          ]
        }
      ]
    },
    {
      "cell_type": "code",
      "source": [
        "#Find the mean square between groups\n",
        "ms_between_fv = ss_between_fv / df_between_fv\n",
        "\n",
        "#Find the mean square within groups\n",
        "ms_within_fv = ss_within_fv / df_within_fv\n",
        "\n",
        "print(f\"Mean squares between: {ms_between_fv:.2f}\")\n",
        "print(f\"Mean squares within: {ms_within_fv:.2f}\")"
      ],
      "metadata": {
        "colab": {
          "base_uri": "https://localhost:8080/"
        },
        "id": "htpZdw-o1BB-",
        "outputId": "c8b080dd-d5fd-4af1-ba23-9203cab0627e"
      },
      "execution_count": null,
      "outputs": [
        {
          "output_type": "stream",
          "name": "stdout",
          "text": [
            "Mean squares between: 2.28\n",
            "Mean squares within: 0.47\n"
          ]
        }
      ]
    },
    {
      "cell_type": "code",
      "source": [
        "#Calculate the f-statistic\n",
        "f = ms_between_fv / ms_within_fv\n",
        "\n",
        "print(f\"F-statistic: {f:.2f}\")"
      ],
      "metadata": {
        "colab": {
          "base_uri": "https://localhost:8080/"
        },
        "id": "EcR6C2Iu1B6b",
        "outputId": "777b82b6-9543-4bef-9922-b3a9d1f470a3"
      },
      "execution_count": null,
      "outputs": [
        {
          "output_type": "stream",
          "name": "stdout",
          "text": [
            "F-statistic: 4.81\n"
          ]
        }
      ]
    },
    {
      "cell_type": "code",
      "source": [
        "#Calculate one-way ANOVA test\n",
        "f_statistic_fv, p_value_fv = f_oneway(df[df['Diabetes_012'] == 0]['fruits_and_veggies'],\n",
        "                                df[df['Diabetes_012'] == 1]['fruits_and_veggies'],\n",
        "                                df[df['Diabetes_012'] == 2]['fruits_and_veggies'])\n",
        "\n",
        "print(f\"F-statistic: {f_statistic_fv:.2f}\")\n",
        "print(f\"P-value: {p_value_fv:.4f}\")"
      ],
      "metadata": {
        "colab": {
          "base_uri": "https://localhost:8080/"
        },
        "id": "ap47aDUb1C4b",
        "outputId": "a324da75-ca87-426d-b690-d5279bf1eaba"
      },
      "execution_count": null,
      "outputs": [
        {
          "output_type": "stream",
          "name": "stdout",
          "text": [
            "F-statistic: 4.81\n",
            "P-value: 0.0081\n"
          ]
        }
      ]
    },
    {
      "cell_type": "markdown",
      "source": [
        "###Result Interpretation\n",
        "\n",
        "With a p-value of 0.0081, we can confidently say that there is statistically significant evidence to reject the null hypothesis. These results suggest that diabetes is associated with the consumption of fruits and vegetables. Practical analysis supports these conclusions as people who consume healthy food like fruits and vegetables every day are less likely to have unheahtly habits that can lead to diabetes. The ANOVA test provides strong evidence through the f-statistic that there is variation between the groups of diabetes status when correlated to healthy food consumption, so the p-value's results can be applied to all diabetes statuses."
      ],
      "metadata": {
        "id": "TcgV2OZc1Ee6"
      }
    },
    {
      "cell_type": "code",
      "source": [
        "from scipy.stats import pearsonr\n",
        "\n",
        "# Correlation between Income and Diabetes Status\n",
        "correlation_i_diabetes, p_value_i_diabetes = pearsonr(df['Income'], df['Diabetes_012'])\n",
        "\n",
        "# Correlation between Fruit and Vegetable Consumption and Diabetes Status\n",
        "correlation_fv_diabetes, p_value_fv_diabetes = pearsonr(df['fruits_and_veggies'], df['Diabetes_012'])\n",
        "\n",
        "# Print the results\n",
        "print(f\"Pearson Correlation (Income and Diabetes Status): {correlation_i_diabetes:.4f}, P-value: {p_value_i_diabetes:.4f}\")\n",
        "print(f\"Pearson Correlation (Fruit and Vegetable Consumption and Diabetes Status): {correlation_fv_diabetes:.4f}, P-value: {p_value_fv_diabetes:.4f}\")"
      ],
      "metadata": {
        "colab": {
          "base_uri": "https://localhost:8080/"
        },
        "id": "dWRYmMkj1K7p",
        "outputId": "9f2ad927-6fef-4e73-9196-f86f5585129e"
      },
      "execution_count": null,
      "outputs": [
        {
          "output_type": "stream",
          "name": "stdout",
          "text": [
            "Pearson Correlation (Income and Diabetes Status): -0.1671, P-value: 0.0000\n",
            "Pearson Correlation (Fruit and Vegetable Consumption and Diabetes Status): -0.0278, P-value: 0.0493\n"
          ]
        }
      ]
    },
    {
      "cell_type": "markdown",
      "source": [
        "#Question 3\n",
        "\n",
        "###Null Hypothesis: People with and without diabetes have the same general health levels.\n",
        "$H_o$: $\\mu_{\\text{General health of non diabetic people}}$ = $\\mu_{\\text{General health of diabetic people}}$\n",
        "\n",
        "###Alternative Hypothesis: People that don't have diabetes have a different general health level than people with diabetes.\n",
        "$H_a$: $\\mu_{\\text{General health of non diabetic people}}$ > $\\mu_{\\text{General health of diabetic people}}$ \\\n",
        "$H_a$: $\\mu_{\\text{General health of non diabetic people}}$ < $\\mu_{\\text{General health of diabetic people}}$ \\\n",
        "$H_a$: $\\mu_{\\text{General health of non diabetic people}}$ != $\\mu_{\\text{General health of diabetic people}}$"
      ],
      "metadata": {
        "id": "4fLhwRbb1PSE"
      }
    },
    {
      "cell_type": "markdown",
      "source": [
        "###Why t-test and not z-test or ANOVA test?\n",
        "\n",
        "Z-test: This is typically used when comparing sample and population means, or when comparing the means of two groups, provided the sample sizes are large and the population variances are known. Z-tests are less common in practice when population parameters are unknown, which is usually the case in such analyses.\n",
        "\n",
        "ANOVA: This test is used for comparing means across more than two groups. It simultaneously compares the means of all groups to assess whether there is a statistically significant difference among them. ANOVA is designed to handle the issue of multiple comparisons appropriately by testing the null hypothesis that all group means are equal. If the ANOVA indicates that there is a significant difference, you would then follow up with a post-hoc test (like Tukey's HSD) to determine exactly which groups' means are significantly different from each other.\n",
        "\n",
        "T-test: This is used when comparing the populations means of two groups. Since we are only comparing people with diabetes and people without diabetes, this method is the best for this case.\n",
        "\n",
        "In this case, a t-test, and more specifically a two-sample t-test, is the correct test to apply for the comparison. This test is the most accurate because we are comparing two population means to see if there is a difference between them."
      ],
      "metadata": {
        "id": "1yop0jjg1RJB"
      }
    },
    {
      "cell_type": "markdown",
      "source": [
        "###Two-Sample T-Test"
      ],
      "metadata": {
        "id": "IwbTw6_N1TG-"
      }
    },
    {
      "cell_type": "code",
      "source": [
        "#Create new groups for the samples of people with or without diabetes\n",
        "nd = df[df['Diabetes_012'] == 0]\n",
        "d = df[df['Diabetes_012'] == 2]"
      ],
      "metadata": {
        "id": "YJyTklST1UO8"
      },
      "execution_count": null,
      "outputs": []
    },
    {
      "cell_type": "code",
      "source": [
        "from scipy.stats import ttest_ind\n",
        "\n",
        "#Use ttest_ind function from scipy.stats to get the results of t-test\n",
        "gh_result = ttest_ind(nd['GenHlth'], d['GenHlth'])"
      ],
      "metadata": {
        "id": "GuU7UrTQ1VNu"
      },
      "execution_count": null,
      "outputs": []
    },
    {
      "cell_type": "code",
      "source": [
        "#Print the p-value\n",
        "print(f\"P-Value: {gh_result.pvalue:.6f}\")\n",
        "\n",
        "#Print the t-statistic\n",
        "print(f\"T-Statistic: {gh_result.statistic:.2f}\")\n",
        "\n",
        "#Print the degrees of freedom\n",
        "print(f\"Degrees of Freedom: {gh_result.df}\")"
      ],
      "metadata": {
        "colab": {
          "base_uri": "https://localhost:8080/"
        },
        "id": "OxcIwEaP1WIX",
        "outputId": "9e1d3569-5108-4592-f92c-586f4f165c48"
      },
      "execution_count": null,
      "outputs": [
        {
          "output_type": "stream",
          "name": "stdout",
          "text": [
            "P-Value: 0.000000\n",
            "T-Statistic: -22.09\n",
            "Degrees of Freedom: 4896.0\n"
          ]
        }
      ]
    },
    {
      "cell_type": "code",
      "source": [
        "#Create new dataframe that only contains values for people with or without diabetes (no prediabetes)\n",
        "filtered_df = df[df['Diabetes_012'].isin([0.0, 2.0])]"
      ],
      "metadata": {
        "id": "zaM6iSOj1XIG"
      },
      "execution_count": null,
      "outputs": []
    },
    {
      "cell_type": "code",
      "source": [
        "import seaborn as sns\n",
        "import matplotlib.pyplot as plt\n",
        "\n",
        "#Plot Boxplots for general health of people with or without diabetes\n",
        "sns.boxplot(x='Diabetes_012', y='GenHlth', data=filtered_df)\n",
        "\n",
        "plt.title('Box Plot of General Health for People with and Without Diabetes')\n",
        "plt.xlabel('Diabetes Category')\n",
        "plt.ylabel('General Health')\n",
        "plt.xticks(ticks=[0, 1], labels=['No Diabetes', 'Diabetes'])\n",
        "\n",
        "plt.show()"
      ],
      "metadata": {
        "colab": {
          "base_uri": "https://localhost:8080/",
          "height": 472
        },
        "id": "ViX69pIO1Y8g",
        "outputId": "a598d039-ff24-4f88-be64-d310a4cd2cd3"
      },
      "execution_count": null,
      "outputs": [
        {
          "output_type": "display_data",
          "data": {
            "text/plain": [
              "<Figure size 640x480 with 1 Axes>"
            ],
            "image/png": "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\n"
          },
          "metadata": {}
        }
      ]
    },
    {
      "cell_type": "markdown",
      "source": [
        "###Result Interpretation\n",
        "\n",
        "With a p-value of ~0, we can state with confidence that there is statistically significant evidence to reject the null hypothesis. The results suggest that people with diabetes have a different general health level compared to people without diabetes. Practical analysis supports these results obtained as\n",
        "\n",
        "With a p-value of 0.0081, we can confidently say that there is statistically significant evidence to reject the null hypothesis. These results suggest that diabetes is associated with the consumption of fruits and vegetables. Practical analysis supports these conclusions as people who consume healthy food like fruits and vegetables every day are less likely to have unheahtly habits that can lead to diabetes. The ANOVA test provides strong evidence through the f-statistic that there is variation between the groups of diabetes status when correlated to healthy food consumption, so the p-value's results can be applied to all diabetes statuses."
      ],
      "metadata": {
        "id": "MdImeQZh1alD"
      }
    },
    {
      "cell_type": "markdown",
      "source": [
        "#Conclusion\n",
        "\n",
        "#From ANOVA on BMI and Diabetes Status:\n",
        "The ANOVA results with a high F-statistic and a practically zero p-value strongly reject the null hypothesis, indicating significant differences in mean BMI across the diabetes categories. This suggests a likely association between BMI and diabetes status, consistent with the understanding that higher BMI can increase the risk for prediabetes and diabetes\n",
        "Since these analyses show association, not causation, further research could involve longitudinal studies to explore causal relationships\n",
        "\n",
        "#From ANOVA on Age and Diabetes Status:\n",
        "\n",
        "Similarly, the ANOVA conducted on age categories and diabetes status reveals a significant difference in mean ages across the groups. The results indicate that age may be a relevant factor in diabetes status, aligning with the idea that the risk of diabetes can increase with age.\n",
        "\n",
        "#From Pearson Correlation Analyses:\n",
        "\n",
        "The weak positive correlations between both BMI and age with diabetes status, along with their significant p-values, suggest that as BMI and age increase, the likelihood of higher diabetes status increases. These results reinforce the findings from the ANOVAs.\n",
        "\n",
        "#From ANOVA on Income and Diabetes Status:\n",
        "The ANOVA results produced a high f-statistic and a p-value of close to 0, therefore we can reject the null hypothesis. This means that there is a significant difference in the Income between the 3 diabetes categories. This suggests an association between the two variables that is reinforced by the fact that older people tend to get diabetes more, and they also work less, so that could be why the income is less.\n",
        "\n",
        "#From ANOVA on Diet and Diabetes Status:\n",
        "The ANOVA results produced a low f-statistic and a p-value of 0.0081, therefore we have significanty significant evidence to reject the null hypothesis. This means that there is a significant difference in the fruit and vegetable consumption between the 3 diabetes categories. This suggests an association between the two variables. A practical analysis supports this as we found that people without diabetes tend to eat more fruits and vegetables, and this makes sense as healthier people are less likely to have unhealhty habits that lead to diabetes\n",
        "\n",
        "#From T-test on General Health and Diabetes Status:\n",
        "The t-test results produced a p-value of close to 0 and a t-statistic of -22.09. This means that we have statistically significant evidence to reject the null hypothesis. This means that the population means for general health are significantly different between people with and without diabetes. This result was actually a surprise to us are people with diabetes tend to have higher general health scores. We inferred that this could be because people with diabetes are trying to improve their overall health when they know they are susceptible to things like diabetes.\n",
        "\n",
        "#Insights and Decisions:\n",
        "The consistent statistical significance across tests implies that both BMI and age are important factors to consider in diabetes risk assessment.\n",
        "Since these analyses show association, not causation, further research could involve longitudinal studies to explore causal relationships.\n",
        "Interventions aimed at managing BMI could be prioritized as part of diabetes prevention and management strategies.\n",
        "Age-related factors should be considered in diabetes risk models, potentially leading to age-specific interventions.\n",
        "\n",
        "#Future Directions:\n",
        "Investigating other potential risk factors like diet, physical activity, and genetic predisposition could provide a more comprehensive understanding of diabetes risk.\n",
        "Advanced modeling techniques (like multivariate regression, or machine learning) could be employed to account for the interaction between various risk factors.\n",
        "\n",
        "#Areas for Improvement:\n",
        "A more in-depth analysis to identify which specific categories within the diabetes status groups differ from each other would be beneficial.\n",
        "Including a broader range of demographic variables might reveal more nuanced relationships and risk factors associated with diabetes."
      ],
      "metadata": {
        "id": "f_l3AIoH15JB"
      }
    }
  ]
}
